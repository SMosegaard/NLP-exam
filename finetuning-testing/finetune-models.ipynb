{
 "cells": [
  {
   "cell_type": "markdown",
   "metadata": {},
   "source": [
    "Finetune the BERT on the 3 data variations:\n",
    "- Original data: Fine-tune using original_train.csv.\n",
    "- Neutral data: Fine-tune using neutral_train.csv.\n",
    "- Balanced (mix) data: Fine-tune using mix_train.csv.\n",
    "\n",
    "In the end, I'll have 3 finetuned models\n",
    "- One trained on the original data\n",
    "- One trained on the neutral data\n",
    "- One trained on the balanced (mix) data\n",
    "\n",
    "\n",
    "...\n",
    "\n",
    "After finetuning, the next step is to test each of these models."
   ]
  },
  {
   "cell_type": "code",
   "execution_count": null,
   "metadata": {},
   "outputs": [],
   "source": [
    "#pip install torch pandas numpy scikit-learn transformers tqdm deep_translator seaborn matplot optuna"
   ]
  },
  {
   "cell_type": "code",
   "execution_count": 10,
   "metadata": {},
   "outputs": [],
   "source": [
    "import os\n",
    "import sys\n",
    "import torch\n",
    "import pandas as pd\n",
    "import numpy as np\n",
    "import pickle\n",
    "import random\n",
    "\n",
    "from sklearn.metrics import accuracy_score, recall_score, precision_score, f1_score\n",
    "from sklearn.model_selection import train_test_split\n",
    "from sklearn.utils import shuffle\n",
    "\n",
    "from torch.utils.data import TensorDataset, DataLoader, RandomSampler, SequentialSampler, random_split\n",
    "from torch.optim import lr_scheduler\n",
    "import torch.nn as nn\n",
    "\n",
    "from transformers import AdamW, get_linear_schedule_with_warmup, get_scheduler\n",
    "from transformers import AutoTokenizer, AutoModelForMaskedLM, AutoModelForTokenClassification, AutoModelForSequenceClassification\n",
    "\n",
    "from collections import Counter\n",
    "from tqdm import tqdm\n",
    "\n",
    "from deep_translator import GoogleTranslator\n",
    "\n",
    "import seaborn as sns\n",
    "import matplotlib.pyplot as plt\n",
    "\n",
    "import optuna\n"
   ]
  },
  {
   "cell_type": "code",
   "execution_count": null,
   "metadata": {},
   "outputs": [],
   "source": []
  },
  {
   "cell_type": "code",
   "execution_count": 27,
   "metadata": {},
   "outputs": [],
   "source": [
    "# tuning test\n",
    "\n",
    "# https://www.geeksforgeeks.org/hyperparameter-tuning-with-optuna-in-pytorch/\n",
    "\n",
    "def objective(trial):\n",
    "\n",
    "    # Hyperparameters to tune\n",
    "    lr = trial.suggest_loguniform('lr', 5e-5, 1e-3)\n",
    "    batch_size = trial.suggest_categorical('batch_size', [8, 16])\n",
    "    dropout_rate = trial.suggest_uniform('dropout', 0.1, 0.5)\n",
    "    num_epochs = trial.suggest_int('epochs', 2, 15)\n",
    "\n",
    "    # load data\n",
    "    train_file = \"/work/SofieNørboMosegaard#5741/NLP/NLP-exam/data_2/original_train.csv\"\n",
    "    train_text, train_labels = load_data(train_file)\n",
    "\n",
    "    # Tokenizer\n",
    "    tokenizer = AutoTokenizer.from_pretrained(\"vesteinn/DanskBERT\")\n",
    "\n",
    "    # Model\n",
    "    model = AutoModelForSequenceClassification.from_pretrained(\"vesteinn/DanskBERT\", num_labels = 2)\n",
    "    model.classifier = nn.Sequential(nn.Dropout(dropout_rate), model.classifier)\n",
    "\n",
    "    device = torch.device(\"cuda\" if torch.cuda.is_available() else \"cpu\")\n",
    "    model.to(device)\n",
    "\n",
    "    # Tokenize and prepare data\n",
    "    input_ids, attention_masks, labels = tokenize_data(train_text, train_labels, tokenizer)\n",
    "    dataset = TensorDataset(input_ids, attention_masks, labels)\n",
    "    train_dataset, val_dataset = train_test_split(dataset, test_size = 0.2, stratify = labels)\n",
    "\n",
    "    train_dataloader = DataLoader(train_dataset, batch_size = batch_size, shuffle = True)\n",
    "    validation_dataloader = DataLoader(val_dataset, batch_size = batch_size)\n",
    "\n",
    "    # Optimizer and Scheduler\n",
    "    optimizer = AdamW(model.parameters(), lr = lr, eps = 1e-8, weight_decay = 0.01)\n",
    "    total_steps = len(train_dataloader) * num_epochs\n",
    "    scheduler = get_linear_schedule_with_warmup(optimizer, num_warmup_steps = 0.1 * total_steps, num_training_steps = total_steps)\n",
    "\n",
    "    # Training Loop\n",
    "\n",
    "    best_val_loss = float(\"inf\")\n",
    "\n",
    "    for epoch in range(num_epochs):\n",
    "        print(f\"Epoch {epoch + 1} / {num_epochs}\")\n",
    "\n",
    "        model.train()\n",
    "        total_train_loss = 0\n",
    "        \n",
    "        train_iterator = tqdm(enumerate(train_dataloader), total = len(train_dataloader), desc = \"Training\")\n",
    "        for batch in train_dataloader:\n",
    "            \n",
    "            b_input_ids = batch[0].to(device)\n",
    "            b_input_mask = batch[1].to(device)\n",
    "            b_labels = batch[2].to(device)\n",
    "\n",
    "            optimizer.zero_grad()\n",
    "\n",
    "            result = model(b_input_ids, attention_mask = b_input_mask, labels = b_labels)\n",
    "            loss = result.loss\n",
    "            total_train_loss += loss.item()\n",
    "\n",
    "            loss.backward()\n",
    "            torch.nn.utils.clip_grad_norm_(model.parameters(), 1.0)\n",
    "            optimizer.step()\n",
    "            scheduler.step()\n",
    "\n",
    "\n",
    "        # Validation\n",
    "        print(\"Running Validation...\")\n",
    "        model.eval()\n",
    "        total_val_loss = 0\n",
    "\n",
    "        for batch in tqdm(validation_dataloader, desc = \"Validation\"):\n",
    "            b_input_ids = batch[0].to(device)\n",
    "            b_input_mask = batch[1].to(device)\n",
    "            b_labels = batch[2].to(device)\n",
    "\n",
    "            with torch.no_grad():\n",
    "                result = model(b_input_ids, attention_mask = b_input_mask, labels = b_labels)\n",
    "                loss = result.loss\n",
    "                total_val_loss += loss.item()\n",
    "\n",
    "    avg_val_loss = total_val_loss / len(validation_dataloader)\n",
    "\n",
    "    # Save the best validation loss\n",
    "    if avg_val_loss < best_val_loss:\n",
    "        best_val_loss = avg_val_loss\n",
    "\n",
    "    trial.report(avg_val_loss, epoch)\n",
    "\n",
    "    # suggest whether to end the current hyperparameter trail (works like early stopping)\n",
    "    if trial.should_prune():\n",
    "        raise optuna.exceptions.TrialPruned()\n",
    "\n",
    "\n",
    "    return best_val_loss\n"
   ]
  },
  {
   "cell_type": "code",
   "execution_count": 28,
   "metadata": {},
   "outputs": [
    {
     "name": "stderr",
     "output_type": "stream",
     "text": [
      "[I 2024-12-10 15:26:21,491] A new study created in memory with name: no-name-258a1177-4868-403d-8b70-8d23ad21fe26\n",
      "/tmp/ipykernel_2937/1933620156.py:8: FutureWarning: suggest_loguniform has been deprecated in v3.0.0. This feature will be removed in v6.0.0. See https://github.com/optuna/optuna/releases/tag/v3.0.0. Use suggest_float(..., log=True) instead.\n",
      "  lr = trial.suggest_loguniform('lr', 5e-5, 1e-3)\n",
      "/tmp/ipykernel_2937/1933620156.py:10: FutureWarning: suggest_uniform has been deprecated in v3.0.0. This feature will be removed in v6.0.0. See https://github.com/optuna/optuna/releases/tag/v3.0.0. Use suggest_float instead.\n",
      "  dropout_rate = trial.suggest_uniform('dropout', 0.1, 0.5)\n",
      "Some weights of XLMRobertaForSequenceClassification were not initialized from the model checkpoint at vesteinn/DanskBERT and are newly initialized: ['classifier.dense.bias', 'classifier.dense.weight', 'classifier.out_proj.bias', 'classifier.out_proj.weight']\n",
      "You should probably TRAIN this model on a down-stream task to be able to use it for predictions and inference.\n",
      "/home/ucloud/.local/lib/python3.12/site-packages/transformers/optimization.py:591: FutureWarning: This implementation of AdamW is deprecated and will be removed in a future version. Use the PyTorch implementation torch.optim.AdamW instead, or set `no_deprecation_warning=True` to disable this warning\n",
      "  warnings.warn(\n"
     ]
    },
    {
     "name": "stdout",
     "output_type": "stream",
     "text": [
      "Epoch 1 / 3\n"
     ]
    },
    {
     "name": "stderr",
     "output_type": "stream",
     "text": [
      "Training:   0%|          | 0/1 [00:00<?, ?it/s][W 2024-12-10 15:26:56,528] Trial 0 failed with parameters: {'lr': 5.725141722875417e-05, 'batch_size': 16, 'dropout': 0.19543653356279336, 'epochs': 3} because of the following error: KeyboardInterrupt().\n",
      "Traceback (most recent call last):\n",
      "  File \"/home/ucloud/.local/lib/python3.12/site-packages/optuna/study/_optimize.py\", line 197, in _run_trial\n",
      "    value_or_values = func(trial)\n",
      "                      ^^^^^^^^^^^\n",
      "  File \"/tmp/ipykernel_2937/1933620156.py\", line 63, in objective\n",
      "    loss.backward()\n",
      "  File \"/home/ucloud/.local/lib/python3.12/site-packages/torch/_tensor.py\", line 581, in backward\n",
      "    torch.autograd.backward(\n",
      "  File \"/home/ucloud/.local/lib/python3.12/site-packages/torch/autograd/__init__.py\", line 347, in backward\n",
      "    _engine_run_backward(\n",
      "  File \"/home/ucloud/.local/lib/python3.12/site-packages/torch/autograd/graph.py\", line 825, in _engine_run_backward\n",
      "    return Variable._execution_engine.run_backward(  # Calls into the C++ engine to run the backward pass\n",
      "           ^^^^^^^^^^^^^^^^^^^^^^^^^^^^^^^^^^^^^^^^^^^^^^^^^^^^^^^^^^^^^^^^^^^^^^^^^^^^^^^^^^^^^^^^^^^^^^\n",
      "KeyboardInterrupt\n",
      "[W 2024-12-10 15:26:56,531] Trial 0 failed with value None.\n"
     ]
    },
    {
     "ename": "KeyboardInterrupt",
     "evalue": "",
     "output_type": "error",
     "traceback": [
      "\u001b[0;31m---------------------------------------------------------------------------\u001b[0m",
      "\u001b[0;31mKeyboardInterrupt\u001b[0m                         Traceback (most recent call last)",
      "Cell \u001b[0;32mIn[28], line 4\u001b[0m\n\u001b[1;32m      1\u001b[0m \u001b[38;5;28;01mif\u001b[39;00m \u001b[38;5;18m__name__\u001b[39m \u001b[38;5;241m==\u001b[39m \u001b[38;5;124m\"\u001b[39m\u001b[38;5;124m__main__\u001b[39m\u001b[38;5;124m\"\u001b[39m:\n\u001b[1;32m      3\u001b[0m     study \u001b[38;5;241m=\u001b[39m optuna\u001b[38;5;241m.\u001b[39mcreate_study(direction \u001b[38;5;241m=\u001b[39m \u001b[38;5;124m\"\u001b[39m\u001b[38;5;124mminimize\u001b[39m\u001b[38;5;124m\"\u001b[39m)\n\u001b[0;32m----> 4\u001b[0m     \u001b[43mstudy\u001b[49m\u001b[38;5;241;43m.\u001b[39;49m\u001b[43moptimize\u001b[49m\u001b[43m(\u001b[49m\u001b[43mobjective\u001b[49m\u001b[43m,\u001b[49m\u001b[43m \u001b[49m\u001b[43mn_trials\u001b[49m\u001b[43m \u001b[49m\u001b[38;5;241;43m=\u001b[39;49m\u001b[43m \u001b[49m\u001b[38;5;241;43m10\u001b[39;49m\u001b[43m)\u001b[49m\n\u001b[1;32m      6\u001b[0m     \u001b[38;5;28mprint\u001b[39m(\u001b[38;5;124m\"\u001b[39m\u001b[38;5;124mBest Hyperparameters:\u001b[39m\u001b[38;5;124m\"\u001b[39m, study\u001b[38;5;241m.\u001b[39mbest_params)\n",
      "File \u001b[0;32m~/.local/lib/python3.12/site-packages/optuna/study/study.py:475\u001b[0m, in \u001b[0;36mStudy.optimize\u001b[0;34m(self, func, n_trials, timeout, n_jobs, catch, callbacks, gc_after_trial, show_progress_bar)\u001b[0m\n\u001b[1;32m    373\u001b[0m \u001b[38;5;28;01mdef\u001b[39;00m \u001b[38;5;21moptimize\u001b[39m(\n\u001b[1;32m    374\u001b[0m     \u001b[38;5;28mself\u001b[39m,\n\u001b[1;32m    375\u001b[0m     func: ObjectiveFuncType,\n\u001b[0;32m   (...)\u001b[0m\n\u001b[1;32m    382\u001b[0m     show_progress_bar: \u001b[38;5;28mbool\u001b[39m \u001b[38;5;241m=\u001b[39m \u001b[38;5;28;01mFalse\u001b[39;00m,\n\u001b[1;32m    383\u001b[0m ) \u001b[38;5;241m-\u001b[39m\u001b[38;5;241m>\u001b[39m \u001b[38;5;28;01mNone\u001b[39;00m:\n\u001b[1;32m    384\u001b[0m \u001b[38;5;250m    \u001b[39m\u001b[38;5;124;03m\"\"\"Optimize an objective function.\u001b[39;00m\n\u001b[1;32m    385\u001b[0m \n\u001b[1;32m    386\u001b[0m \u001b[38;5;124;03m    Optimization is done by choosing a suitable set of hyperparameter values from a given\u001b[39;00m\n\u001b[0;32m   (...)\u001b[0m\n\u001b[1;32m    473\u001b[0m \u001b[38;5;124;03m            If nested invocation of this method occurs.\u001b[39;00m\n\u001b[1;32m    474\u001b[0m \u001b[38;5;124;03m    \"\"\"\u001b[39;00m\n\u001b[0;32m--> 475\u001b[0m     \u001b[43m_optimize\u001b[49m\u001b[43m(\u001b[49m\n\u001b[1;32m    476\u001b[0m \u001b[43m        \u001b[49m\u001b[43mstudy\u001b[49m\u001b[38;5;241;43m=\u001b[39;49m\u001b[38;5;28;43mself\u001b[39;49m\u001b[43m,\u001b[49m\n\u001b[1;32m    477\u001b[0m \u001b[43m        \u001b[49m\u001b[43mfunc\u001b[49m\u001b[38;5;241;43m=\u001b[39;49m\u001b[43mfunc\u001b[49m\u001b[43m,\u001b[49m\n\u001b[1;32m    478\u001b[0m \u001b[43m        \u001b[49m\u001b[43mn_trials\u001b[49m\u001b[38;5;241;43m=\u001b[39;49m\u001b[43mn_trials\u001b[49m\u001b[43m,\u001b[49m\n\u001b[1;32m    479\u001b[0m \u001b[43m        \u001b[49m\u001b[43mtimeout\u001b[49m\u001b[38;5;241;43m=\u001b[39;49m\u001b[43mtimeout\u001b[49m\u001b[43m,\u001b[49m\n\u001b[1;32m    480\u001b[0m \u001b[43m        \u001b[49m\u001b[43mn_jobs\u001b[49m\u001b[38;5;241;43m=\u001b[39;49m\u001b[43mn_jobs\u001b[49m\u001b[43m,\u001b[49m\n\u001b[1;32m    481\u001b[0m \u001b[43m        \u001b[49m\u001b[43mcatch\u001b[49m\u001b[38;5;241;43m=\u001b[39;49m\u001b[38;5;28;43mtuple\u001b[39;49m\u001b[43m(\u001b[49m\u001b[43mcatch\u001b[49m\u001b[43m)\u001b[49m\u001b[43m \u001b[49m\u001b[38;5;28;43;01mif\u001b[39;49;00m\u001b[43m \u001b[49m\u001b[38;5;28;43misinstance\u001b[39;49m\u001b[43m(\u001b[49m\u001b[43mcatch\u001b[49m\u001b[43m,\u001b[49m\u001b[43m \u001b[49m\u001b[43mIterable\u001b[49m\u001b[43m)\u001b[49m\u001b[43m \u001b[49m\u001b[38;5;28;43;01melse\u001b[39;49;00m\u001b[43m \u001b[49m\u001b[43m(\u001b[49m\u001b[43mcatch\u001b[49m\u001b[43m,\u001b[49m\u001b[43m)\u001b[49m\u001b[43m,\u001b[49m\n\u001b[1;32m    482\u001b[0m \u001b[43m        \u001b[49m\u001b[43mcallbacks\u001b[49m\u001b[38;5;241;43m=\u001b[39;49m\u001b[43mcallbacks\u001b[49m\u001b[43m,\u001b[49m\n\u001b[1;32m    483\u001b[0m \u001b[43m        \u001b[49m\u001b[43mgc_after_trial\u001b[49m\u001b[38;5;241;43m=\u001b[39;49m\u001b[43mgc_after_trial\u001b[49m\u001b[43m,\u001b[49m\n\u001b[1;32m    484\u001b[0m \u001b[43m        \u001b[49m\u001b[43mshow_progress_bar\u001b[49m\u001b[38;5;241;43m=\u001b[39;49m\u001b[43mshow_progress_bar\u001b[49m\u001b[43m,\u001b[49m\n\u001b[1;32m    485\u001b[0m \u001b[43m    \u001b[49m\u001b[43m)\u001b[49m\n",
      "File \u001b[0;32m~/.local/lib/python3.12/site-packages/optuna/study/_optimize.py:63\u001b[0m, in \u001b[0;36m_optimize\u001b[0;34m(study, func, n_trials, timeout, n_jobs, catch, callbacks, gc_after_trial, show_progress_bar)\u001b[0m\n\u001b[1;32m     61\u001b[0m \u001b[38;5;28;01mtry\u001b[39;00m:\n\u001b[1;32m     62\u001b[0m     \u001b[38;5;28;01mif\u001b[39;00m n_jobs \u001b[38;5;241m==\u001b[39m \u001b[38;5;241m1\u001b[39m:\n\u001b[0;32m---> 63\u001b[0m         \u001b[43m_optimize_sequential\u001b[49m\u001b[43m(\u001b[49m\n\u001b[1;32m     64\u001b[0m \u001b[43m            \u001b[49m\u001b[43mstudy\u001b[49m\u001b[43m,\u001b[49m\n\u001b[1;32m     65\u001b[0m \u001b[43m            \u001b[49m\u001b[43mfunc\u001b[49m\u001b[43m,\u001b[49m\n\u001b[1;32m     66\u001b[0m \u001b[43m            \u001b[49m\u001b[43mn_trials\u001b[49m\u001b[43m,\u001b[49m\n\u001b[1;32m     67\u001b[0m \u001b[43m            \u001b[49m\u001b[43mtimeout\u001b[49m\u001b[43m,\u001b[49m\n\u001b[1;32m     68\u001b[0m \u001b[43m            \u001b[49m\u001b[43mcatch\u001b[49m\u001b[43m,\u001b[49m\n\u001b[1;32m     69\u001b[0m \u001b[43m            \u001b[49m\u001b[43mcallbacks\u001b[49m\u001b[43m,\u001b[49m\n\u001b[1;32m     70\u001b[0m \u001b[43m            \u001b[49m\u001b[43mgc_after_trial\u001b[49m\u001b[43m,\u001b[49m\n\u001b[1;32m     71\u001b[0m \u001b[43m            \u001b[49m\u001b[43mreseed_sampler_rng\u001b[49m\u001b[38;5;241;43m=\u001b[39;49m\u001b[38;5;28;43;01mFalse\u001b[39;49;00m\u001b[43m,\u001b[49m\n\u001b[1;32m     72\u001b[0m \u001b[43m            \u001b[49m\u001b[43mtime_start\u001b[49m\u001b[38;5;241;43m=\u001b[39;49m\u001b[38;5;28;43;01mNone\u001b[39;49;00m\u001b[43m,\u001b[49m\n\u001b[1;32m     73\u001b[0m \u001b[43m            \u001b[49m\u001b[43mprogress_bar\u001b[49m\u001b[38;5;241;43m=\u001b[39;49m\u001b[43mprogress_bar\u001b[49m\u001b[43m,\u001b[49m\n\u001b[1;32m     74\u001b[0m \u001b[43m        \u001b[49m\u001b[43m)\u001b[49m\n\u001b[1;32m     75\u001b[0m     \u001b[38;5;28;01melse\u001b[39;00m:\n\u001b[1;32m     76\u001b[0m         \u001b[38;5;28;01mif\u001b[39;00m n_jobs \u001b[38;5;241m==\u001b[39m \u001b[38;5;241m-\u001b[39m\u001b[38;5;241m1\u001b[39m:\n",
      "File \u001b[0;32m~/.local/lib/python3.12/site-packages/optuna/study/_optimize.py:160\u001b[0m, in \u001b[0;36m_optimize_sequential\u001b[0;34m(study, func, n_trials, timeout, catch, callbacks, gc_after_trial, reseed_sampler_rng, time_start, progress_bar)\u001b[0m\n\u001b[1;32m    157\u001b[0m         \u001b[38;5;28;01mbreak\u001b[39;00m\n\u001b[1;32m    159\u001b[0m \u001b[38;5;28;01mtry\u001b[39;00m:\n\u001b[0;32m--> 160\u001b[0m     frozen_trial \u001b[38;5;241m=\u001b[39m \u001b[43m_run_trial\u001b[49m\u001b[43m(\u001b[49m\u001b[43mstudy\u001b[49m\u001b[43m,\u001b[49m\u001b[43m \u001b[49m\u001b[43mfunc\u001b[49m\u001b[43m,\u001b[49m\u001b[43m \u001b[49m\u001b[43mcatch\u001b[49m\u001b[43m)\u001b[49m\n\u001b[1;32m    161\u001b[0m \u001b[38;5;28;01mfinally\u001b[39;00m:\n\u001b[1;32m    162\u001b[0m     \u001b[38;5;66;03m# The following line mitigates memory problems that can be occurred in some\u001b[39;00m\n\u001b[1;32m    163\u001b[0m     \u001b[38;5;66;03m# environments (e.g., services that use computing containers such as GitHub Actions).\u001b[39;00m\n\u001b[1;32m    164\u001b[0m     \u001b[38;5;66;03m# Please refer to the following PR for further details:\u001b[39;00m\n\u001b[1;32m    165\u001b[0m     \u001b[38;5;66;03m# https://github.com/optuna/optuna/pull/325.\u001b[39;00m\n\u001b[1;32m    166\u001b[0m     \u001b[38;5;28;01mif\u001b[39;00m gc_after_trial:\n",
      "File \u001b[0;32m~/.local/lib/python3.12/site-packages/optuna/study/_optimize.py:248\u001b[0m, in \u001b[0;36m_run_trial\u001b[0;34m(study, func, catch)\u001b[0m\n\u001b[1;32m    241\u001b[0m         \u001b[38;5;28;01massert\u001b[39;00m \u001b[38;5;28;01mFalse\u001b[39;00m, \u001b[38;5;124m\"\u001b[39m\u001b[38;5;124mShould not reach.\u001b[39m\u001b[38;5;124m\"\u001b[39m\n\u001b[1;32m    243\u001b[0m \u001b[38;5;28;01mif\u001b[39;00m (\n\u001b[1;32m    244\u001b[0m     frozen_trial\u001b[38;5;241m.\u001b[39mstate \u001b[38;5;241m==\u001b[39m TrialState\u001b[38;5;241m.\u001b[39mFAIL\n\u001b[1;32m    245\u001b[0m     \u001b[38;5;129;01mand\u001b[39;00m func_err \u001b[38;5;129;01mis\u001b[39;00m \u001b[38;5;129;01mnot\u001b[39;00m \u001b[38;5;28;01mNone\u001b[39;00m\n\u001b[1;32m    246\u001b[0m     \u001b[38;5;129;01mand\u001b[39;00m \u001b[38;5;129;01mnot\u001b[39;00m \u001b[38;5;28misinstance\u001b[39m(func_err, catch)\n\u001b[1;32m    247\u001b[0m ):\n\u001b[0;32m--> 248\u001b[0m     \u001b[38;5;28;01mraise\u001b[39;00m func_err\n\u001b[1;32m    249\u001b[0m \u001b[38;5;28;01mreturn\u001b[39;00m frozen_trial\n",
      "File \u001b[0;32m~/.local/lib/python3.12/site-packages/optuna/study/_optimize.py:197\u001b[0m, in \u001b[0;36m_run_trial\u001b[0;34m(study, func, catch)\u001b[0m\n\u001b[1;32m    195\u001b[0m \u001b[38;5;28;01mwith\u001b[39;00m get_heartbeat_thread(trial\u001b[38;5;241m.\u001b[39m_trial_id, study\u001b[38;5;241m.\u001b[39m_storage):\n\u001b[1;32m    196\u001b[0m     \u001b[38;5;28;01mtry\u001b[39;00m:\n\u001b[0;32m--> 197\u001b[0m         value_or_values \u001b[38;5;241m=\u001b[39m \u001b[43mfunc\u001b[49m\u001b[43m(\u001b[49m\u001b[43mtrial\u001b[49m\u001b[43m)\u001b[49m\n\u001b[1;32m    198\u001b[0m     \u001b[38;5;28;01mexcept\u001b[39;00m exceptions\u001b[38;5;241m.\u001b[39mTrialPruned \u001b[38;5;28;01mas\u001b[39;00m e:\n\u001b[1;32m    199\u001b[0m         \u001b[38;5;66;03m# TODO(mamu): Handle multi-objective cases.\u001b[39;00m\n\u001b[1;32m    200\u001b[0m         state \u001b[38;5;241m=\u001b[39m TrialState\u001b[38;5;241m.\u001b[39mPRUNED\n",
      "Cell \u001b[0;32mIn[27], line 63\u001b[0m, in \u001b[0;36mobjective\u001b[0;34m(trial)\u001b[0m\n\u001b[1;32m     60\u001b[0m loss \u001b[38;5;241m=\u001b[39m result\u001b[38;5;241m.\u001b[39mloss\n\u001b[1;32m     61\u001b[0m total_train_loss \u001b[38;5;241m+\u001b[39m\u001b[38;5;241m=\u001b[39m loss\u001b[38;5;241m.\u001b[39mitem()\n\u001b[0;32m---> 63\u001b[0m \u001b[43mloss\u001b[49m\u001b[38;5;241;43m.\u001b[39;49m\u001b[43mbackward\u001b[49m\u001b[43m(\u001b[49m\u001b[43m)\u001b[49m\n\u001b[1;32m     64\u001b[0m torch\u001b[38;5;241m.\u001b[39mnn\u001b[38;5;241m.\u001b[39mutils\u001b[38;5;241m.\u001b[39mclip_grad_norm_(model\u001b[38;5;241m.\u001b[39mparameters(), \u001b[38;5;241m1.0\u001b[39m)\n\u001b[1;32m     65\u001b[0m optimizer\u001b[38;5;241m.\u001b[39mstep()\n",
      "File \u001b[0;32m~/.local/lib/python3.12/site-packages/torch/_tensor.py:581\u001b[0m, in \u001b[0;36mTensor.backward\u001b[0;34m(self, gradient, retain_graph, create_graph, inputs)\u001b[0m\n\u001b[1;32m    571\u001b[0m \u001b[38;5;28;01mif\u001b[39;00m has_torch_function_unary(\u001b[38;5;28mself\u001b[39m):\n\u001b[1;32m    572\u001b[0m     \u001b[38;5;28;01mreturn\u001b[39;00m handle_torch_function(\n\u001b[1;32m    573\u001b[0m         Tensor\u001b[38;5;241m.\u001b[39mbackward,\n\u001b[1;32m    574\u001b[0m         (\u001b[38;5;28mself\u001b[39m,),\n\u001b[0;32m   (...)\u001b[0m\n\u001b[1;32m    579\u001b[0m         inputs\u001b[38;5;241m=\u001b[39minputs,\n\u001b[1;32m    580\u001b[0m     )\n\u001b[0;32m--> 581\u001b[0m \u001b[43mtorch\u001b[49m\u001b[38;5;241;43m.\u001b[39;49m\u001b[43mautograd\u001b[49m\u001b[38;5;241;43m.\u001b[39;49m\u001b[43mbackward\u001b[49m\u001b[43m(\u001b[49m\n\u001b[1;32m    582\u001b[0m \u001b[43m    \u001b[49m\u001b[38;5;28;43mself\u001b[39;49m\u001b[43m,\u001b[49m\u001b[43m \u001b[49m\u001b[43mgradient\u001b[49m\u001b[43m,\u001b[49m\u001b[43m \u001b[49m\u001b[43mretain_graph\u001b[49m\u001b[43m,\u001b[49m\u001b[43m \u001b[49m\u001b[43mcreate_graph\u001b[49m\u001b[43m,\u001b[49m\u001b[43m \u001b[49m\u001b[43minputs\u001b[49m\u001b[38;5;241;43m=\u001b[39;49m\u001b[43minputs\u001b[49m\n\u001b[1;32m    583\u001b[0m \u001b[43m\u001b[49m\u001b[43m)\u001b[49m\n",
      "File \u001b[0;32m~/.local/lib/python3.12/site-packages/torch/autograd/__init__.py:347\u001b[0m, in \u001b[0;36mbackward\u001b[0;34m(tensors, grad_tensors, retain_graph, create_graph, grad_variables, inputs)\u001b[0m\n\u001b[1;32m    342\u001b[0m     retain_graph \u001b[38;5;241m=\u001b[39m create_graph\n\u001b[1;32m    344\u001b[0m \u001b[38;5;66;03m# The reason we repeat the same comment below is that\u001b[39;00m\n\u001b[1;32m    345\u001b[0m \u001b[38;5;66;03m# some Python versions print out the first line of a multi-line function\u001b[39;00m\n\u001b[1;32m    346\u001b[0m \u001b[38;5;66;03m# calls in the traceback and some print out the last line\u001b[39;00m\n\u001b[0;32m--> 347\u001b[0m \u001b[43m_engine_run_backward\u001b[49m\u001b[43m(\u001b[49m\n\u001b[1;32m    348\u001b[0m \u001b[43m    \u001b[49m\u001b[43mtensors\u001b[49m\u001b[43m,\u001b[49m\n\u001b[1;32m    349\u001b[0m \u001b[43m    \u001b[49m\u001b[43mgrad_tensors_\u001b[49m\u001b[43m,\u001b[49m\n\u001b[1;32m    350\u001b[0m \u001b[43m    \u001b[49m\u001b[43mretain_graph\u001b[49m\u001b[43m,\u001b[49m\n\u001b[1;32m    351\u001b[0m \u001b[43m    \u001b[49m\u001b[43mcreate_graph\u001b[49m\u001b[43m,\u001b[49m\n\u001b[1;32m    352\u001b[0m \u001b[43m    \u001b[49m\u001b[43minputs\u001b[49m\u001b[43m,\u001b[49m\n\u001b[1;32m    353\u001b[0m \u001b[43m    \u001b[49m\u001b[43mallow_unreachable\u001b[49m\u001b[38;5;241;43m=\u001b[39;49m\u001b[38;5;28;43;01mTrue\u001b[39;49;00m\u001b[43m,\u001b[49m\n\u001b[1;32m    354\u001b[0m \u001b[43m    \u001b[49m\u001b[43maccumulate_grad\u001b[49m\u001b[38;5;241;43m=\u001b[39;49m\u001b[38;5;28;43;01mTrue\u001b[39;49;00m\u001b[43m,\u001b[49m\n\u001b[1;32m    355\u001b[0m \u001b[43m\u001b[49m\u001b[43m)\u001b[49m\n",
      "File \u001b[0;32m~/.local/lib/python3.12/site-packages/torch/autograd/graph.py:825\u001b[0m, in \u001b[0;36m_engine_run_backward\u001b[0;34m(t_outputs, *args, **kwargs)\u001b[0m\n\u001b[1;32m    823\u001b[0m     unregister_hooks \u001b[38;5;241m=\u001b[39m _register_logging_hooks_on_whole_graph(t_outputs)\n\u001b[1;32m    824\u001b[0m \u001b[38;5;28;01mtry\u001b[39;00m:\n\u001b[0;32m--> 825\u001b[0m     \u001b[38;5;28;01mreturn\u001b[39;00m \u001b[43mVariable\u001b[49m\u001b[38;5;241;43m.\u001b[39;49m\u001b[43m_execution_engine\u001b[49m\u001b[38;5;241;43m.\u001b[39;49m\u001b[43mrun_backward\u001b[49m\u001b[43m(\u001b[49m\u001b[43m  \u001b[49m\u001b[38;5;66;43;03m# Calls into the C++ engine to run the backward pass\u001b[39;49;00m\n\u001b[1;32m    826\u001b[0m \u001b[43m        \u001b[49m\u001b[43mt_outputs\u001b[49m\u001b[43m,\u001b[49m\u001b[43m \u001b[49m\u001b[38;5;241;43m*\u001b[39;49m\u001b[43margs\u001b[49m\u001b[43m,\u001b[49m\u001b[43m \u001b[49m\u001b[38;5;241;43m*\u001b[39;49m\u001b[38;5;241;43m*\u001b[39;49m\u001b[43mkwargs\u001b[49m\n\u001b[1;32m    827\u001b[0m \u001b[43m    \u001b[49m\u001b[43m)\u001b[49m  \u001b[38;5;66;03m# Calls into the C++ engine to run the backward pass\u001b[39;00m\n\u001b[1;32m    828\u001b[0m \u001b[38;5;28;01mfinally\u001b[39;00m:\n\u001b[1;32m    829\u001b[0m     \u001b[38;5;28;01mif\u001b[39;00m attach_logging_hooks:\n",
      "\u001b[0;31mKeyboardInterrupt\u001b[0m: "
     ]
    }
   ],
   "source": [
    "if __name__ == \"__main__\":\n",
    "\n",
    "    study = optuna.create_study(direction = \"minimize\")\n",
    "    study.optimize(objective, n_trials = 10)\n",
    "\n",
    "    print(\"Best Hyperparameters:\", study.best_params)"
   ]
  },
  {
   "cell_type": "code",
   "execution_count": null,
   "metadata": {},
   "outputs": [],
   "source": []
  },
  {
   "cell_type": "code",
   "execution_count": 2,
   "metadata": {},
   "outputs": [
    {
     "name": "stdout",
     "output_type": "stream",
     "text": [
      "Using device: cpu\n"
     ]
    }
   ],
   "source": [
    "# Check for GPU availability\n",
    "device = torch.device(\"cuda\" if torch.cuda.is_available() else \"cpu\")\n",
    "print(f\"Using device: {device}\")"
   ]
  },
  {
   "cell_type": "code",
   "execution_count": 3,
   "metadata": {},
   "outputs": [],
   "source": [
    "# Function to compute the accuracy of predictions vs labels\n",
    "def flat_accuracy(preds, labels):\n",
    "    preds_flat = np.argmax(preds, axis = 1).flatten()\n",
    "    labels_flat = labels.flatten()\n",
    "    return np.sum(preds_flat == labels_flat) / len(labels_flat)"
   ]
  },
  {
   "cell_type": "code",
   "execution_count": 48,
   "metadata": {},
   "outputs": [],
   "source": [
    "# Function to calculate F1, recall, and precision\n",
    "\n",
    "def compute_metrics(preds, labels):\n",
    "    preds_flat = preds.argmax(axis = 1).flatten()\n",
    "    labels_flat = labels.flatten()\n",
    "    f1 = f1_score(labels_flat, preds_flat, average = 'weighted')\n",
    "    recall = recall_score(labels_flat, preds_flat, average = 'weighted')\n",
    "    precision = precision_score(labels_flat, preds_flat, average = 'weighted')\n",
    "    return f1, recall, precision"
   ]
  },
  {
   "cell_type": "code",
   "execution_count": 33,
   "metadata": {},
   "outputs": [],
   "source": [
    "def load_data(file_path):\n",
    "    \"\"\"\n",
    "    Loads data and converts Sentiment classes to numeric labels (1 for positive, 0 for negative).\n",
    "    \"\"\"\n",
    "\n",
    "    df = pd.read_csv(file_path)\n",
    "    df['Sentiment'] = df['Sentiment'].map({'pos': 1, 'neg': 0})\n",
    "    \n",
    "    text = df['text'].tolist()\n",
    "    labels = df['Sentiment'].tolist()\n",
    "\n",
    "    return text, labels"
   ]
  },
  {
   "cell_type": "code",
   "execution_count": 36,
   "metadata": {},
   "outputs": [
    {
     "name": "stdout",
     "output_type": "stream",
     "text": [
      "['handskerne passer ikke det var det tvivlsomme argument hvormed forsvareren vandt retssagen mod oj simpson i 1995 den verdenskendte fodboldstjerne og skuespiller var anklaget for mordet på sin ekskone og hendes ven og selv om sagen bugnede med beviser imod ham blev oj simpson frikendt historien fortælles med bravur i den første sæson af antologitvserienamerican crime story der for hver sæson fortæller en stor kriminalhistorie fra virkeligheden første sæson har undertitlenthe people v oj simpson og i første afsnit finder politiet i los angeles de myrdede nicole simpson og ronald goldman alle spor fører hjem til oj simpsons hus simpson cuba gooding jr går i panik og hele andet afsnit viser den tossede biljagt hvor han på vej hjem til sin mor bliver fulgt af en horde af politibiler og nyhedshelikoptere mens han over telefon truer både medier og sine venner med at begå selvmord herfra bliver serien et retssalsdrama men sikke et drama oj simpson har et imponerende hold af superadvokater bag sig heriblandt den egocentriske robert shapiro som bliver spillet med omhu af john travolta han bliver holdt i kort snor af holdets leder den teatralske johnnie cochran courtney b vance som med pondus forstår at fange både medierne og juryen i sin hule hånd  særligt når han bruger racismekortet hertil hører ojs ven advokaten og forretningsmanden robert kardashian som spilles med stor intensitet af david schwimmer han er gruppens mest sympatiske medlem der som retssagen skrider frem tvivler mere og mere på den pylrede fodboldstjernes uskyld på det andet hold har vi den kæderygende anklager marcia clark sarah paulson hun fremstår i de første afsnit som en dame af stål der ikke er et sekund i tvivl om at hun vinder sagen fordi den flyder over med beviser imod oj simpson som sagen skrider frem går det dog op for marcia at vejen til retfærdighed er hård og ubarmhjertig hun må finde sig i at blive chikaneret af både johnnie cochran og medierne som uden kvaler bruger hendes egne børn samt nøgenbilleder imod hende hun får hjælp af sin følsomme men dygtige kollega christopher darden sterling k brown og deres forhold er konstant ved at udvikle sig en til romance det er nedbrydningen af marcia og det forsvindende håb om retfærdighed som udgør seriens kerne medierne er nådesløse og ingen i retssagen får et ben til jorden eller tid til at tænke det understreges med imponerende og til tider nærmest vulgære kamerakørsler som snurrer rundt om og indrammer retssalsdramaets hovedpersoner vi kommer bag facaden på alle mennesker som indgår i retssagen vi følger den jublende dommer da han får at vide at han skal have sagen første gang han sætter sig i dommerstolen glemmer han dog at bruge mikrofonen i en sjov og pinlig scene således bliver alle de involverede menneskeliggjort og det skaber en forståelse for at hele retssystemet trods alt består af almindelige mennesker som alle laver fejl et helt afsnit handler om hvor dårligt juryen bliver behandlet på det hotel de opholder sig på de får skodmad og må ikke se fjernsyn eller læse i bøger som ikke er godkendt først afsnittet viser effektivt hvordan menneskene som skal stå for den endelige afgørelse også bliver nedbrudt i løbet af den mange måneder lange retssag soundtracket er skønt og fanger 90erstemningen perfekt med brug af tidens største hits derudover skaber mac quayles musik en suspense og melankoli som understreger håbet der forsvinder stærkest virker det i seriens sidste afsnit som intenst skildrer den kvalmefremkaldende afgørelse american crime storymaler et dramatisk billede af den verdenskendte retssag og spiller på de helt rigtige filmiske tangenter for at vise os bagsiden af det amerikanske retssystem', 'smagen af sulthandler ikke om mad eller jo selvfølgelig gør den det filmen emmer af fascination for topgastronomiens benhårde miljø og svælger i fetichistiske billeder af gourmetmad den er rundet af nye nordiske madparoler om lokale råvarer og hylder endda den demokratisk jævne pølsevogn smagen af sulthandler om mad så man må tørre sig om munden den handler om mad så jeg akut måtte finde en ristet hotdog efter visningen og starte en opsparing til et besøg på noma men den madfilm christoffer boe  hr boe bevares  har præsteret består først og fremmest af jagende scener fra et ægteskab hvis parter er ved at udslette sig selv i jagten på  ja på hvad på succes naturligvis og på den michelinstjerne der kan validere ægteparrets restaurant malus og løfte nikolaj costerwaldaus stjernekok carsten op i gastronomiens øverste rækker hans bedre halvdel maggie katrine greisrosenthal er også på jagt efter noget som er sværere at indkredse hendes sult er mere et persontræk end en tilstand filmen åbner med et citat fra en af punklitteraturens systemstormere kathy acker hvis du spørger mig hvad jeg vil have skal jeg sige dig det jeg vil have det hele maggie har øje for restaurantbesøget som en helhedsoplevelse stiligt design afdæmpet belysning henslængt jazz og tjenere der træder frem og tilbage som kommer de lige fra danseskolen han er kokken men da en michelinkritiker får serveret deres signaturøstersmed overfermenteret citron er det hende der farer ud ad døren jeg må bestikke ham hvis det er alle har en pris maggie tager også af sted for at konfrontere sin elsker efter hun finder et bekendelsesbrev adresseret til carsten din kone elsker en anden det er et udsøgt kærlighedsdrama hr boe og hr lindholm det vil sige tobias lindholm filmens medforfatter serverer for os en appetitvækker af romantisk pingpong jeg datede engang en katolsk præst siger maggie mens hun forklarer at den forbudne frugt ikke er et sølle dansk æble men en eksotisk figen en hovedret af ægteskabelig frustration og langtidsforholdets evindelige genforhandling af dit mit og vores og så en tredjeaktsdessert som føles overraskende men også som den naturligste kulmination på en dristig menu metaforerne ligger lige for boe har aldrig kunnet dy sig for at kommentere på sin proces og her afspejles dramaturgien i madkunstens blanding af sødt surt fedt og salt der er titlerne på filmens flashbacks fortællingen flyder så let at man dårligt mærker hvor sofistikeret den er skruerne strammes for hver afstikker til fortiden indtil maggies flugt gennem natten føles mere som en af de intense københavnerthrilers instruktøren også excellerer i end et forholdsdrama fra den kulinariske klasse det er ægteskabet som suspense utroskabet som gys særligt i én medrivende scene der leder tankerne hen på klassikere som nicolas roegsrødt chok og boe har overraskelser gemt i ærmet hvormed han med isnende effekt placerer en overraskende karakter i en central rolle skuespillet er helt i top nikolaj costerwaldau nyder i disse år et dansk comeback og han har aldrig været bedre end som carsten der er stjernekok først og familiefar efter behov du snakker lidt for meget om mad far siger datteren chloe af børn skal man høre sandheden og chloe har øje for det meste men filmen hviler sikkert på skuldrene af katrine greisrosenthal maggie er en fænomenalt sammensat figur fanget mellem selvsikker ambition og tvivlende sårbarhed styrke og skrøbelighed skuespilleren giver det hele fra sig så man tager det på sig og ikke kan gøre andet svenske charlie gustafsson er også god som maggies forsmåede elsker mens nicolas bro længere nede i ensemblet vrisser skønt som carstens stivstikker af en storebror jeg giver jer seks måneder før i bringer ud af huset smagen af sulter smuk og forførende men også en helhedsfortælling der taler lige så meget til maven som til hjerne og hjerte manuel alberto claros billeder er lige så præcise og svulstige som noget han har leveret for lars von trier og det er intet under at christoffer boe også har gjort filmen til en vrinstallation', 'a quiet placekom som lidt af en overraskelse i 2018 og det gør kun forventningerne til fortsættelsen endnu større ikke mindst fordi vi nu har måttet vente et helt år længere end forventet på at få den at se filmenes grundidé  blinde monstre fra det ydre rum jager alt og alle der giver lyd fra sig  er stadig lige skræmmende i den første film fokuserer instruktør og hovedrolleindehaver john krasinski stramt på én families minutiøse overlevelsesrutine midt i rumvæsnernes postapokalyptiske jagtmark men ia quiet place 2maler han på et større lærred og skubber de overlevende hovedpersoner i nye og skræmmende retninger filmen indledes med et flashback der giver et glimt af krasinskis nu afdøde patriark lee abbott det viser hvordan hans familie overlevede rumvæsnernes første angreb en idyllisk amerikansk provinsby flås itu af de nærmest usårlige rumvæsner og efterfølgeren er således fra start mere actionmættet end den første film fortsættelsen introducerer også emmett cillian murphy en anden hårdfør selvhjulpen familiefar som bliver central for historien efter det lille sidespring fortsætter filmen næsten nøjagtigt hvor den første slap sammen med sin nyfødte baby og sine halvstore børn regan og marcus forlader evelyn abbott emily blunt familiens havarerede hjem i håbet om at finde husly andetsteds i ødemarken de følger signalbål som verdens få overlevende tænder hver nat og når frem til emmett der gemmer sig for monstrene i en forladt fabrik med et par lydtætte gemmesteder han er fortvivlet han har mistet sin familie og er gået i hak regan er ikke tilfreds med bare at gemme sig men vil benytte det våben der hjalp dem til at undslippe monstrene i første omgang hun begiver sig afsted efter et mystisk radiosignal som kan føre dem alle i sikkerhed  eller bringe dem i endnu større fare det er måske ikke helt så elegant et setup som i første film der var mere fokuseret denne gang er familiemedlemmerne ofte adskilt men krasinski klipper frem og tilbage med sikker hånd mens han strammer skruen med chokerendejump scares mens regan rejser ud for at redde verden og evelyn søger efter en måde at holde sit barn skjult efterlades marcus alene med spædbarnet hvert familiemedlem må overkomme sin sorg og frygt  og enhver trang til at nyse evelyns stålsatte beslutsomhed er en naturlig udvikling for hendes figur og en skærende kontrast til den sorgramte emmett der tegner det ene billede efter det andet af den familie han har mistet noah jupe formidler præcist marcus skælvende panik mens millicent simmonds regan er mindre mut og mere målbevidst i denne omgang emily blunt og cillian murphy er noget tilknappede i deres roller  de unge skuespillere får lov at bære historien fortsættelsens højere budget betyder at vi ser mere af de edderkoppeækle rumvæsner men ellers er filmen næsten ubærligt smuk fotograf polly morgan indfanger landskabets solspættede skønhed og holder de rastløse personer i fokus i lange steadicamoptagelser når døden kommer tordnende i de naturskønne fredelige omgivelser virker det mere skrækindjagende end noget knirkende spøgelseshus nogensinde ville kunne være det der gør filmens monstre så frygtindgydende er vores bevidsthed om at vi mennesker er meget højlydte dyr det er også derfora quiet place 2er en perfekt film til biografen for hvert et stykke raslende slikpapir hvert et forsigtigt host i salen føler man sig ængstelig og sårbar historien er større i denne omgang men john krasinski skaber stadig mareridt ved at aktivere vores urfrygt for selv den mindste lyd']\n",
      "[1, 1, 1]\n",
      "1899\n",
      "Counter({0: 978, 1: 921})\n"
     ]
    }
   ],
   "source": [
    "train_file = '/work/SofieNørboMosegaard#5741/NLP/NLP-exam/data_2/original_train.csv'\n",
    "text, labels = load_data(train_file)\n",
    "\n",
    "print(text[:3])\n",
    "print(labels[:3])\n",
    "print(len(labels))\n",
    "print(Counter(labels)) # Counter({0: 978, 1: 921}) = almost equally balanced"
   ]
  },
  {
   "cell_type": "code",
   "execution_count": 37,
   "metadata": {},
   "outputs": [
    {
     "name": "stdout",
     "output_type": "stream",
     "text": [
      "1,329 training samples\n",
      "1,329 validation samples\n",
      "570 training samples\n",
      "570 validation samples\n"
     ]
    }
   ],
   "source": [
    "# Create a 70-30 train-validation split\n",
    "\n",
    "train_text, val_text, train_labels, val_labels = train_test_split(\n",
    "    text, labels, test_size = 0.3, stratify = labels, random_state = 123\n",
    ")\n",
    "\n",
    "print(f\"{len(train_text):,} training samples\") # 1,329\n",
    "print(f\"{len(train_labels):,} validation samples\")\n",
    "\n",
    "print(f\"{len(val_text):,} training samples\") # 570 \n",
    "print(f\"{len(val_labels):,} validation samples\")"
   ]
  },
  {
   "cell_type": "code",
   "execution_count": 38,
   "metadata": {},
   "outputs": [
    {
     "name": "stdout",
     "output_type": "stream",
     "text": [
      "Error during translation: Eine Frau gibt dem Kind ihre Halskette, küsst es zum Abschied und wirft sie über einen Wasserfall. Dann geht sie und klopft an eine Burg, die über der Landschaft thront und in Nebel gehüllt ist. Ich habe ein Verbrechen begangen, sagt sie, kurz nachdem sie tot im Dunkeln sitzt Eine enthauptete Leiche, deren Kopf neben einer Fleischaxt in einem Käfig gefangen ist, nähert sich und schneidet sich den Finger aus dem österreichischen Wettbewerbsfilm „Teufelsbad“. Das Bad des Teufels spielt in der Mitte des 18. Jahrhunderts Draußen in den Wäldern und hoch oben in den Bergen liegt eine isolierte, arme Gemeinde, die auf strengem Christentum und altem Aberglauben aufgebaut ist. Hier schlagen sich die kleinen Leute durch, indem sie in den niedrigen Waldseen angeln, wo der Schlamm seine Opfer fordert, wenn man einen Fehler macht Severin Fiala und Veronika Franz schafften den Durchbruch mit dem herausragenden Psycho-Horror „Gute Nacht Mama“, in dem zwei Zwillingsbrüder bei ihrer Mutter einziehen, die sich einer Gesichtsoperation unterzogen hat. Nach und nach kommen sie zu der Überzeugung, dass sich hinter den Verbänden eine seltsame Frau verbirgt Nach einem enttäuschenden Abstecher nach Hollywood mit der Lodge übertreffen sie sich nun mit einer authentischen Folk-Horror-Geschichte aus einer Zeit, in der das Leben wie ein Todesmarsch des Elends erscheinen konnte, es für die junge Agnes anders beginnt, sie mit Party und Jubel heiratet und Es gibt keinen größeren Wunsch, als eine fromme Ehefrau und eine glückliche Mutter zu sein. Ihr Mann Wolf wohnt eine halbe Tagesreise von dort entfernt, und während die Familie ihr einen Karren mit Dingen für ihr neues Leben bepackt, schenkt ihr der Bruder zur Hochzeit einen abgetrennten Finger unter den Finger Das Bett wird sie machen fruchtbar, aber im Hochzeitsbett wendet der Wolf Agnes‘ Gesicht von sich ab, während er vergeblich unter der Decke herumtastet. Bald schläft er einfach ein und versucht es nie wieder für ihre Hochzeit. Wir sahen, wie er grübelte und seinem männlichen Nachbarn gegenüber liebevoll war. Agnes, nicht wahr, sie wird introvertiert? Die Schwiegermutter begleitet sie in der Küche und am Seeufer, wo der Fang des Tages eingebracht werden muss. Wolf ist zwar freundlich, aber auf eine Weise abwesend, die Agnes nicht versteht, sie wendet sich an Jesus und betet An ihrem Hausaltar und in der Kirche im Wald trifft sie auf eine kopflose Frau, die vor Angst und Warnung zurückgelassen wurde und nur noch wenige Finger übrig hat. Ein makaberer Anblick, aber es ist, als ob sie hier Trost findet. Das Leiden der Frau ist schließlich vorbei und Mörder Man kann immer vor ihrer Hinrichtung vergeben, während Selbstmörder in den Flammen der Hölle verurteilt werden. Das ist eine verdrehte Denkweise, aber die Logik scheint in dieser rauen Gesellschaft offensichtlich zu sein. Das Porträt des Ortes ist erstaunlich nah an dem Körper, in dem man sich selbst erschießt Die Halle gegen die klamme Kälte der Bergwälder dank Martin Gschlachts maßvoller Fotografie ist seine Kamera fast immer auf Agnes gerichtet, bei ihren hinkenden Bewegungen, flackernder Blick, Zweifel und Einsamkeit, wenn ein enger Fokus sie isoliert, mitten in der Zweisamkeit gelingt es ihr nicht, ein Teil davon zu werden Nur allein kann sie sie selbst sein und Anja Plaschg liefert eine kraftvolle Leistung als zarte Frau ab, die im Teufelsbad, wie es damals hieß, als die Diagnose behandelt wird, immer tiefer in Depressionen und religiösen Wahn versinkt Mit dem Kopfschütteln und einem Gang zum Friseur, der Blutegel und Krampfadern heilt und mit einer Nadel einen Faden durch ihre Haut zieht, den sie hin und her führen muss, damit das Gift wie eine Entzündung aus ihrem Körper sickern kann, ist es eins In Anja Plaschgs ersten Rollen ist sie täglich Musikerin und liefert unter dem Namen Soapskin auch die bedrückende okkulte Hintergrundmusik des Films, die mit düsterem Grollen, zitternden Geigen und plötzlichem Geheul die Unheimlichkeit des Waldes in lauerndes Grauen verstärkt, das Grauen des Films jedoch zum Vorschein kommt Nicht von Hexen, sondern von einer Mischung aus sozialem Druck, religiösen Tabus und seelischem Leid. Dass hier alle Hexerei ihren Ursprung hat, ist ein unausgesprochener, aber unvermeidlicher Punkt des Teufels Badspiller in eine Folk-Horror-Tradition, die seit Robert Eggers, der Hexe übrigens, eine Renaissance erlebt Film Somdes Teufels Badpö hat einiges zu verdanken, aber Veronika Franz und Severin Fiala sind gleichzeitig auf einer revisionistischeren Mission. Der Film basiert auf gründlichen Recherchen des amerikanischen Forschers Kathy Stuart über Selbstmord durch Stellvertreter im damaligen Deutschland, als Hunderte verzweifelter Männer und vor allem Frauen Unschuldige ins Paradies schickten, bevor sie selbst melancholischen Mördern folgten, wie sie genannt wurden. Es ist eine makabre und fesselnde Geschichte und mein vorläufiger Favorit für den Goldenen Bären Der Film kommt so schnell wie möglich von der Berlinale nach Dänemark --> Text length need to be between 0 and 5000 characters\n",
      "Text length is 6163 characters. Skipping translation\n",
      "Text length is 5195 characters. Skipping translation\n",
      "2076\n",
      "2076\n",
      "Counter({0: 1067, 1: 1009})\n"
     ]
    }
   ],
   "source": [
    "# Augment training data (very little training data)\n",
    "\n",
    "# Back-translation\n",
    "def back_translate(text, src_lang = 'da'):\n",
    "\n",
    "    # Check if the text length exceeds the 5000 character limit (API limit)\n",
    "    if len(text) > 5000:\n",
    "        print(f\"Text length is {len(text)} characters. Skipping translation\")\n",
    "        return None\n",
    "\n",
    "    lang_list = ['en', 'fr', 'de', 'es', 'it', 'pt', 'nl', 'sv', 'no', 'fi']\n",
    "    trans_lang = random.choice(lang_list)\n",
    "    \n",
    "    try:\n",
    "        translated_text = GoogleTranslator(source = src_lang, target = trans_lang).translate(text)\n",
    "        back_translated_text = GoogleTranslator(source = trans_lang, target = src_lang).translate(translated_text)\n",
    "        return back_translated_text\n",
    "    except Exception as e:\n",
    "        print(f\"Error during translation: {e}\")\n",
    "        return None\n",
    "\n",
    "\n",
    "# Random deletion\n",
    "def random_deletion(text, p = 0.3):\n",
    "    words = text.split()\n",
    "    if len(words) == 1:\n",
    "        return words\n",
    "    remaining = [word for word in words if random.random() > p]\n",
    "    if len(remaining) == 0:\n",
    "        return random.choice(words) \n",
    "    else:\n",
    "        return ' '.join(remaining)\n",
    "\n",
    "\n",
    "# Random swap\n",
    "def random_swap(text, n = 5):\n",
    "    words = text.split()\n",
    "    for _ in range(n):\n",
    "        idx1, idx2 = random.sample(range(len(words)), 2)\n",
    "        words[idx1], words[idx2] = words[idx2], words[idx1]\n",
    "    return ' '.join(words)\n",
    "\n",
    "\n",
    "# augment data\n",
    "def augment_data(train_text, train_labels):\n",
    "    \n",
    "    augmented_text = []\n",
    "    augmented_labels = []\n",
    "\n",
    "    for text, label in zip(train_text, train_labels):\n",
    "\n",
    "        back_translated_text = back_translate(text, src_lang = 'da')\n",
    "        if back_translated_text:  # append if the text is not None\n",
    "            augmented_text.append(back_translated_text)\n",
    "            augmented_labels.append(label)\n",
    "\n",
    "        augmented_text.append(random_deletion(text))\n",
    "        augmented_labels.append(label)\n",
    "\n",
    "        augmented_text.append(random_swap(text, 5))\n",
    "        augmented_labels.append(label)\n",
    "    \n",
    "    return augmented_text, augmented_labels\n",
    "\n",
    "\n",
    "# Augment some of the data\n",
    "\n",
    "train_text_250 = train_text[:250]\n",
    "train_labels_250 = train_labels[:250]\n",
    "augmented_text, augmented_labels = augment_data(train_text_250, train_labels_250)\n",
    "\n",
    "# Combine original and augmented data\n",
    "train_text = train_text + augmented_text\n",
    "train_labels = train_labels + augmented_labels\n",
    "\n",
    "print(len(train_text))\n",
    "print(len(train_labels)) # 2076\n",
    "\n",
    "print(Counter(train_labels)) # Counter({0: 1067, 1: 1009})\n",
    "\n",
    "# Shuffle data to ensure that the augmented data (which might be similar to the original data) is not grouped together\n",
    "train_text, train_labels = shuffle(np.array(train_text), np.array(train_labels),random_state = 123)\n",
    "\n",
    "train_text = train_text.tolist()\n",
    "train_labels = train_labels.tolist()"
   ]
  },
  {
   "cell_type": "code",
   "execution_count": 40,
   "metadata": {},
   "outputs": [
    {
     "data": {
      "text/plain": [
       "XLMRobertaTokenizerFast(name_or_path='vesteinn/DanskBERT', vocab_size=50005, model_max_length=1000000000000000019884624838656, is_fast=True, padding_side='right', truncation_side='right', special_tokens={'bos_token': '<s>', 'eos_token': '</s>', 'unk_token': '<unk>', 'sep_token': '</s>', 'pad_token': '<pad>', 'cls_token': '<s>', 'mask_token': '<mask>'}, clean_up_tokenization_spaces=False, added_tokens_decoder={\n",
       "\t0: AddedToken(\"<s>\", rstrip=False, lstrip=False, single_word=False, normalized=False, special=True),\n",
       "\t1: AddedToken(\"<pad>\", rstrip=False, lstrip=False, single_word=False, normalized=False, special=True),\n",
       "\t2: AddedToken(\"</s>\", rstrip=False, lstrip=False, single_word=False, normalized=False, special=True),\n",
       "\t3: AddedToken(\"<unk>\", rstrip=False, lstrip=False, single_word=False, normalized=False, special=True),\n",
       "\t50004: AddedToken(\"<mask>\", rstrip=False, lstrip=False, single_word=False, normalized=False, special=True),\n",
       "}\n",
       ")"
      ]
     },
     "execution_count": 40,
     "metadata": {},
     "output_type": "execute_result"
    }
   ],
   "source": [
    "# Load Danish BERT tokenizer\n",
    "tokenizer = AutoTokenizer.from_pretrained(\"vesteinn/DanskBERT\")\n",
    "tokenizer"
   ]
  },
  {
   "cell_type": "code",
   "execution_count": 41,
   "metadata": {},
   "outputs": [
    {
     "name": "stdout",
     "output_type": "stream",
     "text": [
      "Training:\n",
      "tensor([[    0,    39,  1503,  ...,   327,    19,     2],\n",
      "        [    0, 47384,    53,  ...,  4819, 16565,     2],\n",
      "        [    0,   230,  8126,  ...,    45, 27184,     2],\n",
      "        ...,\n",
      "        [    0,    63,  1489,  ...,     1,     1,     1],\n",
      "        [    0,    74, 17111,  ...,   122,   649,     2],\n",
      "        [    0,    19,     9,  ...,   403,   271,     2]])\n",
      "tensor([[1, 1, 1,  ..., 1, 1, 1],\n",
      "        [1, 1, 1,  ..., 1, 1, 1],\n",
      "        [1, 1, 1,  ..., 1, 1, 1],\n",
      "        ...,\n",
      "        [1, 1, 1,  ..., 0, 0, 0],\n",
      "        [1, 1, 1,  ..., 1, 1, 1],\n",
      "        [1, 1, 1,  ..., 1, 1, 1]])\n",
      "tensor([0, 0, 1,  ..., 0, 1, 0])\n",
      "Validation:\n",
      "tensor([[    0,   142,   130,  ...,     1,     1,     1],\n",
      "        [    0,    45, 11171,  ...,  2018,   703,     2],\n",
      "        [    0,    32,    39,  ..., 49589,    38,     2],\n",
      "        ...,\n",
      "        [    0, 28874,    15,  ..., 13538,    32,     2],\n",
      "        [    0,  1066,   675,  ...,     1,     1,     1],\n",
      "        [    0,   230, 32308,  ...,    19,  8850,     2]])\n",
      "tensor([[1, 1, 1,  ..., 0, 0, 0],\n",
      "        [1, 1, 1,  ..., 1, 1, 1],\n",
      "        [1, 1, 1,  ..., 1, 1, 1],\n",
      "        ...,\n",
      "        [1, 1, 1,  ..., 1, 1, 1],\n",
      "        [1, 1, 1,  ..., 0, 0, 0],\n",
      "        [1, 1, 1,  ..., 1, 1, 1]])\n",
      "tensor([1, 1, 1, 0, 0, 1, 1, 0, 0, 1, 0, 0, 0, 0, 0, 0, 1, 1, 1, 1, 1, 1, 1, 0,\n",
      "        1, 0, 1, 1, 0, 1, 0, 0, 1, 0, 1, 0, 1, 1, 0, 0, 1, 1, 0, 1, 0, 1, 1, 0,\n",
      "        1, 1, 0, 0, 0, 0, 1, 0, 0, 0, 1, 1, 0, 0, 0, 0, 0, 1, 1, 1, 1, 1, 0, 1,\n",
      "        1, 0, 1, 1, 0, 0, 1, 0, 0, 0, 0, 1, 0, 1, 1, 0, 1, 0, 0, 0, 1, 1, 0, 0,\n",
      "        1, 0, 0, 1, 1, 1, 1, 0, 1, 0, 1, 0, 1, 1, 0, 0, 0, 1, 0, 0, 0, 0, 0, 0,\n",
      "        1, 0, 0, 0, 0, 1, 0, 0, 0, 1, 0, 0, 1, 1, 0, 0, 0, 1, 0, 1, 0, 1, 0, 0,\n",
      "        0, 1, 1, 1, 1, 0, 1, 0, 0, 1, 0, 1, 1, 0, 0, 1, 1, 1, 1, 1, 0, 1, 0, 1,\n",
      "        0, 1, 1, 0, 0, 1, 0, 0, 1, 0, 1, 1, 1, 1, 0, 1, 0, 0, 1, 0, 0, 1, 0, 0,\n",
      "        0, 0, 1, 0, 0, 1, 1, 0, 1, 0, 1, 0, 1, 0, 0, 0, 1, 1, 1, 0, 0, 0, 0, 1,\n",
      "        1, 0, 1, 1, 1, 1, 1, 0, 1, 1, 0, 0, 1, 0, 1, 1, 0, 1, 0, 0, 1, 0, 1, 0,\n",
      "        0, 1, 0, 1, 0, 0, 0, 1, 0, 0, 0, 0, 0, 0, 1, 0, 0, 1, 0, 0, 0, 0, 0, 0,\n",
      "        0, 1, 1, 1, 0, 1, 0, 0, 0, 1, 1, 0, 0, 0, 1, 1, 1, 1, 0, 0, 0, 1, 0, 0,\n",
      "        1, 0, 1, 0, 0, 1, 0, 1, 0, 1, 0, 0, 1, 0, 1, 1, 1, 1, 1, 0, 0, 0, 0, 1,\n",
      "        0, 0, 0, 1, 1, 0, 1, 0, 1, 0, 0, 1, 1, 0, 1, 0, 0, 0, 0, 0, 0, 0, 1, 1,\n",
      "        1, 0, 0, 1, 1, 0, 1, 1, 0, 1, 0, 0, 0, 0, 1, 1, 1, 1, 0, 0, 1, 0, 1, 0,\n",
      "        1, 0, 1, 1, 0, 0, 0, 1, 1, 1, 1, 1, 1, 1, 0, 1, 0, 0, 1, 1, 0, 0, 1, 0,\n",
      "        1, 1, 0, 0, 1, 1, 1, 1, 0, 0, 0, 1, 1, 1, 1, 0, 0, 0, 0, 0, 1, 1, 0, 1,\n",
      "        1, 1, 1, 1, 0, 1, 1, 1, 0, 1, 0, 1, 1, 1, 1, 0, 0, 1, 0, 1, 0, 0, 0, 0,\n",
      "        0, 0, 1, 1, 0, 1, 1, 1, 1, 0, 1, 0, 0, 0, 0, 0, 1, 1, 0, 0, 0, 1, 0, 1,\n",
      "        0, 1, 0, 1, 0, 1, 1, 0, 0, 0, 1, 0, 1, 0, 0, 0, 1, 0, 1, 0, 1, 1, 0, 1,\n",
      "        1, 1, 1, 0, 1, 1, 1, 0, 0, 1, 1, 1, 1, 1, 0, 0, 0, 1, 1, 0, 0, 0, 0, 1,\n",
      "        1, 1, 0, 1, 0, 0, 0, 1, 0, 0, 1, 1, 0, 1, 1, 1, 1, 1, 0, 1, 0, 0, 1, 0,\n",
      "        1, 1, 0, 1, 1, 1, 1, 1, 1, 0, 0, 0, 1, 0, 1, 0, 0, 0, 0, 1, 0, 0, 0, 0,\n",
      "        1, 0, 1, 1, 0, 1, 0, 1, 1, 1, 1, 1, 0, 0, 1, 0, 1, 0])\n"
     ]
    }
   ],
   "source": [
    "# Tokenize data\n",
    "\n",
    "def tokenize_data(train_text, labels, tokenizer):\n",
    "    input_ids = []\n",
    "    attention_masks = []\n",
    "\n",
    "    for text in train_text:\n",
    "        encoded_dict = tokenizer.encode_plus(\n",
    "            text,\n",
    "            add_special_tokens = True,\n",
    "            max_length = 512,\n",
    "            padding = \"max_length\",\n",
    "            truncation = True,\n",
    "            return_attention_mask = True,\n",
    "            return_tensors = \"pt\",\n",
    "        )\n",
    "\n",
    "        input_ids.append(encoded_dict[\"input_ids\"])\n",
    "        attention_masks.append(encoded_dict[\"attention_mask\"])\n",
    "\n",
    "    # Convert to tensors\n",
    "    input_ids = torch.cat(input_ids, dim = 0)\n",
    "    attention_masks = torch.cat(attention_masks, dim = 0)\n",
    "    labels = torch.tensor(labels)\n",
    "\n",
    "    return input_ids, attention_masks, labels\n",
    "\n",
    "# Tokenize both sets\n",
    "train_input_ids, train_attention_masks, train_labels = tokenize_data(train_text, train_labels, tokenizer)\n",
    "val_input_ids, val_attention_masks, val_labels = tokenize_data(val_text, val_labels, tokenizer)\n",
    "\n",
    "print(\"Training:\")\n",
    "print(train_input_ids)\n",
    "print(train_attention_masks)\n",
    "print(train_labels)\n",
    "\n",
    "print(\"Validation:\")\n",
    "print(val_input_ids)\n",
    "print(val_attention_masks)\n",
    "print(val_labels)"
   ]
  },
  {
   "cell_type": "code",
   "execution_count": 46,
   "metadata": {},
   "outputs": [
    {
     "name": "stdout",
     "output_type": "stream",
     "text": [
      "(tensor([[    0,    39,  1503,  ...,   327,    19,     2],\n",
      "        [    0, 47384,    53,  ...,  4819, 16565,     2],\n",
      "        [    0,   230,  8126,  ...,    45, 27184,     2],\n",
      "        [    0, 15738,    33,  ...,    99,  1596,     2],\n",
      "        [    0,   556,    32,  ..., 29248,  2178,     2]]), tensor([[1, 1, 1,  ..., 1, 1, 1],\n",
      "        [1, 1, 1,  ..., 1, 1, 1],\n",
      "        [1, 1, 1,  ..., 1, 1, 1],\n",
      "        [1, 1, 1,  ..., 1, 1, 1],\n",
      "        [1, 1, 1,  ..., 1, 1, 1]]), tensor([0, 0, 1, 0, 1]))\n",
      "(tensor([[    0,   142,   130,  ...,     1,     1,     1],\n",
      "        [    0,    45, 11171,  ...,  2018,   703,     2],\n",
      "        [    0,    32,    39,  ..., 49589,    38,     2],\n",
      "        [    0,   230,  1330,  ..., 12961,  9654,     2],\n",
      "        [    0,    19,   396,  ...,    37,  1135,     2]]), tensor([[1, 1, 1,  ..., 0, 0, 0],\n",
      "        [1, 1, 1,  ..., 1, 1, 1],\n",
      "        [1, 1, 1,  ..., 1, 1, 1],\n",
      "        [1, 1, 1,  ..., 1, 1, 1],\n",
      "        [1, 1, 1,  ..., 1, 1, 1]]), tensor([1, 1, 1, 0, 0]))\n"
     ]
    }
   ],
   "source": [
    "# Create dataset\n",
    "train_dataset = TensorDataset(train_input_ids, train_attention_masks, train_labels)\n",
    "print(train_dataset[:5])\n",
    "\n",
    "val_dataset = TensorDataset(val_input_ids, val_attention_masks, val_labels)\n",
    "print(val_dataset[:5])"
   ]
  },
  {
   "cell_type": "code",
   "execution_count": 47,
   "metadata": {},
   "outputs": [],
   "source": [
    "# DataLoader\n",
    "\n",
    "batch_size = 16  # 8, 16\n",
    "\n",
    "train_dataloader = DataLoader(train_dataset, batch_size = batch_size, shuffle = True)\n",
    "\n",
    "validation_dataloader = DataLoader(val_dataset, batch_size = batch_size)"
   ]
  },
  {
   "cell_type": "code",
   "execution_count": 106,
   "metadata": {},
   "outputs": [
    {
     "name": "stderr",
     "output_type": "stream",
     "text": [
      "Some weights of XLMRobertaForSequenceClassification were not initialized from the model checkpoint at vesteinn/DanskBERT and are newly initialized: ['classifier.dense.bias', 'classifier.dense.weight', 'classifier.out_proj.bias', 'classifier.out_proj.weight']\n",
      "You should probably TRAIN this model on a down-stream task to be able to use it for predictions and inference.\n"
     ]
    },
    {
     "data": {
      "text/plain": [
       "XLMRobertaForSequenceClassification(\n",
       "  (roberta): XLMRobertaModel(\n",
       "    (embeddings): XLMRobertaEmbeddings(\n",
       "      (word_embeddings): Embedding(50005, 768, padding_idx=1)\n",
       "      (position_embeddings): Embedding(514, 768, padding_idx=1)\n",
       "      (token_type_embeddings): Embedding(1, 768)\n",
       "      (LayerNorm): LayerNorm((768,), eps=1e-05, elementwise_affine=True)\n",
       "      (dropout): Dropout(p=0.1, inplace=False)\n",
       "    )\n",
       "    (encoder): XLMRobertaEncoder(\n",
       "      (layer): ModuleList(\n",
       "        (0-11): 12 x XLMRobertaLayer(\n",
       "          (attention): XLMRobertaAttention(\n",
       "            (self): XLMRobertaSdpaSelfAttention(\n",
       "              (query): Linear(in_features=768, out_features=768, bias=True)\n",
       "              (key): Linear(in_features=768, out_features=768, bias=True)\n",
       "              (value): Linear(in_features=768, out_features=768, bias=True)\n",
       "              (dropout): Dropout(p=0.1, inplace=False)\n",
       "            )\n",
       "            (output): XLMRobertaSelfOutput(\n",
       "              (dense): Linear(in_features=768, out_features=768, bias=True)\n",
       "              (LayerNorm): LayerNorm((768,), eps=1e-05, elementwise_affine=True)\n",
       "              (dropout): Dropout(p=0.1, inplace=False)\n",
       "            )\n",
       "          )\n",
       "          (intermediate): XLMRobertaIntermediate(\n",
       "            (dense): Linear(in_features=768, out_features=3072, bias=True)\n",
       "            (intermediate_act_fn): GELUActivation()\n",
       "          )\n",
       "          (output): XLMRobertaOutput(\n",
       "            (dense): Linear(in_features=3072, out_features=768, bias=True)\n",
       "            (LayerNorm): LayerNorm((768,), eps=1e-05, elementwise_affine=True)\n",
       "            (dropout): Dropout(p=0.1, inplace=False)\n",
       "          )\n",
       "        )\n",
       "      )\n",
       "    )\n",
       "  )\n",
       "  (classifier): Sequential(\n",
       "    (0): Dropout(p=0.5, inplace=False)\n",
       "    (1): XLMRobertaClassificationHead(\n",
       "      (dense): Linear(in_features=768, out_features=768, bias=True)\n",
       "      (dropout): Dropout(p=0.1, inplace=False)\n",
       "      (out_proj): Linear(in_features=768, out_features=2, bias=True)\n",
       "    )\n",
       "  )\n",
       ")"
      ]
     },
     "execution_count": 106,
     "metadata": {},
     "output_type": "execute_result"
    }
   ],
   "source": [
    "# Load Danish BERT model\n",
    "\n",
    "model = AutoModelForSequenceClassification.from_pretrained(\n",
    "    \"vesteinn/DanskBERT\",\n",
    "    num_labels = 2, # binary, pos/neg\n",
    ")\n",
    "\n",
    "# Adding dropout to the classifier\n",
    "model.classifier = nn.Sequential(\n",
    "    nn.Dropout(0.5),\n",
    "    model.classifier\n",
    ")\n",
    "\n",
    "model.to(device)"
   ]
  },
  {
   "cell_type": "code",
   "execution_count": 107,
   "metadata": {},
   "outputs": [
    {
     "name": "stdout",
     "output_type": "stream",
     "text": [
      "2500\n",
      "<torch.optim.lr_scheduler.LambdaLR object at 0x7f73d978cfb0>\n"
     ]
    },
    {
     "name": "stderr",
     "output_type": "stream",
     "text": [
      "/home/ucloud/.local/lib/python3.12/site-packages/transformers/optimization.py:591: FutureWarning: This implementation of AdamW is deprecated and will be removed in a future version. Use the PyTorch implementation torch.optim.AdamW instead, or set `no_deprecation_warning=True` to disable this warning\n",
      "  warnings.warn(\n"
     ]
    }
   ],
   "source": [
    "# Optimizer & learning rate scheduler\n",
    "\n",
    "lr_in = 2e-5 # 0.001, 2e-5, 5e-5, 1e-5\n",
    "optimizer = AdamW(model.parameters(), lr = lr_in, eps = 1e-8,  weight_decay = 0.01)\n",
    "\n",
    "# set number of epochs\n",
    "epochs = 20\n",
    "\n",
    "# Define learning rate scheduler\n",
    "total_steps = len(train_dataloader) * epochs\n",
    "print(total_steps)\n",
    "\n",
    "warmup_steps = int(0.1 * total_steps)\n",
    "\n",
    "scheduler = get_linear_schedule_with_warmup(optimizer,\n",
    "                                            num_warmup_steps = warmup_steps,\n",
    "                                            #num_warmup_steps = 0,\n",
    "                                            num_training_steps = total_steps)\n",
    "\n",
    "print(scheduler)"
   ]
  },
  {
   "cell_type": "code",
   "execution_count": 108,
   "metadata": {},
   "outputs": [],
   "source": [
    "class EarlyStopping:\n",
    "    \"\"\"\n",
    "    Stops training when the validation accuracy does not improve after a given patience\n",
    "\n",
    "    patience: Number of epochs to wait before stopping if no improvement.\n",
    "    delta: Minimum change in the monitored accuracy to qualify as an improvement.\n",
    "    \"\"\"\n",
    "    def __init__(self, patience = 5, delta = 0.0):\n",
    "        self.patience = patience\n",
    "        self.delta = delta\n",
    "        self.best_score = None\n",
    "        self.early_stop = False\n",
    "        self.counter = 0\n",
    "\n",
    "    def __call__(self, val_loss):\n",
    "        if self.best_score is None or val_loss > self.best_score + self.delta:\n",
    "            self.best_score = val_loss\n",
    "            self.counter = 0\n",
    "        else:\n",
    "            self.counter += 1\n",
    "            if self.counter >= self.patience:\n",
    "                self.early_stop = True"
   ]
  },
  {
   "cell_type": "code",
   "execution_count": 109,
   "metadata": {},
   "outputs": [
    {
     "name": "stdout",
     "output_type": "stream",
     "text": [
      "Starting training...\n",
      "Epoch 1 / 20\n"
     ]
    },
    {
     "name": "stderr",
     "output_type": "stream",
     "text": [
      "Training: 100%|██████████| 125/125 [01:21<00:00,  1.53it/s]\n"
     ]
    },
    {
     "name": "stdout",
     "output_type": "stream",
     "text": [
      "Average training loss: 0.6958361120223999\n",
      "Average training accuracy: 0.505\n",
      "Running Validation...\n"
     ]
    },
    {
     "name": "stderr",
     "output_type": "stream",
     "text": [
      "Validation:   0%|          | 0/32 [04:03<?, ?it/s]\n"
     ]
    },
    {
     "name": "stdout",
     "output_type": "stream",
     "text": [
      "Average validation loss: 0.6764476057142019\n",
      "Average validation accuracy: 0.5729166666666666\n",
      "Epoch 2 / 20\n"
     ]
    },
    {
     "name": "stderr",
     "output_type": "stream",
     "text": [
      "Training: 100%|██████████| 125/125 [01:21<00:00,  1.53it/s]\n"
     ]
    },
    {
     "name": "stdout",
     "output_type": "stream",
     "text": [
      "Average training loss: 0.5624977829456329\n",
      "Average training accuracy: 0.6935\n",
      "Running Validation...\n"
     ]
    },
    {
     "name": "stderr",
     "output_type": "stream",
     "text": [
      "Validation:   0%|          | 0/32 [01:28<?, ?it/s]\n"
     ]
    },
    {
     "name": "stdout",
     "output_type": "stream",
     "text": [
      "Average validation loss: 0.4050339898094535\n",
      "Average validation accuracy: 0.8196614583333334\n",
      "Epoch 3 / 20\n"
     ]
    },
    {
     "name": "stderr",
     "output_type": "stream",
     "text": [
      "Training: 100%|██████████| 125/125 [01:21<00:00,  1.54it/s]\n"
     ]
    },
    {
     "name": "stdout",
     "output_type": "stream",
     "text": [
      "Average training loss: 0.35021375316381453\n",
      "Average training accuracy: 0.863\n",
      "Running Validation...\n"
     ]
    },
    {
     "name": "stderr",
     "output_type": "stream",
     "text": [
      "Validation:   0%|          | 0/32 [01:28<?, ?it/s]\n"
     ]
    },
    {
     "name": "stdout",
     "output_type": "stream",
     "text": [
      "Average validation loss: 0.32585962809389457\n",
      "Average validation accuracy: 0.8723958333333334\n",
      "Epoch 4 / 20\n"
     ]
    },
    {
     "name": "stderr",
     "output_type": "stream",
     "text": [
      "Training: 100%|██████████| 125/125 [01:21<00:00,  1.52it/s]\n"
     ]
    },
    {
     "name": "stdout",
     "output_type": "stream",
     "text": [
      "Average training loss: 0.21590772964805366\n",
      "Average training accuracy: 0.936\n",
      "Running Validation...\n"
     ]
    },
    {
     "name": "stderr",
     "output_type": "stream",
     "text": [
      "Validation:   0%|          | 0/32 [01:29<?, ?it/s]\n"
     ]
    },
    {
     "name": "stdout",
     "output_type": "stream",
     "text": [
      "Average validation loss: 0.5004238197725499\n",
      "Average validation accuracy: 0.88671875\n",
      "Epoch 5 / 20\n"
     ]
    },
    {
     "name": "stderr",
     "output_type": "stream",
     "text": [
      "Training: 100%|██████████| 125/125 [01:21<00:00,  1.53it/s]\n"
     ]
    },
    {
     "name": "stdout",
     "output_type": "stream",
     "text": [
      "Average training loss: 0.14978310474008322\n",
      "Average training accuracy: 0.962\n",
      "Running Validation...\n"
     ]
    },
    {
     "name": "stderr",
     "output_type": "stream",
     "text": [
      "Validation:   0%|          | 0/32 [01:29<?, ?it/s]\n"
     ]
    },
    {
     "name": "stdout",
     "output_type": "stream",
     "text": [
      "Average validation loss: 0.5623389584688994\n",
      "Average validation accuracy: 0.8665364583333334\n",
      "Epoch 6 / 20\n"
     ]
    },
    {
     "name": "stderr",
     "output_type": "stream",
     "text": [
      "Training: 100%|██████████| 125/125 [01:21<00:00,  1.53it/s]\n"
     ]
    },
    {
     "name": "stdout",
     "output_type": "stream",
     "text": [
      "Average training loss: 0.09070439268369228\n",
      "Average training accuracy: 0.9775\n",
      "Running Validation...\n"
     ]
    },
    {
     "name": "stderr",
     "output_type": "stream",
     "text": [
      "Validation:   0%|          | 0/32 [01:29<?, ?it/s]\n"
     ]
    },
    {
     "name": "stdout",
     "output_type": "stream",
     "text": [
      "Average validation loss: 0.6659063108108967\n",
      "Average validation accuracy: 0.8828125\n",
      "Early stopping!\n",
      "Training complete!\n",
      "Model saved to /work/SofieNørboMosegaard#5741/NLP/NLP-exam/finetuned_models/BERT_finetuned_original\n"
     ]
    }
   ],
   "source": [
    "# Training loop\n",
    "\n",
    "# Initialize the early stopping class\n",
    "early_stopping = EarlyStopping(patience = 5, delta = 0.001)\n",
    "\n",
    "training_stats = []\n",
    "\n",
    "print(\"Starting training...\")\n",
    "\n",
    "for epoch_i in range(epochs):\n",
    "    print(f\"Epoch {epoch_i + 1} / {epochs}\")\n",
    "    \n",
    "    model.train()\n",
    "\n",
    "    # Reset the total loss and accuracy for this epoch\n",
    "    total_train_loss = 0\n",
    "    total_train_accuracy = 0\n",
    "    total_train_f1 = 0\n",
    "    total_train_recall = 0\n",
    "    total_train_precision = 0\n",
    "\n",
    "    # For each batch of training data\n",
    "    train_iterator = tqdm(enumerate(train_dataloader), total = len(train_dataloader), desc = \"Training\")\n",
    "    for step, batch in train_iterator:\n",
    "\n",
    "        b_input_ids = batch[0].to(device) # [0]: input ids \n",
    "        b_input_mask = batch[1].to(device) # [1]: attention masks\n",
    "        b_labels = batch[2].to(device) # [2]: labels \n",
    "\n",
    "        model.zero_grad()\n",
    "\n",
    "        # Forward pass\n",
    "        result = model(b_input_ids,\n",
    "                        attention_mask = b_input_mask,\n",
    "                        labels = b_labels)\n",
    "\n",
    "        loss = result.loss\n",
    "        logits = result.logits\n",
    "\n",
    "        total_train_loss += loss.item() # Accumulate the training loss over all of the batches\n",
    "\n",
    "        # Move logits and labels to CPU\n",
    "        preds = logits.detach().cpu().numpy()  # Predicted labels --> convert to numpy\n",
    "        labels = b_labels.cpu().numpy() \n",
    "\n",
    "        # Calculate accuracy\n",
    "        total_train_accuracy += flat_accuracy(preds, labels)\n",
    "\n",
    "        # Compute metrics\n",
    "        f1, recall, precision = compute_metrics(preds, labels)\n",
    "        total_train_f1 += f1\n",
    "        total_train_recall += recall\n",
    "        total_train_precision += precision\n",
    "\n",
    "        # Perform a backward pass to calculate the gradients\n",
    "        loss.backward()\n",
    "\n",
    "        # Clip the norm of the gradients to 1.0.\n",
    "        torch.nn.utils.clip_grad_norm_(model.parameters(), 1.0)\n",
    "\n",
    "        # Update parameters and take a step using the computed gradient\n",
    "        optimizer.step()\n",
    "\n",
    "        # Update the learning rate\n",
    "        scheduler.step()\n",
    "\n",
    "        # Log the current learning rate\n",
    "        current_lr = scheduler.get_last_lr()[0]\n",
    "        print(f\"Step {step + 1}: Learning rate = {current_lr}\")\n",
    "\n",
    "    # Calculate the average loss  and accuracy over all of the batches\n",
    "    avg_train_loss = total_train_loss / len(train_dataloader)\n",
    "    avg_train_accuracy = total_train_accuracy / len(train_dataloader)\n",
    "    print(f\"Average training loss: {avg_train_loss}\")\n",
    "    print(f\"Average training accuracy: {avg_train_accuracy}\")\n",
    "\n",
    "    avg_train_f1 = total_train_f1 / len(train_dataloader)\n",
    "    avg_train_recall = total_train_recall / len(train_dataloader)\n",
    "    avg_train_precision = total_train_precision / len(train_dataloader)\n",
    "    print(f\"Training F1: {avg_train_f1}, recall: {avg_train_recall}, precision: {avg_train_precision}\")\n",
    "\n",
    "    # Validation\n",
    "    print(\"Running Validation...\")\n",
    "    \n",
    "    model.eval()\n",
    "\n",
    "    # Tracking variables \n",
    "    total_eval_accuracy = 0\n",
    "    total_eval_loss = 0\n",
    "    total_eval_f1 = 0\n",
    "    total_eval_recall = 0\n",
    "    total_eval_precision = 0\n",
    "\n",
    "    # Evaluate data for one epoch\n",
    "    validation_iterator = tqdm(validation_dataloader, desc = \"Validation\")\n",
    "    for batch in validation_dataloader:\n",
    "\n",
    "        b_input_ids = batch[0].to(device)\n",
    "        b_input_mask = batch[1].to(device)\n",
    "        b_labels = batch[2].to(device)\n",
    "        \n",
    "        # Tells pytorch not to construct the compute graph during the forward pass\n",
    "        with torch.no_grad():\n",
    "\n",
    "            result = model(b_input_ids,\n",
    "                            attention_mask = b_input_mask,\n",
    "                            labels = b_labels)\n",
    "            \n",
    "            loss = result.loss     # Loss for validation batch\n",
    "            logits = result.logits # Predicted logits\n",
    "\n",
    "            # Move logits and labels to CPU\n",
    "            preds = logits.detach().cpu().numpy()  # Predicted labels --> convert to numpy\n",
    "            labels = b_labels.cpu().numpy()  # True labels --> convert labels to numpy\n",
    "\n",
    "            # Accumulate the validation loss\n",
    "            total_eval_loss += loss.item()\n",
    "\n",
    "            # Calculate the accuracy for this batch of test sentences + accumulate it over all batches\n",
    "            total_eval_accuracy += flat_accuracy(preds, labels)\n",
    "\n",
    "            # Compute metrics\n",
    "            f1, recall, precision = compute_metrics(preds, labels)\n",
    "            total_eval_f1 += f1\n",
    "            total_eval_recall += recall\n",
    "            total_eval_precision += precision\n",
    "\n",
    "    # Report the final accuracy for the validation run\n",
    "    avg_val_loss = total_eval_loss / len(validation_dataloader)\n",
    "    avg_val_accuracy = total_eval_accuracy / len(validation_dataloader)\n",
    "    print(f\"Average validation loss: {avg_val_loss}\")\n",
    "    print(f\"Average validation accuracy: {avg_val_accuracy}\")\n",
    "\n",
    "    avg_val_f1 = total_eval_f1 / len(validation_dataloader)\n",
    "    avg_val_recall = total_eval_recall / len(validation_dataloader)\n",
    "    avg_val_precision = total_eval_precision / len(validation_dataloader)\n",
    "    print(f\"Validation F1: {avg_val_f1}, recall: {avg_val_recall}, precision: {avg_val_precision}\")\n",
    "\n",
    "\n",
    "    # Save all stats\n",
    "    training_stats.append({\n",
    "        'epoch': epoch_i + 1,\n",
    "\n",
    "        'Training loss': avg_train_loss,\n",
    "        'Training accuracy': avg_train_accuracy,\n",
    "        'Training F1': avg_train_f1,\n",
    "        'Training recall': avg_train_recall,\n",
    "        'Training precision': avg_train_precision,\n",
    "\n",
    "        'Validation loss': avg_val_loss,\n",
    "        'Validation accuracy': avg_val_accuracy,\n",
    "        'Validation F1': avg_val_f1,\n",
    "        'Validation recall': avg_val_recall,\n",
    "        'Validation precision': avg_val_precision,\n",
    "    })\n",
    "\n",
    "    # Early stopping check\n",
    "    early_stopping(avg_val_loss)\n",
    "    if early_stopping.early_stop:\n",
    "        print(\"Early stopping!\")\n",
    "        break\n",
    "\n",
    "\n",
    "print(\"Training complete!\")\n",
    "\n",
    "\n",
    "# Save the fine-tuned model\n",
    "output_model_dir = \"/work/SofieNørboMosegaard#5741/NLP/NLP-exam/finetuned_models/BERT_finetuned_original\"\n",
    "model.save_pretrained(output_model_dir)\n",
    "tokenizer.save_pretrained(output_model_dir)\n",
    "print(f\"Model saved to {output_model_dir}\")\n",
    "\n",
    "\n",
    "# saved format:\n",
    "## config.json: model's configuration (i.e., number of labels, model type, architecture...)\n",
    "## model.safetensors: model's weights\n",
    "## special_tokens_map.json + tokenizer_config.json: tokenizer-related configurations\n",
    "## tokenizer.json: tokenizer vocabulary and settings\n"
   ]
  },
  {
   "cell_type": "code",
   "execution_count": 110,
   "metadata": {},
   "outputs": [
    {
     "name": "stdout",
     "output_type": "stream",
     "text": [
      "       Training loss  Training accuracy  Validation loss  Validation accuracy\n",
      "epoch                                                                        \n",
      "1           0.695836             0.5050         0.676448             0.572917\n",
      "2           0.562498             0.6935         0.405034             0.819661\n",
      "3           0.350214             0.8630         0.325860             0.872396\n",
      "4           0.215908             0.9360         0.500424             0.886719\n",
      "5           0.149783             0.9620         0.562339             0.866536\n",
      "6           0.090704             0.9775         0.665906             0.882812\n"
     ]
    }
   ],
   "source": [
    "df_stats = pd.DataFrame(training_stats).set_index('epoch')\n",
    "\n",
    "print(df_stats)\n",
    "\n",
    "#stats_file = os.path.join(output_model_dir, \"training_stats.csv\")\n",
    "#df_stats.to_csv(stats_file)"
   ]
  },
  {
   "cell_type": "code",
   "execution_count": 111,
   "metadata": {},
   "outputs": [
    {
     "data": {
      "image/png": "[encoded data removed]",
      "text/plain": [
       "<Figure size 1200x600 with 2 Axes>"
      ]
     },
     "metadata": {},
     "output_type": "display_data"
    }
   ],
   "source": [
    "# Plot training and validation loss, accuracy, and F1\n",
    "\n",
    "sns.set(style = 'darkgrid')\n",
    "sns.set(font_scale = 1.5)\n",
    "plt.rcParams[\"figure.figsize\"] = (18, 6)\n",
    "\n",
    "fig, axes = plt.subplots(1, 3)\n",
    "\n",
    "# loss\n",
    "axes[0].plot(df_stats['Training loss'], 'b-o', label = \"Training\")\n",
    "axes[0].plot(df_stats['Validation loss'], 'g-o', label = \"Validation\")\n",
    "axes[0].set_title(\"Training & Validation Loss\")\n",
    "axes[0].set_xlabel(\"Epoch\")\n",
    "axes[0].set_ylabel(\"Loss\")\n",
    "axes[0].legend()\n",
    "axes[0].set_xticks(range(len(df_stats['Training loss'])))\n",
    "axes[0].set_xticklabels(range(1, len(df_stats['Training loss']) + 1))\n",
    "\n",
    "# acc\n",
    "axes[1].plot(df_stats['Training accuracy'], 'b-o', label = \"Training\")\n",
    "axes[1].plot(df_stats['Validation accuracy'], 'g-o', label = \"Validation\")\n",
    "axes[1].set_title(\"Training & Validation Accuracy\")\n",
    "axes[1].set_xlabel(\"Epoch\")\n",
    "axes[1].set_ylabel(\"Accuracy\")\n",
    "axes[1].legend()\n",
    "axes[1].set_xticks(range(len(df_stats['Training accuracy'])))\n",
    "axes[1].set_xticklabels(range(1, len(df_stats['Training accuracy']) + 1))\n",
    "\n",
    "# F1 Score\n",
    "axes[2].plot(df_stats['Training F1'], 'b-o', label = \"Training\")\n",
    "axes[2].plot(df_stats['Validation F1'], 'g-o', label = \"Validation\")\n",
    "axes[2].set_title(\"Training & Validation F1 Score\")\n",
    "axes[2].set_xlabel(\"Epoch\")\n",
    "axes[2].set_ylabel(\"F1 Score\")\n",
    "axes[2].legend()\n",
    "axes[2].set_xticks(range(len(df_stats['Training F1'])))\n",
    "axes[2].set_xticklabels(range(1, len(df_stats['Training F1']) + 1))\n",
    "\n",
    "plt.tight_layout()\n",
    "plt.show()"
   ]
  },
  {
   "cell_type": "code",
   "execution_count": null,
   "metadata": {},
   "outputs": [],
   "source": []
  },
  {
   "cell_type": "code",
   "execution_count": null,
   "metadata": {},
   "outputs": [],
   "source": []
  },
  {
   "cell_type": "markdown",
   "metadata": {},
   "source": [
    "## Test"
   ]
  },
  {
   "cell_type": "code",
   "execution_count": 112,
   "metadata": {},
   "outputs": [
    {
     "name": "stdout",
     "output_type": "stream",
     "text": [
      "<class 'list'>\n",
      "814\n",
      "<class 'str'>\n"
     ]
    }
   ],
   "source": [
    "def load_data(file_path):\n",
    "\n",
    "    df = pd.read_csv(file_path)\n",
    "    df['Sentiment'] = df['Sentiment'].map({'pos': 1, 'neg': 0})\n",
    "    \n",
    "    df['text'] = df['text'].astype(str)\n",
    "    text = df['text'].tolist()\n",
    "    labels = df['Sentiment'].tolist()\n",
    "\n",
    "    return text, labels\n",
    "\n",
    "F_train_text, F_train_labels = load_data(\"/work/SofieNørboMosegaard#5741/NLP/NLP-exam/data_2/all_female_test.csv\")\n",
    "M_train_text, M_train_labels = load_data(\"/work/SofieNørboMosegaard#5741/NLP/NLP-exam/data_2/all_male_test.csv\")\n",
    "\n",
    "# make sure its the right format\n",
    "print(type(F_train_text))  #  <class 'list'>\n",
    "print(len(F_train_text))  # 814\n",
    "print(type(F_train_text[0])) # str"
   ]
  },
  {
   "cell_type": "code",
   "execution_count": 113,
   "metadata": {},
   "outputs": [
    {
     "data": {
      "text/plain": [
       "XLMRobertaTokenizerFast(name_or_path='vesteinn/DanskBERT', vocab_size=50005, model_max_length=1000000000000000019884624838656, is_fast=True, padding_side='right', truncation_side='right', special_tokens={'bos_token': '<s>', 'eos_token': '</s>', 'unk_token': '<unk>', 'sep_token': '</s>', 'pad_token': '<pad>', 'cls_token': '<s>', 'mask_token': '<mask>'}, clean_up_tokenization_spaces=False, added_tokens_decoder={\n",
       "\t0: AddedToken(\"<s>\", rstrip=False, lstrip=False, single_word=False, normalized=False, special=True),\n",
       "\t1: AddedToken(\"<pad>\", rstrip=False, lstrip=False, single_word=False, normalized=False, special=True),\n",
       "\t2: AddedToken(\"</s>\", rstrip=False, lstrip=False, single_word=False, normalized=False, special=True),\n",
       "\t3: AddedToken(\"<unk>\", rstrip=False, lstrip=False, single_word=False, normalized=False, special=True),\n",
       "\t50004: AddedToken(\"<mask>\", rstrip=False, lstrip=False, single_word=False, normalized=False, special=True),\n",
       "}\n",
       ")"
      ]
     },
     "execution_count": 113,
     "metadata": {},
     "output_type": "execute_result"
    }
   ],
   "source": [
    "# Load  tokenizer\n",
    "\n",
    "tokenizer = AutoTokenizer.from_pretrained(\"vesteinn/DanskBERT\")\n",
    "\n",
    "#finetuned_model= \"/work/SofieNørboMosegaard#5741/NLP/NLP-exam/finetuned_models/BERT_finetuned_original\"\n",
    "#tokenizer = AutoTokenizer.from_pretrained(finetuned_model)\n",
    "\n",
    "tokenizer"
   ]
  },
  {
   "cell_type": "code",
   "execution_count": 114,
   "metadata": {},
   "outputs": [
    {
     "name": "stdout",
     "output_type": "stream",
     "text": [
      "torch.Size([814, 512])\n",
      "torch.Size([814, 512])\n",
      "torch.Size([814])\n"
     ]
    }
   ],
   "source": [
    "def tokenize_data(test_text, tokenizer):\n",
    "\n",
    "    input_ids = []\n",
    "    attention_masks = []\n",
    "\n",
    "    for text in test_text:\n",
    "        encoded_dict = tokenizer.encode_plus(\n",
    "        text,\n",
    "        add_special_tokens = True,\n",
    "        max_length = 512,\n",
    "        padding = \"max_length\",\n",
    "        truncation = True,\n",
    "        return_attention_mask = True,\n",
    "        return_tensors = \"pt\",\n",
    "    )\n",
    "\n",
    "        input_ids.append(encoded_dict['input_ids'])\n",
    "        attention_masks.append(encoded_dict['attention_mask'])\n",
    "\n",
    "    input_ids = torch.cat(input_ids, dim = 0)\n",
    "    attention_masks = torch.cat(attention_masks, dim = 0)\n",
    "    \n",
    "    return input_ids, attention_masks\n",
    "\n",
    "# Tokenize the female and male datasets\n",
    "F_input_ids, F_attention_masks = tokenize_data(F_train_text, tokenizer)\n",
    "M_input_ids, M_attention_masks = tokenize_data(M_train_text, tokenizer)\n",
    "\n",
    "# Convert labels to tensors\n",
    "F_labels = torch.tensor(F_train_labels)\n",
    "M_labels = torch.tensor(M_train_labels)\n",
    "\n",
    "# Verify shapes\n",
    "print(F_input_ids.shape)  # [814, 512]\n",
    "print(F_attention_masks.shape)  # [814, 512]\n",
    "print(F_labels.shape)  # [814]"
   ]
  },
  {
   "cell_type": "code",
   "execution_count": 115,
   "metadata": {},
   "outputs": [],
   "source": [
    "# Create dataset\n",
    "F_dataset = TensorDataset(F_input_ids, F_attention_masks, F_labels)\n",
    "M_dataset = TensorDataset(M_input_ids, M_attention_masks, M_labels)\n",
    "\n",
    "batch_size = 16  # 8, 16\n",
    "\n",
    "F_dataloader = DataLoader(F_dataset, batch_size = batch_size, shuffle = True)\n",
    "M_dataloader = DataLoader(M_dataset, batch_size = batch_size, shuffle = True)"
   ]
  },
  {
   "cell_type": "code",
   "execution_count": 116,
   "metadata": {},
   "outputs": [
    {
     "name": "stderr",
     "output_type": "stream",
     "text": [
      "Some weights of XLMRobertaForSequenceClassification were not initialized from the model checkpoint at vesteinn/DanskBERT and are newly initialized: ['classifier.dense.bias', 'classifier.dense.weight', 'classifier.out_proj.bias', 'classifier.out_proj.weight']\n",
      "You should probably TRAIN this model on a down-stream task to be able to use it for predictions and inference.\n"
     ]
    },
    {
     "data": {
      "text/plain": [
       "XLMRobertaForSequenceClassification(\n",
       "  (roberta): XLMRobertaModel(\n",
       "    (embeddings): XLMRobertaEmbeddings(\n",
       "      (word_embeddings): Embedding(50005, 768, padding_idx=1)\n",
       "      (position_embeddings): Embedding(514, 768, padding_idx=1)\n",
       "      (token_type_embeddings): Embedding(1, 768)\n",
       "      (LayerNorm): LayerNorm((768,), eps=1e-05, elementwise_affine=True)\n",
       "      (dropout): Dropout(p=0.1, inplace=False)\n",
       "    )\n",
       "    (encoder): XLMRobertaEncoder(\n",
       "      (layer): ModuleList(\n",
       "        (0-11): 12 x XLMRobertaLayer(\n",
       "          (attention): XLMRobertaAttention(\n",
       "            (self): XLMRobertaSdpaSelfAttention(\n",
       "              (query): Linear(in_features=768, out_features=768, bias=True)\n",
       "              (key): Linear(in_features=768, out_features=768, bias=True)\n",
       "              (value): Linear(in_features=768, out_features=768, bias=True)\n",
       "              (dropout): Dropout(p=0.1, inplace=False)\n",
       "            )\n",
       "            (output): XLMRobertaSelfOutput(\n",
       "              (dense): Linear(in_features=768, out_features=768, bias=True)\n",
       "              (LayerNorm): LayerNorm((768,), eps=1e-05, elementwise_affine=True)\n",
       "              (dropout): Dropout(p=0.1, inplace=False)\n",
       "            )\n",
       "          )\n",
       "          (intermediate): XLMRobertaIntermediate(\n",
       "            (dense): Linear(in_features=768, out_features=3072, bias=True)\n",
       "            (intermediate_act_fn): GELUActivation()\n",
       "          )\n",
       "          (output): XLMRobertaOutput(\n",
       "            (dense): Linear(in_features=3072, out_features=768, bias=True)\n",
       "            (LayerNorm): LayerNorm((768,), eps=1e-05, elementwise_affine=True)\n",
       "            (dropout): Dropout(p=0.1, inplace=False)\n",
       "          )\n",
       "        )\n",
       "      )\n",
       "    )\n",
       "  )\n",
       "  (classifier): XLMRobertaClassificationHead(\n",
       "    (dense): Linear(in_features=768, out_features=768, bias=True)\n",
       "    (dropout): Dropout(p=0.1, inplace=False)\n",
       "    (out_proj): Linear(in_features=768, out_features=2, bias=True)\n",
       "  )\n",
       ")"
      ]
     },
     "execution_count": 116,
     "metadata": {},
     "output_type": "execute_result"
    }
   ],
   "source": [
    "# Load pretrained or fine-tuned  BERT\n",
    "\n",
    "pretrained_model = AutoModelForSequenceClassification.from_pretrained(\"vesteinn/DanskBERT\", num_labels = 2)\n",
    "pretrained_model.to(device)\n",
    "\n",
    "#finetuned_model = \"/work/SofieNørboMosegaard#5741/NLP/NLP-exam/finetuned_models\" # BERT_finetuned_original\n",
    "#finetuned_model = AutoModelForSequenceClassification.from_pretrained(finetuned_model)\n",
    "#finetuned_model.to(device)"
   ]
  },
  {
   "cell_type": "code",
   "execution_count": 117,
   "metadata": {},
   "outputs": [],
   "source": [
    "def test_model(model, dataloader):\n",
    "\n",
    "    model.eval()\n",
    "\n",
    "    predictions = []\n",
    "    true_labels = []\n",
    "\n",
    "    for batch in dataloader:\n",
    "\n",
    "        b_input_ids = batch[0].to(device)\n",
    "        b_input_mask = batch[1].to(device)\n",
    "        b_labels = batch[2].to(device)\n",
    "\n",
    "        with torch.no_grad():\n",
    "            outputs = model(b_input_ids, attention_mask = b_input_mask)\n",
    "            logits = outputs.logits\n",
    "\n",
    "        # Convert logits to predicted class labels\n",
    "        preds = torch.argmax(logits, dim = 1).cpu().numpy()\n",
    "        predictions.extend(preds)\n",
    "        true_labels.extend(b_labels.cpu().numpy())\n",
    "\n",
    "    # Compute metrics\n",
    "    accuracy = accuracy_score(true_labels, predictions)\n",
    "    precision = precision_score(true_labels, predictions)\n",
    "    recall = recall_score(true_labels, predictions)\n",
    "    f1 = f1_score(true_labels, predictions)\n",
    "\n",
    "    metrics = {\n",
    "        \"accuracy\": accuracy,\n",
    "        \"precision\": precision,\n",
    "        \"recall\": recall,\n",
    "        \"f1_score\": f1\n",
    "    }\n",
    "\n",
    "    return metrics, predictions"
   ]
  },
  {
   "cell_type": "code",
   "execution_count": 125,
   "metadata": {},
   "outputs": [
    {
     "data": {
      "text/plain": [
       "{'accuracy': 0.49017199017199015,\n",
       " 'precision': 0.4887459807073955,\n",
       " 'recall': 0.37254901960784315,\n",
       " 'f1_score': 0.4228094575799722}"
      ]
     },
     "execution_count": 125,
     "metadata": {},
     "output_type": "execute_result"
    }
   ],
   "source": [
    "F_metrics, F_predictions = test_model(pretrained_model, F_dataloader)\n",
    "F_metrics"
   ]
  },
  {
   "cell_type": "code",
   "execution_count": 126,
   "metadata": {},
   "outputs": [
    {
     "data": {
      "text/plain": [
       "{'accuracy': 0.5,\n",
       " 'precision': 0.5006180469715699,\n",
       " 'recall': 0.9926470588235294,\n",
       " 'f1_score': 0.6655710764174199}"
      ]
     },
     "execution_count": 126,
     "metadata": {},
     "output_type": "execute_result"
    }
   ],
   "source": [
    "M_metrics, M_predictions = test_model(pretrained_model, M_dataloader)\n",
    "M_metrics"
   ]
  },
  {
   "cell_type": "code",
   "execution_count": 120,
   "metadata": {},
   "outputs": [
    {
     "name": "stdout",
     "output_type": "stream",
     "text": [
      "Pretrained model bias (Male - Female): -0.6117936117936118\n"
     ]
    }
   ],
   "source": [
    "def calculate_bias(female_preds, male_preds):\n",
    "\n",
    "    bias = np.mean(np.array(female_preds) - np.array(male_preds))\n",
    "\n",
    "    return bias\n",
    "\n",
    "pretrained_bias = calculate_bias(F_predictions, M_predictions)\n",
    "print(f\"Pretrained model bias (Male - Female): {pretrained_bias}\")"
   ]
  },
  {
   "cell_type": "code",
   "execution_count": 147,
   "metadata": {},
   "outputs": [],
   "source": [
    "# save results\n",
    "\n",
    "metrics_female = {'Model': \"Pretrained Model (Female Dataset)\",\n",
    "                'Metrics': F_metrics,\n",
    "                'Bias': pretrained_bias}\n",
    "\n",
    "metrics_male = {'Model': \"Pretrained Model (Male Dataset)\",\n",
    "                'Metrics': M_metrics,\n",
    "                'Bias': pretrained_bias}\n",
    "\n",
    "predictions_female = {'Model': \"Pretrained Model (Female Dataset)\",\n",
    "                    'Predictions': F_predictions,\n",
    "                    'True_Labels': F_train_labels}\n",
    "\n",
    "predictions_male = {'Model': \"Pretrained Model (Male Dataset)\",\n",
    "                    'Predictions': M_predictions,\n",
    "                    'True_Labels': M_train_labels}\n",
    "\n",
    "# Save the metrics to a pickle file\n",
    "with open(\"/work/SofieNørboMosegaard#5741/NLP/NLP-exam/results/model_results.pkl\", 'ab') as f:\n",
    "    pickle.dump(metrics_female, f)\n",
    "    pickle.dump(metrics_male, f)\n",
    "\n",
    "# Save the predictions to a pickle file\n",
    "with open(\"/work/SofieNørboMosegaard#5741/NLP/NLP-exam/results/predictions.pkl\", 'ab') as f:\n",
    "    pickle.dump(predictions_female, f)\n",
    "    pickle.dump(predictions_male, f)\n"
   ]
  },
  {
   "cell_type": "code",
   "execution_count": 152,
   "metadata": {},
   "outputs": [
    {
     "name": "stdout",
     "output_type": "stream",
     "text": [
      "[{'Model': 'Pretrained Model (Female Dataset)', 'Metrics': {'accuracy': 0.49017199017199015, 'precision': 0.4887459807073955, 'recall': 0.37254901960784315, 'f1_score': 0.4228094575799722}, 'Bias': np.float64(-0.6117936117936118)}]\n",
      "[{'Model': 'Pretrained Model (Female Dataset)', 'Predictions': [np.int64(0), np.int64(1), np.int64(1), np.int64(0), np.int64(0), np.int64(1), np.int64(0), np.int64(0), np.int64(0), np.int64(1), np.int64(0), np.int64(0), np.int64(1), np.int64(1), np.int64(0), np.int64(0), np.int64(0), np.int64(1), np.int64(0), np.int64(0), np.int64(0), np.int64(0), np.int64(1), np.int64(0), np.int64(0), np.int64(0), np.int64(0), np.int64(0), np.int64(0), np.int64(1), np.int64(1), np.int64(0), np.int64(1), np.int64(0), np.int64(0), np.int64(0), np.int64(0), np.int64(0), np.int64(0), np.int64(1), np.int64(0), np.int64(0), np.int64(0), np.int64(0), np.int64(0), np.int64(1), np.int64(0), np.int64(0), np.int64(0), np.int64(0), np.int64(0), np.int64(0), np.int64(0), np.int64(1), np.int64(1), np.int64(1), np.int64(0), np.int64(0), np.int64(1), np.int64(1), np.int64(1), np.int64(1), np.int64(0), np.int64(1), np.int64(1), np.int64(0), np.int64(0), np.int64(1), np.int64(0), np.int64(1), np.int64(0), np.int64(0), np.int64(1), np.int64(0), np.int64(0), np.int64(0), np.int64(0), np.int64(0), np.int64(1), np.int64(1), np.int64(0), np.int64(0), np.int64(0), np.int64(1), np.int64(0), np.int64(1), np.int64(0), np.int64(1), np.int64(1), np.int64(1), np.int64(1), np.int64(0), np.int64(0), np.int64(0), np.int64(1), np.int64(1), np.int64(0), np.int64(0), np.int64(0), np.int64(1), np.int64(1), np.int64(0), np.int64(1), np.int64(1), np.int64(1), np.int64(0), np.int64(1), np.int64(1), np.int64(1), np.int64(1), np.int64(0), np.int64(1), np.int64(1), np.int64(0), np.int64(0), np.int64(1), np.int64(0), np.int64(0), np.int64(1), np.int64(0), np.int64(0), np.int64(1), np.int64(0), np.int64(0), np.int64(0), np.int64(0), np.int64(0), np.int64(0), np.int64(1), np.int64(1), np.int64(0), np.int64(1), np.int64(0), np.int64(0), np.int64(0), np.int64(0), np.int64(0), np.int64(0), np.int64(1), np.int64(0), np.int64(0), np.int64(0), np.int64(1), np.int64(1), np.int64(0), np.int64(0), np.int64(1), np.int64(0), np.int64(1), np.int64(0), np.int64(1), np.int64(0), np.int64(0), np.int64(1), np.int64(0), np.int64(1), np.int64(0), np.int64(0), np.int64(1), np.int64(1), np.int64(1), np.int64(1), np.int64(1), np.int64(0), np.int64(0), np.int64(1), np.int64(1), np.int64(1), np.int64(1), np.int64(1), np.int64(1), np.int64(0), np.int64(1), np.int64(0), np.int64(0), np.int64(1), np.int64(1), np.int64(0), np.int64(1), np.int64(1), np.int64(0), np.int64(0), np.int64(1), np.int64(1), np.int64(1), np.int64(0), np.int64(0), np.int64(0), np.int64(0), np.int64(1), np.int64(0), np.int64(0), np.int64(0), np.int64(0), np.int64(0), np.int64(0), np.int64(0), np.int64(1), np.int64(1), np.int64(0), np.int64(1), np.int64(1), np.int64(0), np.int64(0), np.int64(0), np.int64(0), np.int64(0), np.int64(0), np.int64(0), np.int64(0), np.int64(0), np.int64(0), np.int64(1), np.int64(1), np.int64(0), np.int64(1), np.int64(0), np.int64(0), np.int64(0), np.int64(0), np.int64(1), np.int64(0), np.int64(1), np.int64(1), np.int64(1), np.int64(1), np.int64(0), np.int64(0), np.int64(0), np.int64(0), np.int64(1), np.int64(0), np.int64(0), np.int64(0), np.int64(1), np.int64(0), np.int64(0), np.int64(0), np.int64(0), np.int64(0), np.int64(1), np.int64(1), np.int64(0), np.int64(0), np.int64(1), np.int64(0), np.int64(0), np.int64(0), np.int64(0), np.int64(0), np.int64(1), np.int64(0), np.int64(0), np.int64(0), np.int64(0), np.int64(0), np.int64(0), np.int64(0), np.int64(0), np.int64(1), np.int64(0), np.int64(1), np.int64(0), np.int64(1), np.int64(0), np.int64(0), np.int64(1), np.int64(0), np.int64(0), np.int64(1), np.int64(0), np.int64(0), np.int64(0), np.int64(1), np.int64(0), np.int64(1), np.int64(1), np.int64(1), np.int64(1), np.int64(0), np.int64(1), np.int64(1), np.int64(0), np.int64(0), np.int64(1), np.int64(0), np.int64(1), np.int64(0), np.int64(0), np.int64(1), np.int64(1), np.int64(1), np.int64(1), np.int64(0), np.int64(0), np.int64(1), np.int64(1), np.int64(1), np.int64(0), np.int64(0), np.int64(0), np.int64(1), np.int64(0), np.int64(0), np.int64(0), np.int64(0), np.int64(0), np.int64(0), np.int64(0), np.int64(1), np.int64(1), np.int64(0), np.int64(1), np.int64(0), np.int64(0), np.int64(1), np.int64(1), np.int64(1), np.int64(1), np.int64(1), np.int64(0), np.int64(0), np.int64(0), np.int64(1), np.int64(0), np.int64(0), np.int64(1), np.int64(0), np.int64(0), np.int64(1), np.int64(0), np.int64(1), np.int64(1), np.int64(0), np.int64(1), np.int64(0), np.int64(1), np.int64(0), np.int64(0), np.int64(1), np.int64(0), np.int64(1), np.int64(0), np.int64(0), np.int64(0), np.int64(0), np.int64(1), np.int64(0), np.int64(0), np.int64(0), np.int64(0), np.int64(1), np.int64(0), np.int64(1), np.int64(0), np.int64(0), np.int64(0), np.int64(1), np.int64(1), np.int64(0), np.int64(0), np.int64(0), np.int64(0), np.int64(0), np.int64(0), np.int64(0), np.int64(0), np.int64(0), np.int64(0), np.int64(1), np.int64(0), np.int64(1), np.int64(0), np.int64(0), np.int64(0), np.int64(1), np.int64(1), np.int64(0), np.int64(0), np.int64(0), np.int64(1), np.int64(1), np.int64(0), np.int64(0), np.int64(0), np.int64(0), np.int64(0), np.int64(0), np.int64(1), np.int64(0), np.int64(0), np.int64(1), np.int64(0), np.int64(1), np.int64(1), np.int64(0), np.int64(0), np.int64(0), np.int64(0), np.int64(1), np.int64(0), np.int64(0), np.int64(0), np.int64(0), np.int64(1), np.int64(0), np.int64(1), np.int64(1), np.int64(0), np.int64(1), np.int64(0), np.int64(0), np.int64(0), np.int64(0), np.int64(0), np.int64(0), np.int64(1), np.int64(0), np.int64(0), np.int64(1), np.int64(1), np.int64(0), np.int64(1), np.int64(0), np.int64(1), np.int64(1), np.int64(0), np.int64(0), np.int64(0), np.int64(1), np.int64(1), np.int64(1), np.int64(0), np.int64(0), np.int64(1), np.int64(0), np.int64(0), np.int64(1), np.int64(0), np.int64(0), np.int64(0), np.int64(0), np.int64(0), np.int64(0), np.int64(0), np.int64(0), np.int64(1), np.int64(0), np.int64(0), np.int64(0), np.int64(0), np.int64(1), np.int64(1), np.int64(0), np.int64(1), np.int64(0), np.int64(0), np.int64(1), np.int64(1), np.int64(0), np.int64(0), np.int64(0), np.int64(0), np.int64(0), np.int64(0), np.int64(1), np.int64(1), np.int64(0), np.int64(0), np.int64(1), np.int64(0), np.int64(1), np.int64(0), np.int64(1), np.int64(1), np.int64(0), np.int64(0), np.int64(0), np.int64(0), np.int64(1), np.int64(1), np.int64(0), np.int64(0), np.int64(0), np.int64(1), np.int64(0), np.int64(0), np.int64(0), np.int64(0), np.int64(0), np.int64(1), np.int64(0), np.int64(0), np.int64(1), np.int64(1), np.int64(0), np.int64(0), np.int64(0), np.int64(1), np.int64(1), np.int64(1), np.int64(0), np.int64(1), np.int64(0), np.int64(1), np.int64(1), np.int64(0), np.int64(0), np.int64(0), np.int64(1), np.int64(0), np.int64(1), np.int64(0), np.int64(0), np.int64(0), np.int64(0), np.int64(0), np.int64(0), np.int64(0), np.int64(0), np.int64(1), np.int64(0), np.int64(0), np.int64(0), np.int64(0), np.int64(0), np.int64(0), np.int64(1), np.int64(0), np.int64(1), np.int64(1), np.int64(0), np.int64(0), np.int64(0), np.int64(1), np.int64(0), np.int64(0), np.int64(0), np.int64(1), np.int64(0), np.int64(0), np.int64(0), np.int64(0), np.int64(1), np.int64(1), np.int64(0), np.int64(1), np.int64(0), np.int64(1), np.int64(0), np.int64(0), np.int64(0), np.int64(1), np.int64(1), np.int64(1), np.int64(1), np.int64(0), np.int64(1), np.int64(0), np.int64(1), np.int64(0), np.int64(0), np.int64(0), np.int64(0), np.int64(0), np.int64(0), np.int64(1), np.int64(0), np.int64(1), np.int64(1), np.int64(1), np.int64(0), np.int64(1), np.int64(1), np.int64(0), np.int64(0), np.int64(0), np.int64(1), np.int64(1), np.int64(1), np.int64(1), np.int64(1), np.int64(0), np.int64(0), np.int64(0), np.int64(0), np.int64(1), np.int64(0), np.int64(1), np.int64(0), np.int64(1), np.int64(0), np.int64(0), np.int64(1), np.int64(0), np.int64(0), np.int64(0), np.int64(1), np.int64(1), np.int64(1), np.int64(1), np.int64(0), np.int64(0), np.int64(1), np.int64(0), np.int64(1), np.int64(0), np.int64(0), np.int64(1), np.int64(1), np.int64(1), np.int64(0), np.int64(1), np.int64(1), np.int64(0), np.int64(1), np.int64(1), np.int64(0), np.int64(0), np.int64(0), np.int64(1), np.int64(0), np.int64(1), np.int64(1), np.int64(0), np.int64(0), np.int64(0), np.int64(0), np.int64(1), np.int64(0), np.int64(1), np.int64(1), np.int64(0), np.int64(0), np.int64(1), np.int64(0), np.int64(0), np.int64(1), np.int64(0), np.int64(0), np.int64(0), np.int64(0), np.int64(0), np.int64(1), np.int64(1), np.int64(1), np.int64(1), np.int64(1), np.int64(1), np.int64(0), np.int64(0), np.int64(0), np.int64(0), np.int64(1), np.int64(0), np.int64(1), np.int64(0), np.int64(1), np.int64(0), np.int64(0), np.int64(0), np.int64(0), np.int64(0), np.int64(0), np.int64(0), np.int64(0), np.int64(0), np.int64(0), np.int64(1), np.int64(1), np.int64(0), np.int64(0), np.int64(0), np.int64(1), np.int64(0), np.int64(1), np.int64(0), np.int64(1), np.int64(0), np.int64(0), np.int64(0), np.int64(0), np.int64(1), np.int64(0), np.int64(0), np.int64(1), np.int64(0), np.int64(1), np.int64(0), np.int64(1), np.int64(0), np.int64(0), np.int64(0), np.int64(0), np.int64(0), np.int64(0), np.int64(1), np.int64(0), np.int64(1), np.int64(0), np.int64(0), np.int64(0), np.int64(1), np.int64(0), np.int64(1), np.int64(0), np.int64(1), np.int64(0), np.int64(1), np.int64(0), np.int64(0), np.int64(0), np.int64(1), np.int64(1), np.int64(1), np.int64(1), np.int64(1), np.int64(0), np.int64(0), np.int64(0), np.int64(0), np.int64(0), np.int64(1), np.int64(0), np.int64(0), np.int64(0), np.int64(0), np.int64(0), np.int64(0), np.int64(0), np.int64(0), np.int64(1), np.int64(0), np.int64(0), np.int64(0), np.int64(0), np.int64(1), np.int64(0), np.int64(0), np.int64(1), np.int64(1), np.int64(0), np.int64(1), np.int64(0), np.int64(0), np.int64(0), np.int64(0), np.int64(1), np.int64(0), np.int64(1), np.int64(1), np.int64(0), np.int64(1), np.int64(1), np.int64(1), np.int64(0), np.int64(0), np.int64(1), np.int64(0), np.int64(0), np.int64(0), np.int64(0), np.int64(0), np.int64(1), np.int64(1), np.int64(1), np.int64(0), np.int64(0), np.int64(0), np.int64(1), np.int64(0), np.int64(0), np.int64(1), np.int64(0), np.int64(0), np.int64(0), np.int64(0), np.int64(0), np.int64(1), np.int64(0), np.int64(1), np.int64(1), np.int64(1), np.int64(1), np.int64(1), np.int64(0), np.int64(1), np.int64(1), np.int64(1), np.int64(0), np.int64(1), np.int64(0), np.int64(1), np.int64(0), np.int64(0), np.int64(1), np.int64(1), np.int64(0), np.int64(1), np.int64(0), np.int64(0), np.int64(0), np.int64(0), np.int64(1), np.int64(1), np.int64(0), np.int64(0), np.int64(1), np.int64(0), np.int64(1), np.int64(0), np.int64(0), np.int64(0), np.int64(0)], 'True_Labels': [0, 0, 1, 1, 0, 0, 0, 0, 1, 0, 0, 1, 1, 1, 0, 0, 0, 1, 0, 0, 0, 1, 1, 0, 1, 0, 1, 1, 1, 0, 1, 1, 1, 0, 1, 0, 1, 1, 1, 0, 0, 1, 1, 1, 1, 1, 1, 1, 0, 0, 1, 1, 0, 0, 0, 1, 1, 0, 0, 1, 1, 1, 0, 1, 1, 0, 1, 0, 0, 0, 1, 0, 0, 1, 0, 1, 1, 1, 1, 1, 0, 1, 1, 1, 1, 1, 0, 1, 0, 1, 0, 1, 1, 0, 0, 1, 0, 0, 0, 1, 0, 1, 0, 1, 1, 1, 0, 0, 0, 1, 1, 0, 0, 0, 0, 0, 1, 0, 1, 1, 0, 1, 1, 0, 1, 0, 0, 0, 0, 0, 0, 1, 1, 1, 0, 1, 0, 0, 1, 1, 0, 1, 0, 0, 0, 0, 1, 1, 1, 0, 0, 1, 1, 0, 1, 0, 1, 0, 1, 1, 0, 1, 1, 0, 1, 0, 1, 1, 1, 1, 0, 0, 1, 0, 0, 0, 1, 0, 0, 1, 1, 1, 0, 0, 1, 0, 0, 0, 0, 1, 0, 1, 0, 1, 1, 1, 0, 0, 0, 0, 0, 0, 0, 0, 1, 0, 0, 1, 1, 1, 0, 0, 1, 0, 0, 0, 1, 1, 1, 0, 1, 1, 0, 1, 0, 0, 0, 1, 0, 0, 1, 1, 0, 1, 1, 1, 1, 1, 0, 1, 0, 0, 1, 1, 0, 1, 1, 1, 0, 1, 1, 1, 0, 1, 1, 1, 1, 0, 1, 0, 0, 0, 1, 0, 0, 1, 0, 0, 0, 0, 0, 0, 0, 1, 1, 1, 1, 1, 1, 0, 0, 0, 1, 0, 0, 0, 0, 0, 1, 1, 0, 1, 1, 0, 1, 1, 0, 1, 1, 1, 1, 1, 1, 0, 1, 0, 1, 0, 1, 0, 0, 1, 1, 0, 0, 1, 1, 1, 0, 1, 1, 0, 1, 0, 0, 1, 1, 0, 1, 0, 0, 0, 1, 1, 1, 0, 1, 0, 0, 1, 0, 1, 0, 0, 1, 1, 1, 1, 1, 0, 0, 1, 0, 1, 0, 0, 0, 0, 1, 0, 0, 0, 1, 1, 1, 0, 1, 0, 0, 1, 1, 1, 1, 1, 1, 1, 0, 1, 1, 1, 1, 1, 1, 0, 0, 0, 0, 0, 0, 0, 0, 0, 1, 1, 0, 0, 1, 0, 0, 0, 1, 0, 1, 0, 1, 0, 1, 1, 1, 1, 1, 0, 0, 0, 1, 0, 0, 0, 1, 1, 1, 0, 1, 0, 1, 0, 0, 0, 0, 0, 1, 1, 1, 0, 1, 1, 1, 0, 1, 1, 1, 1, 0, 0, 1, 0, 0, 0, 0, 1, 0, 0, 0, 1, 0, 1, 1, 0, 0, 1, 0, 0, 0, 0, 0, 0, 1, 0, 1, 0, 0, 0, 1, 1, 1, 0, 0, 0, 0, 1, 0, 1, 0, 0, 1, 0, 1, 0, 1, 1, 0, 0, 0, 0, 1, 1, 1, 0, 0, 0, 1, 0, 0, 1, 1, 1, 1, 1, 0, 1, 0, 1, 0, 0, 0, 1, 1, 0, 1, 0, 1, 1, 0, 0, 0, 1, 0, 0, 1, 1, 0, 0, 1, 1, 1, 0, 0, 1, 0, 1, 1, 0, 1, 1, 1, 1, 1, 1, 0, 1, 1, 1, 1, 1, 1, 0, 0, 1, 1, 0, 0, 1, 0, 0, 0, 1, 1, 1, 1, 1, 0, 0, 0, 0, 1, 1, 0, 1, 1, 0, 0, 1, 0, 0, 0, 0, 1, 1, 1, 1, 0, 1, 1, 0, 0, 0, 1, 0, 0, 1, 0, 0, 0, 0, 1, 1, 1, 1, 0, 1, 1, 0, 1, 1, 1, 1, 1, 0, 0, 0, 1, 0, 1, 1, 0, 0, 0, 1, 1, 1, 0, 0, 1, 0, 1, 0, 1, 1, 1, 1, 0, 0, 1, 1, 1, 0, 0, 1, 1, 1, 0, 1, 0, 1, 0, 0, 1, 0, 1, 1, 0, 0, 1, 1, 0, 0, 0, 1, 0, 1, 1, 0, 0, 0, 1, 1, 0, 0, 1, 0, 0, 1, 0, 0, 0, 0, 0, 0, 1, 0, 0, 1, 1, 0, 1, 0, 1, 1, 1, 1, 1, 0, 0, 1, 1, 0, 0, 0, 1, 0, 0, 1, 0, 1, 1, 1, 1, 1, 0, 1, 0, 0, 1, 0, 1, 1, 1, 1, 1, 1, 1, 0, 1, 1, 0, 0, 0, 1, 0, 0, 1, 1, 1, 0, 0, 0, 0, 0, 1, 0, 1, 0, 1, 0, 0, 0, 1, 0, 0, 0, 0, 0, 1, 1, 0, 1, 1, 1, 1, 1, 0, 0, 1, 0, 1, 0, 0, 0, 1, 1, 1, 0, 0, 0, 0, 1, 0, 1, 0, 1, 0, 0, 0, 1, 1, 0, 1, 0, 0, 1, 1, 0, 0, 0, 0, 0, 1, 0, 1, 0, 1, 1, 1, 1]}]\n"
     ]
    }
   ],
   "source": [
    "with open(\"/work/SofieNørboMosegaard#5741/NLP/NLP-exam/results/model_results.pkl\", 'rb') as f:\n",
    "    metrics_data = []\n",
    "    metrics_data.append(pickle.load(f))\n",
    "\n",
    "print(metrics_data)\n",
    "\n",
    "with open(\"/work/SofieNørboMosegaard#5741/NLP/NLP-exam/results/predictions.pkl\", 'rb') as f:\n",
    "    predictions_data = []\n",
    "    predictions_data.append(pickle.load(f))\n",
    "\n",
    "print(predictions_data)\n"
   ]
  },
  {
   "cell_type": "code",
   "execution_count": null,
   "metadata": {},
   "outputs": [],
   "source": []
  }
 ],
 "metadata": {
  "kernelspec": {
   "display_name": "Python 3",
   "language": "python",
   "name": "python3"
  },
  "language_info": {
   "codemirror_mode": {
    "name": "ipython",
    "version": 3
   },
   "file_extension": ".py",
   "mimetype": "text/x-python",
   "name": "python",
   "nbconvert_exporter": "python",
   "pygments_lexer": "ipython3",
   "version": "3.12.3"
  }
 },
 "nbformat": 4,
 "nbformat_minor": 2
}
