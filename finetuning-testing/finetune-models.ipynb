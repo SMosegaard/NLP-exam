{
 "cells": [
  {
   "cell_type": "markdown",
   "metadata": {},
   "source": [
    "Finetune the BERT on the 3 data variations:\n",
    "- Original data: Fine-tune using original_train.csv.\n",
    "- Neutral data: Fine-tune using neutral_train.csv.\n",
    "- Balanced (mix) data: Fine-tune using mix_train.csv.\n",
    "\n",
    "During fine-tuning, the process involves:\n",
    "- Splitting the training dataset further into training and validation sets\n",
    "- Training the model for a specific number of epochs on these datasets\n",
    "- Saving the fine-tuned models for each data variation to be used later for evaluation.\n",
    "\n",
    "In the end, I'll have 3 finetuned models\n",
    "- One trained on the original data\n",
    "- One trained on the neutral data\n",
    "- One trained on the balanced (mix) data\n",
    "\n",
    "\n",
    "...\n",
    "\n",
    "After finetuning, the next step is to test each of these models."
   ]
  },
  {
   "cell_type": "code",
   "execution_count": 2,
   "metadata": {},
   "outputs": [],
   "source": [
    "import os\n",
    "import sys\n",
    "import time\n",
    "import random\n",
    "import datetime\n",
    "import torch\n",
    "import pandas as pd\n",
    "import numpy as np\n",
    "from sklearn.metrics import accuracy_score, recall_score, precision_score, f1_score\n",
    "from torch.utils.data import TensorDataset, DataLoader, RandomSampler, SequentialSampler, random_split\n",
    "from transformers import AdamW, get_linear_schedule_with_warmup\n",
    "from transformers import AutoTokenizer, AutoModelForMaskedLM, AutoModelForTokenClassification, AutoModelForSequenceClassification\n",
    "\n",
    "import seaborn as sns\n",
    "import matplotlib.pyplot as plt\n"
   ]
  },
  {
   "cell_type": "code",
   "execution_count": 14,
   "metadata": {},
   "outputs": [
    {
     "name": "stdout",
     "output_type": "stream",
     "text": [
      "Using device: cpu\n"
     ]
    }
   ],
   "source": [
    "# Check for GPU availability\n",
    "device = torch.device(\"cuda\" if torch.cuda.is_available() else \"cpu\")\n",
    "print(f\"Using device: {device}\")"
   ]
  },
  {
   "cell_type": "code",
   "execution_count": 15,
   "metadata": {},
   "outputs": [],
   "source": [
    "# Function to compute the accuracy of predictions vs labels\n",
    "def flat_accuracy(preds, labels):\n",
    "    preds_flat = np.argmax(preds, axis = 1).flatten()\n",
    "    labels_flat = labels.flatten()\n",
    "    return np.sum(preds_flat == labels_flat) / len(labels_flat)\n",
    "\n",
    "def flat_accuracy(preds, labels):\n",
    "    \"\"\"\n",
    "    Compute the accuracy of predictions vs. labels.\n",
    "    \"\"\"\n",
    "    # Convert logits to predicted class labels\n",
    "    preds_flat = np.argmax(preds, axis=1).flatten()\n",
    "    labels_flat = labels.flatten()\n",
    "    return np.sum(preds_flat == labels_flat) / len(labels_flat)\n"
   ]
  },
  {
   "cell_type": "code",
   "execution_count": 16,
   "metadata": {},
   "outputs": [],
   "source": [
    "# Helper function for formatting time\n",
    "\n",
    "def format_time(elapsed):\n",
    "    \n",
    "    # Round to the nearest second\n",
    "    elapsed_rounded = int(round((elapsed)))\n",
    "\n",
    "    # Format as hh:mm:ss\n",
    "    return str(datetime.timedelta(seconds=elapsed_rounded))"
   ]
  },
  {
   "cell_type": "code",
   "execution_count": 17,
   "metadata": {},
   "outputs": [],
   "source": [
    "def load_data(file_path):\n",
    "    \"\"\"\n",
    "    Loads data and converts Sentiment classes to numeric labels (1 for positive, 0 for negative).\n",
    "    \"\"\"\n",
    "\n",
    "    df = pd.read_csv(file_path)\n",
    "    df['Sentiment'] = df['Sentiment'].map({'pos': 1, 'neg': 0})\n",
    "\n",
    "    df = df[:10]\n",
    "    \n",
    "    text = df['text'].tolist()\n",
    "    labels = df['Sentiment'].tolist()\n",
    "\n",
    "    return text, labels"
   ]
  },
  {
   "cell_type": "code",
   "execution_count": 18,
   "metadata": {},
   "outputs": [
    {
     "name": "stdout",
     "output_type": "stream",
     "text": [
      "['vi skal ikke mange år tilbage før seerinteressen afhang af hvem der medvirkede i serien men fra 90erne begyndte man at kigge på hvem der stod bag serien joss whedon skabte således et kultfølge medbuffy  vampyrenes skræk19972003 og david chase sparkede døren ind hos hbo for de kreative hjerner bag kameraet med det banebrydende eposthe sopranos19992007 der som bekendt handler om gangsterentony soprano i dag er der stor prestige i at finde den nye store serieskaber og streamingtjenester er ikke blege for at give store navne frihed til at lave de serier som de nu engang har lyst til beau willimon er en af de helt store stjerner hans adaption af den britiske seriehouse of cardsblev en gigantisk succes for netflix som tjenestens første originale serie willimon stoppede på serien i 2016 knap et år senere blev det annonceret at han skulle stå bag en spektakulær fortælling om menneskets evne til at overkomme selv de værste forhindringer i bestræbelsen på at komme til mars the firststarter da også med at menneskeheden skuer højt mod himlen og det uendelige univers i 2033 står alt klart til at vi skal op og erobre den røde planet i samarbejde med det private firma vista har nasa lagt en perfekt plan og opsendelsen af astronauterne bliver transmitteret som en monumental begivenhed stemningen er elektrisk både på tribunerne og i kontrolrummet hvor familie kolleger og andre spændt kigger på hjemme foran tvet sidder tom hagerty sean penn i fysisk topform og ser med han skulle have været leder på missionen men et kaotisk privatliv har betydet at han blev fravalgt i sidste øjeblik selv da kapslen har forladt jorden er han nervøs det mest kritiske øjeblik er nemlig ikke overstået det sker først når raketterne der skal give kraft så kapslen kan komme op i stratosfæren er faldet fra i et stort flammehav eksploderer kapslen og en af raketterne spinder kort rundt i luften inden den også bliver til en stor røgsky visuelt er det ikke helt ulig de skrækindjagende billeder som løb over skærmen i 1986 da challengerrumfærgen eksploderede det er et brutalt øjeblik der egentlig bliver skildret meget nøgternt sammenlignet med seriens ellers grundlæggende højtravende næsten terrence malickagtige stemning hvordan kommer man videre fra sådan en katastrofe det er det spørgsmål beau willimon og hans hold kredser om og de virker mere interesseret i det end rent faktisk at sende folk op i rummet det er ikke fordithe firstgenopfinder dramagenren på ny eller den meget realistiske fremtidssetting bliver brugt til noget exceptionelt tom hagerty mander sig op og bliver leder af den næste ekspedition på bekostning af afroamerikanske og lesbiske kayla lisagay hamilton hun har ikke gjort noget galt men ifølge direktøren for vista natascha mcelhone seriens stærkeste kort er han et bedre ansigt udadtil for missionen godt at vide at gamle hvide heteroseksuelle cismænd stadig får jobs i fremtiden bare fordi de er netop det og det er egentlig meget symptomatisk for serien der næppe kunne blive mere forudsigelig eller konventionel bevares der er godt med flotte billeder hvor en fortællerstemme effektivt sætter følelsen af at mennesket ikke kan holdes nede og naturen er storslået men den store hæmsko er at beau willimon er i gang med at fortælle en historie der skulle strække sig over flere sæsoner tempoet er langsomt og tvivlen melder sig om folkene kommer op i rummet eller om vi er strandet på jorden med diverse personlige problemer hos det nye missionsmandskab vi får aldrig svaret på hvad serieskaberen havde tænkt sig medthe first da den amerikanske streamingtjeneste hulu trak stikket efter bare én sæson ærgerligt for det virker som om det er fra anden ombæring serien for alvor ville løfte sig alle ingredienserne til noget stort var der dygtig serieskaber gode skuespillere og potentielt spændende univers hvor eksistentielle spørgsmål skulle italesættes men øv hvor er den langsom og ordinær i første og eneste sæson', 'året inden muskelbundtet vin diesel i 2001 slog sit navn fast som en af hollywoods markante actionstjerner medthe fast and the furious havde han karrierens første hovedrolle ipitch black en visuel og dyster science fictionfilm hvor den tidligere dørmand spiller antihelten riddick der med sine selvlysende øjne og skarpe overlevelsesinstinkter er mere dyr end menneske han er en berygtet straffefange  der dog selvfølgelig har moralen i orden  som under en fangetransport styrter ned på en mystisk planet hvor han til sidst flygter ud i friheden det var en hæderlig film som i forhold til det begrænsede budget blev en kommerciel succes og gav vin diesels karakter kultstatus i science fictionkredse manuskriptforfatter og instruktør david twohy udbyggede universet i efterfølgerenthe chronicles of riddick der er en kedsommelig katastrofe hvor forsøget på at skabe en episk saga drukner i handlingens dødvande desværre bliver det ikke bedre iriddick tværtimod i forgængeren endte antihelten som hersker over racen the necromongers men siden er han blevet forrådt og necromongerskurken vaako karl urban har efterladt ham døende på en anden bizar planet den newzealandske skuespiller er i øvrigt kun med i dette ene vage og antidramatiske flashback i den første halve time trasker riddick alene rundt på planeten som visuelt er en skrabet oplevelse han slås mod en slags bidske hyæner adopterer en enkelt af dem  en nuttet hvalp  og bruger bagefter lang tid på at gennemskue hvordan han kommer forbi et sømonster der spærrer vejen mod en rumstation riddick er åbenbart stadig eftersøgt som straffefange og planen er at give sig til kende gennem et nødsignal fra rumstationen så dusørjægerne fluks kommer flyvende og riddick kan stjæle deres fly planens første del lykkes og så forsvinder vin diesel ellers ud af filmen i den næste halve time i stedet må vi trækkes med to hold af dusørjægere der fysisk og verbalt tæsker hinanden i flere sekvenser som intet gør for fortællingens fremdrift lidt bar hud snydes man dog ikke for det ene dusørjægerholds leder boss johns matt nable er ude efter riddick af personlige årsager hvis motiv uopfindsomt fører tilbage tilpitch black det andet holds leder santana jordi mollà jagter millionerne der følger med riddicks hoved som han endda har medbragt en lille kasse til men ud over denne lille gimmick får den ellers glimrende spanske skuespiller aldrig lov til at bide fra sig i den stereotype rolle som grisk og grusom skurk en storm bevæger sig ind over planeten og tvinger riddick tilbage til rumstationen hvor han og dusørjægerne pludselig må danne fælles front mod truslen udefra david twohy har skruet op for de brutale scener og droppet den store episke fortælling fra forgængeren men resultatet er stadig nonsens  som et hovedløst levn fra den slags film der i 80erne havde premiere i landets udlejningskiosker vin diesel er måske ikke den mest talentfulde skuespiller men har nu altid haft format som hårdtslående helt ia man apartxxxogthe fast and the furiousserien iriddicker det som om han knap nok gider slæbe sig gennem planetens ørkenstøv eller har besværet sig med at lære sine oneliners som han leverer mumlende det er altid det slag du ikke ser komme som fælder dig lyder det i et af lavpunkterne og til skurken der truer med at dræbe hans kælehyæne slår han fast jeg sagde jo at jeg ville dræbe dig efter fem sekunder når jeg slap fri', 'han blev født 1947 i trollhättan i sverige og hans mor gav ham navnet clark efter filmstjernen clark gable siden skulle det vise sig at være et mere passende fornavn end godt er clark oderth olofsson blev nordens mest berømte gangster bankrøver og narkosmugler med sin medvirken i bankkuppet og gidseltagningen i kreditbanken i 1973 på norrmalmstorg i stockholm skabte han begrebet stockholmsyndromet en psykisk tilstand hvor et offer eller fange udvikler psykologisk tilknytning til sin kidnapper eller vogter sådan set har clarks følelsesmæssige karisma været stærk til alle tider især i forhold til kvinder som han forførte masser af mens han dyrkede en forbryderkarriere som kunne være skrevet og skabt i hollywood med både mord mordforsøg skud og slagsmål og et utal af gange hvor han brød ud af fængslet der har før været bud efter at filmatisere hans spektakulære løbebane som i 1960erne og frem strakte sig ud over sverige til danmark og andre lande allerede i 1977 lavede danske poul martinsen en dramatiseret dokumentarfilm om ham og nu kommer netflix med miniserienclark der er baseret på sandheder og løgne ud fra mandens egne erindringer vi pendler i sorthvid og farver mellem hans forfærdelige barndom med en sadistisk fordrukken far og en mishandlet mor til hans opvækst som ungdomskriminel instruktøren jonas åkerlund  mest kendt for sine musikvideoer med madonna lady gaga og rammstein  har sat løjerne i scene med den form for postmoderne genresprængende stil hvor filmen svinger mellem at være musical krimi kupfilm satire slapstick traumatiske barndomsminder og kronologisk reportage af fortidens forbrydelser og det hele er krydret med nærgående sexscener  med alt fra oralsex onani stående og liggende samlejer til hovedpersonens standende problem i sengen for tidlig sædafgang denne sprælske og skæmtsomme mixture synes at være skabt for at undgå at sentimentalisere hans samspilsramte baggrund og for ikke at idealisere en ret så voldelig vaneforbryder faktisk får vi mod slutningen af serien en rå og realistisk scene hvor clark psykopatisk går bersærk med en frugtkniv clark spilles med tungen lige i munden  overbevisende og medrivende  af bill skarsgård i en og samme person gestalter han den rappe gavflab med drengeansigt den gustne og geniale bankkupmager og den hårde gangster som scorer penge og piger i bunkevis med sin bad boykarisma er han ligepåliderlig og knaldeklar uden flirt endsige forspil kvinderne falder til føje med en lethed som skarsgårds glimrende spil giver belæg for vigtigste kvinde blandt mange er maria hun spilles med sødme og voksende smerte af hanna björn og er en venstresnoet ingenue der enfoldigt ser en revolutionær pioner i clarks skikkelse men som han selv siger det træfsikkert er han en blanding af pippi langstrømpe og al capone med ufatteligt mange talenter og held til af slippe afsted med det meste han smugler blandt andet hash i appelsiner fra beirut og sejler vellykket en båd igennem en storm den famøse kidnapning på norrmalmstorg tager hele fjerde afsnit sig af det er på mange måder en absurd farce hvor det svenske politi igen jokker i spinaten og snubler over egne knipler i det hele taget bliver vort broderlands politi udleveret og latterliggjortclarker således også et signalement af det svenske folkehjem med en slap lovgivning og sløset ordensmagt clarker underholdende med alle sine svinkeærinder og fyldt med spænding den komiske slingrevals virker indimellem anstrengt og mod slutningen gøres det da også helt klart at det drejer sig om en skingrende psykopat uden grænser for sit megalomane egos destruktive udfoldelser', 'hvordan er vi dog endt her græder pervin frustreret året er 2015 og med sit spædbarn på armen bevæger hun sig rundt i den daværende islamisk stathøjborg raqqa i syrien fordi du var en idiot  ligesom jeg svarer veninden tine og det er netop det som wilhelm behrmans svenske spændingsseriekalifatkredser om hvordan borgere som ellers er opvokset i det svenske velfærdssamfund ender som en del af islamisk stat og deres kalifat hvor eksplosioner afskårne lemmer og sorte flag er hverdagskost vi følger den unge svenske kvinde pervin gizem erdogan som sammen med sin mand husam amed bozan og deres spædbarn er rejst til syrien men landet er ikke hvad de havde forestillet sig og de lever en ulykkelig tilværelse fyldt med frygt og pinsler husam som er iskæmper er ødelagt psykisk af krigen og har mareridt om blod helvedet og dræbte børn den vestlige isbrigade som husam er en del af planlægger et stort terrorangreb i sverige da pervin via en hemmelig mobiltelefon får kontakt til den svenske efterforsker fatima aliette opheim lover pervin at hjælpe hende med at udspionere terrorgruppen hvis fatima til gengæld hjælper hende og datteren hjem til sverige igen fatima render i mellemtiden rundt som en svensk carrie mathison frahomelandog er klar til at gå sine egne kontroversielle veje for at få de nødvendige oplysninger samtidig følger vi de svenske teenagepiger sulle og kerima som er betaget af lærervikaren ibrahim der i al hemmelighed prøver at radikalisere dem samt brødrene jakob og emil som også forbereder sig på det svenske terrorangreb netop de flere forskellige historier gør serieformatet oplagt for fortællingen det giver plads til at udfolde karaktererne og vi får lov til at se alle de forskellige led frem for blot selve terroraktionen gennem karaktererne præsenteres vi for radikaliseringsmønstre og strukturer som sender tanker til virkelige danske sager og jakob sheikhs helt eminente bogdanmarks børn i hellig krig vi ser hvordan ibrahim charmerer sig ind hos rekrutteringsemnerne og er lige nøjagtigt det som de unge leder efter og desperat har brug for sulle er utilfreds med det svenske samfund hun går op i uretfærdigheder i sverige men også i mellemøsten en frustration som ibrahim imødekommer han sender propagandamateriale til hende samtidig med at han gradvis fører hende i en mere radikal religiøs retning veninden kerimas eneste familie er hendes tjetjenske far som lider af krigstraume og er voldelig her giver ibrahim den tryghed som hun ikke kan få i sit hjem nora rios præstation som sulle er fyldt med nuancer når hun har et intenst opgør ved spisebordet hvor hun med et indædt had i øjnene kalder sine forældre for vantro på andre tidspunkter taler hun fjollet med kerima om hvilket one directionmedlem er pænest det viser graden af barndom og naivitet som stadig er hos de unge piger flere steder erkalifatdog for hårdt optrukket vejen fra samfundskritisk teenager til issympatisør er lovligt kort og radikaliseringsprocessen virker speedet op ligesom de unges naivitet er på grænsen til det troværdige pervins spionage og overmod virker urealistisk og primært til for at skabe spænding det kunne desuden have klædt serien hvis den også havde vist muslimer som er modstandere af den vanvittige og ekstremistiske islamfortolkning som islamisk stat abonnerer på her er det eneste bud sulles forældres spæde forsøg på at forklare deres børn at islamisk statmedlemmer ikke er muslimer men den veldrejede spænding i særligt sidste del af sæsonen får én til at rykke frem til kanten af sædet og ved seriens afslutning sidder man med en klump i halsen der er ingen ende på ondskaben i kalifatet', 'hvad gør en soldat når krigen er slut det er det spørgsmål som på forskellig vis plager sam wilson anthony mackie og james bucky barnes sebastian stan under aliasserne falcon og winter soldier har de kæmpet både mod mennesker og intergalaktiske superskurke men efter det afgørende slag iavengers endgameer de to militærveteraner nu nødt til at konfrontere den største udfordring for en soldat det civile liv serienthe falcon and the winter soldier som har premiere i morgen på disney lægger ud med en hæsblæsende actionscene hvor falcon skal redde en general ud af kløerne på en gruppe terrorister det her skal gøres diskret får falcon at vide inden missionen starter modtaget diskret svarer han kækt og lader sig falde bagover ud af militærflyet som de sidder i metalvingerne folder sig ud og den flyvende superhelt svæver ubesværet gennem luften som den rovfugl han har taget navn efter skurkene får en ordentlig omgang tæv på den knap så diskrete måde tvveteranen kari skogland som har instrueret samtlige seks afsnit i miniserien byder på flere imponerende sekvenser med action for alle pengene ikke mindst når falcon skal jagte terroristerne igennem en kløft med snævre passager og tonstunge klippefremspring der er fuld knald på mens skurkene  også iført wingsuits  flyver ind og ud gennem de forskellige forhindringer med falcon lige i hælene men når falcon ikke er travlt optaget med at redde nationen plager et spørgsmål ham er usa klar til at en sort mand skal være landets første forsvar han fik overdraget captain americas skjold og blev dermed udpeget som efterfølger for den patriotiske superhelt men han er forståeligt nok i tvivl om hvorvidt han kan løfte opgaven amerikanerne viser ikke ligefrem deres velvilje så man forstår tydeligt hans indre kamp serieskaber malcolm spellman blev udvalgt til at styre slagets gang da han bød sig til med et manuskript hvor fokus er på identitet og race og de temaer skinner tydeligt igennem winter soldier kæmper med fortiden som hjernevasket soldat for den fascistoide organisation hydra hvor han dræbte alle dem som hans herrer ønskede som andre traumatiserede soldater befinder han sig derfor nu i en stol over for en psykolog der selv har været soldat så hun gennemskuer hurtigt hans forsøg på at lade som om alt er fint han er blevet sat fri men har svært ved at finde ud af hvad han skal gøre med friheden for hvis ikke han er en dræbermaskine hvad er han så selv om vintersoldaten ligner en mand midt i 30erne har han været kryogenisk frosset ned det meste af sit liv og er dermed langt over 100 år gammel og det er ikke nemt at finde nye venner første og eneste afsnit som er blevet stillet til rådighed for anmeldere sætter meget fint scenen for en serie der kommer til at være i en helt anden boldgade end den netop afsluttede marvelseriewandavision i stedet for spektakulære superkræfter der kan vende op og ned på virkeligheden er der her tale om en gammeldags actionspionserie en mystisk organisation ved navn flagsmashers bliver introduceret og det er tydeligt at skurken helmut zemo daniel brühl kommer til at spille en markant rolle med afsløringen af en ny captain america læggerthe falcon and the winter soldierop til et univers hvor tingene ikke helt er som de umiddelbart ser ud og så bliver det spændende at se hvordan serien vil bringe de to gamle krigsvenner i titlen tilbage sammen nysgerrigheden er vakt og forventningerne skruet forsigtigt op', 'hold op hvor denne anmelder savner fodbold dette gamle smukke spil med hjerte og passion der kan gøre selv en grå søndag til en solskinsdag covid19 har taget et jerngreb på verdenssamfundet og sat en stopper for alt hvad vi holder af  også fodbold men netflix kommer alverdens fodboldfans til undsætning med miniserienthe english game et fodbolddrama om sportens begyndelse da amatører løb rundt på mudrede baner det er også et drama fra industrialiseringen hvor en voksende utilfredshed bredte sig blandt det arbejdende folk meddowntown abbeyskaberen julian fellowes bag bolden er forventningerne skruet i vejret desværre er serien hvor danske birgitte stærmose har instrueret tre afsnit endt med at være et skud langt forbi målet de fodboldspil vi kender i dag blev grundlagt i 1863 da de blev skrevet ned og vedtaget af the football association fa dengang var der ingen premier league men kun amatører der deltog i en knald eller faldturnering det var de riges spil med udgangspunkt i de engelske kostskoler men ithe english gamebegynder arbejderklubberne at røre på sig den nordengelske klub darwen hvis by er opbygget omkring en fabrik henter to dygtige skotske spillere fergus suter og jimmy love arbejderklubben bryder de daværende regler og betaler dem for at spille længere sydpå befinder den velhavende klub old etonians sig med arthur kinniard i spidsen eller the fa kan vi også kalde dem da stort set alle spillerne sidder i fodboldforbundets bestyrelse men de føler at deres spil er ved at blive taget fra dem der er mange spændende temaer ithe english game det er rig mod fattig kapitalismens brutalitet og alene fortællingen om at fodbold altid har været politisk er interessant men serien virker ekstremt konstrueret og karaktererne fremstår nærmest karikerede der er den gode hjælper den lidende og forpinte stjerne den aggressive arbejder og de arrogante gentlemen sidehistorierne der skal give tændstikmændene lidt kød på formår aldrig at engagere for eksempel er fergus suters patetiske far lige så overbevisende som en revyskuespiller dialogen er overdramatisk og meget langt fra de elegant diskrete replikker idownton abbey for slet ikke at tale om de tåkrummende scener fra fodboldbanerne hvor det er tydeligt for enhver der ved det mindste om spillet at skuespillerne er de rene knoldesparkere hvorfor kan det ikke lade sig gøre at lave optagelser af en kamp der blot er nogenlunde overbevisende så kære fodboldfan find i stedet gamle kampe fra dit hold på youtube og kære periodedramafan gense du blotdownton abbey', 'hop ind hvis du vil overleve kommer det selvsikkert fra teenagepigen bag rattet vækker replikken genklang er det ikke så underligt i james camerons to første film iterminatorserien bliver en lignende variation sagt til hovedpersonen sarah connor kom med mig hvis du vil overleve i stedet for et østrigsk muskelbundt med solbriller er det nu en pige med de vildeste køreegenskaber der tilbyder den tidligere soldat jungseok en livline rollerne er byttet om men der er igen lagt op til et dommedagsactionbrag jungseok er tilbage på den koreanske halvø  titlenpeninsulabetyder halvø  hvor han har fået en opgave af skumle hongkonggangstere og skal finde en lastbil med tyve millioner dollars byerne har ligget øde siden horder af zombier fire år tidligere overtog gaderne som vi så i instruktøren yeon sanghos første liveactionspillefilm efter tre animationsfilmtrain to busan kampen for at overleve er nu omdannet til en skyld ved at have overlevet jungseok mistede sin søster og nevø da de skulle evakueres til hongkong og oplevelsen har efterladt ham og svogeren med et traume der stadig hjemsøger dem udsigten til at give det overlevende familiemedlem en ny start efter års ulykke får jungseok til at tage på mission foruden svogeren har han følgeskab af en tidligere taxachauffør og en ung gut som kan et eller andet med elektronik som det blev slået fast i forrige film kan zombierne ikke se noget i mørke det meste af filmen foregår derfor i mørke rustne bilvrag og frodigt planteliv har overtaget seoulbydelen incheons gader det eneste som bevæger sig er zombier og dem som blev efterladt tilbage det er blandt dem at vi finder teenagepigen joon der sammen med sin lillesøster mor og bedstefar forsøger at overleve i helvedet indtil de kan slippe væk derfra de to piger færdes hjemmevant i gaderne hvor de fræser rundt i en stor firehjulstrækker og smadrer zombier på stribe som var det et bilspil hvor man får point for hver zombie man rammer en flok soldater med den sadistiske sergent hwang og kujonen kaptajn seo i spidsen har slået sig ned i ødelandet og skabt en fribytterkoloni der giver associationer tilflugten fra new yorkogmad max for soldaterne er andre mennesker blot nogen man plyndrer hvis man da ikke bruger dem i et underholdningsshow hvor de bliver lukket ind i en arena og skal overleve 120 sekunder i selskab med zombierne og det er lige netop disse film sompeninsulaer beslægtet med der skydes og køres rundt i byen mens blodtørstige zombier spæner rundt eller ligger oppe på forruden og forsøger at tilkæmpe sig en luns kød første films klaustrofobi i togkupéen er udskiftet med åbne vidder hvor vores helte bliver angrebet af både mennesker og hæren af udøde gjorde du alt hvad du kunne bliver jungseok spurgt af sin svoger der bebrejder ham familiens død og spørgsmålet bliver endnu mere aktuelt da han møder de to pigers mor minjung deres veje krydsede netop som han skulle til at flygte med sin familie han valgte ikke at hjælpe hende hun er blevet hærdet af fire års rædsler hvor det eneste lyspunkt har været udsigten til at få døtrene væk fra den koreanske halvø jungseok kunne ikke redde sin egen familie men måske kan han lette noget af byrden fra sit sind hvis han redder minjung og hendes døtre zombierne ipeninsulaligner monstre fra de ondeste mareridt hvor en kombination af makeup og proteser giver dem et herligt makabert udseende når vi ser dem tæt på eller enkeltvis når de er i store horder overtager computereffekterne ligesom de gør i de fleste af bilscenerne man fornemmer tydeligt yeon sanghos baggrund inden for animation for selv om man tydeligt kan se det er cgi svækker det ikke virkningen af det i forvejen overdrevne univers den sociale samfundskritik itrain to busan hvor zombierne i bedste george romerostil bliver brugt til at lange ud efter kapitalismens fordærvende væsen og egoismen som den indgyder i mennesker er der ikke noget af ipeninsula i stedet får vi et gedigent actionbrag hvor zombierne stadig er farlige men hvor andre mennesker nu er den største trussel', 'i en sandfarvet veloursofa udspiller sig en rørende samtale mellem to venner cassie er på besøg hos maja der med stor umage lægger en skiftevis sølvgrøn og pink neglelak på sin veninde imens snakker de om at navigere i en kultur der har en snæver fortælling om køn og seksualitet de taler omthe sexual script de specifikke forventninger og roller som er knyttet til den seksuelle akt og de bliver enige om at det næsten kunne være opskriften på en brownie men måske vil man ikke altid ha en brownie og måske kan man slet ikke li brownie som de smågrinende konkluderer maja malou lyse studerer på det kongelige danske kunstakademi hendes kunst findes i mange formater  video foto skulptur og performance  og kan lige nu opleves på aros som en del af udstillingenart and porn men hun har også en stærk platform på instagram og i sit virke som kunstner omfavner hun forskning historie og aktivisme sex med majapå dr2 er tilrettelagt af katrine hornnes og eva marie rødbro prinsesser fra blokken med katrine marie seidelin som programredaktør over tre afsnit følger vi maja når hun går i felten og blandt andet taler med en rødstrømpe en pornoproducent og en dominatrix vi er også i hendes hjem på kontoret og i undervisningslokalet der som et alternativ til ensex edvideo foregår i en animeret parallelverden af aquamarinedraperinger og glimmerstøv seriens visuelle univers afspejler således majas feminisme der handler om at generobre det feminine toner af lyserød høje hæle og kunstige negle bliver en politisk handling en markering af feminin styrke og autonomi serien er den kærlige og kritiske seksualundervisning vi aldrig rigtigt fik i folkeskolen den sætter ord på alt det svære ved sex  det kedelige besværlige og ikke mindst smertefulde  men samtidig er den positiv den insisterer på at sex skal være skamfrit sjovt og behageligt i løbet af 83 minutter leveres en koncis og kompleks gennemgang af seksualitet og køn anno 2019  og der bliver berørt emner som slutshaming rape culture victim blaming metoo krop male gaze prævention samtykke grænser sex med andre og sex med sig selv maja dyrker en befriende ærlighed og undersøger også sin egen usikkerhed og smerte knyttet til det seksuelle det viser sig at hun også kan tynges af skam og  i selvbilledet som frigjort og feminist  en yderligere skam over at føle skam i scenen i den sandfarvede veloursofa skal cassie og maja vælge en farve fra et klirrende udvalg af chanelneglelakker jeg synes den er virkelig dig siger maja begejstret om en sølvagtig hybrid af grøn og blå ja den changerer tilføjer cassie stille det samme kan siges om denne dokumentarperle som rummer en kompleksitet der ofte ikke er plads til i den dominerende sexkultur sex med majaer kulminationen på de seneste års politiske samtale om sexkultur lyst og grænser den er en opfordring til en ny seksuel revolution  en revolution der ligesom seriens visuelle identitet glitrer og glimter i toner af hot pink i en forhåbentligt ikke så fjern horisont', 'hvis der er én tinggirlbør huskes for er det victor polster filmens purunge hovedrolleindehaver denne anmelder kan ikke mindes at have set en lignende præstation af en teenager siden attenårige leonardo dicaprio i 1993 spillede sig til en oscarnominering i rollen som den mentalt retarderede arnie iwhats eating gilbert grape polster var fire år yngre under indspilningen afgirl desuden debutant og udfordret af en rolle der kræver mere end de fleste hovedpersonen er lara som ikke blot danser ballet på højt niveau men også er transkønnet victor polster er selv en ambitiøs og talentfuld balletdanser og som sådan har han i sagens natur været et oplagt valg til denne del af rollen men at han også med gestik og mimik formår at overbevise om at den præpubertære dreng bag sit langlemmede ydre bærer et indre der i et og alteren pige er ganske enkelt skuespil af verdensklasse filmens instruktør den belgiske debutant lukas dhont fortjener omtrent lige så mange roser ikke blot viser han sig som en eminent personinstruktør som medforfatter har han også begået en tekst der uden at stikke i alle mulige litterære retninger netop er et filmmanuskript således økonomiserer han dygtigt med dialogerne så filmen som medie kommer til sin ret hvad man ikke behøver sige med ord skal man nøjes med at vise og det gør han så  med en minimalisme som sine steder vækker mindelser om carl th dreyer eller krzysztof kieślowski men hvad dhont viser ser vi bestandigt stykkevis for en film skal jo ikke være en klinisk skildring af en objektiv virkelighed derfor befinder vi os ikke i et laboratorium men snarere i et spejlkabinet hvor voyeurismen kommer til kort når blikket hverken kan skjule sig for andre eller for sig selv hvad er det da vi ser jeg ser en pæn og smuk kvinde siger psykologen til lara der foran spejlet ikke kan få øje på de attributter som hun mener definerer det kvindelige køn tror du på at jeg ser en kvinde når jeg ser på dig det gør hun ikke jeg ser en pige siger faren vil du ha at vi skal se dig som pige eller dreng spørger veninderne fra balletskolen da de har mobbet hende til at smide trusserne og vise det organ hun så gerne vil af med og lara giver filmens titel i sit svar pige alligevel er og bliver det laras eget blik der forfølger hende ikke de andres det er hende der som balletdanser og transkønnet gør kroppen til en projektionsflade hendes ambitioner og drømme der gør at kroppen bearbejdes med en nådesløs disciplin som for den udenforstående tager sig ud som masochisme hun er født som dreng og har ikke som pigerne på skolen trænet tåspidsdans fra tolvårsalderen derfor må hun arbejde hårdere end dem selv om det som hendes danselærer siger er at forcere lidt rigeligt nogle ting kan jo ikke ændres vel du kan ikke bare hugge noget af dine fødder og dog for lara vil gerne hugge en hæl og klippe en tå eller ofre sin stemme for som hc andersens lille havfrue at blive som de andre piger hun i en mageløst flot sekvens ser boltre deres spirende kvindekroppe i vandet som havde de med ét fundet deres rette element hvad alt dette indebærer viser filmen så konsekvent og nådesløst at man indimellem vægrer sig ved at kigge med ledsaget af en seismografisk klipning og kameraføring der afspejler laras indre brydninger og akkompagneret af sarte violinstrøg haster hun sin skæbne i møde men hvilken svaret må enhver give sig selv for med sit mona lisasmil unddrager lara sig også hinsides filmens dramatiske klimaks enhver introspektion hvad man derimod ikke kan være i tvivl om er at filmen er et mesterværk  en blanding afden danske pigeogblack swan men uden alle hollywoods klichéer', 'under anden verdenskrig blev millioner af franskmænd drevet på flugt fra deres hjem fordi tyske tropper var på vej idengang i majsørger den joviale borgmester paul for at der er højt humør og hyggelige aftener når hans landsby i en stor kortege af kærrer og heste bevæger sig ud på de idylliske landeveje i maj i 1940 vejret er fremragende så det er ikke noget problem for dem at sove under åben himmel og der er masser af vin og lejrbålsstemning krigens rædsler ser vi ofte på film men nogle af de stærkeste fortællinger er opstået når man har brugt humor og glæde i en kontrastfuld kontekst  som ilivet er smukt hvor livet i en kzlejr bliver til en leg men her virker den sommerlune skønhed lidt upassende ikke at byen på flugt slipper for tragedier som når tyske fly skyder efter dem og man ser et grædende spædbarn blive vristet ud af favnen på sin døde mor der mangler bare en klar vision for handlingen instruktørens egen mor var en af dem der sammen med sin familie måtte flygte fra landsbyen pasdecalais filmen er en gave til hende på hendes 90års fødselsdag og det er også sådan den fremstår en fastholdelse af hendes minder det minder om de familiefortællinger de fleste af os kender fordi vores forældre og bedsteforældres oplevelser under anden verdenskrig går i arv og fortælles ved søndagsmiddage men hvorfor skal vi blandes ind i en families private dagbog hvis ikke vi kan spejle os i det og lære noget det skal som minimum være personligt og det bliver det slet ikke da filmen faktisk ikke handler direkte om moren men om den tyske dreng max joshio marlon der flygter med sin far august diehl fra tyskland fordi faren laver kommunistisk propaganda de ender i frankrig hvor faren på et tidspunkt bliver anholdt fordi han har løjet om sin nationalitet en yndig skolelærer tager sig af max da regeringen proklamerer at landsbyen bør evakueres det er nødvendigt at pensle de varme følelser mellem hende og drengen ud med ord for vi ser det ikke i skuespillet august diehl har dramatiske skygger under øjnene og intense politiske holdninger foruden tysk taler han også flydende fransk og engelsk det er ganske belejligt blandt andet da han slipper ud af arresten sammen med en skotsk soldat der på intet tidspunkt giver slip på sin sækkepibe og nu skal faren selvfølgelig genforenes med sin søn på vejen støder både faren og landsbyens kortege på en excentrisk tysk filminstruktør der laver propagandafilm og er meget ophidset over at de kun finder sorte franske soldater der sker for meget borgmesteren skal brødføde sin landsby og holde gejsten oppe faren skal forenes med sin søn soldaten skal nå frem til london skolelæreren skal drage omsorg for en ulykkelig dreng man bliver aldrig berørt af nogen af skæbnerne og hvorfor skal historien om den adskilte far og søn overhovedet blandes ind i den barske virkelighed som det trods alt var at flygte over hals og hoved fra sit hjem det havde været virkningsfuldt at lade publikum blive en del af den spraglede kortege af skæbnerne på vejen hvordan prøver de voksne at bevare børnenes uskyld selv om der er død og ulykke og lig i grøftekanterne det er en lille historie i den store fortælling om anden verdenskrig og det er godt og vigtigt at vi husker flere aspekter og skæbner fra den tid men de mange handlingstråde gør at man ikke bliver berørt det man bliver berørt af er filmens musik den er skabt af selveste ennio morricone og den er sødmefuld og alvorstung sammen med de smukke billeder af frodige marker og støvede landeveje kan det godt mærkes i hjertet at det bør gøre ondt']\n",
      "[0, 0, 1, 1, 1, 0, 1, 1, 1, 0]\n"
     ]
    }
   ],
   "source": [
    "train_file = '/work/SofieNørboMosegaard#5741/NLP/NLP-exam/data/original_train.csv'\n",
    "train_text, train_labels = load_data(train_file)\n",
    "\n",
    "print(train_text)\n",
    "print(train_labels)"
   ]
  },
  {
   "cell_type": "code",
   "execution_count": 19,
   "metadata": {},
   "outputs": [
    {
     "data": {
      "text/plain": [
       "XLMRobertaTokenizerFast(name_or_path='vesteinn/DanskBERT', vocab_size=50005, model_max_length=1000000000000000019884624838656, is_fast=True, padding_side='right', truncation_side='right', special_tokens={'bos_token': '<s>', 'eos_token': '</s>', 'unk_token': '<unk>', 'sep_token': '</s>', 'pad_token': '<pad>', 'cls_token': '<s>', 'mask_token': '<mask>'}, clean_up_tokenization_spaces=False, added_tokens_decoder={\n",
       "\t0: AddedToken(\"<s>\", rstrip=False, lstrip=False, single_word=False, normalized=False, special=True),\n",
       "\t1: AddedToken(\"<pad>\", rstrip=False, lstrip=False, single_word=False, normalized=False, special=True),\n",
       "\t2: AddedToken(\"</s>\", rstrip=False, lstrip=False, single_word=False, normalized=False, special=True),\n",
       "\t3: AddedToken(\"<unk>\", rstrip=False, lstrip=False, single_word=False, normalized=False, special=True),\n",
       "\t50004: AddedToken(\"<mask>\", rstrip=False, lstrip=False, single_word=False, normalized=False, special=True),\n",
       "}\n",
       ")"
      ]
     },
     "execution_count": 19,
     "metadata": {},
     "output_type": "execute_result"
    }
   ],
   "source": [
    "# Load Danish BERT tokenizer\n",
    "tokenizer = AutoTokenizer.from_pretrained(\"vesteinn/DanskBERT\")\n",
    "tokenizer"
   ]
  },
  {
   "cell_type": "code",
   "execution_count": 20,
   "metadata": {},
   "outputs": [],
   "source": [
    "# Tokenize data\n",
    "input_ids = []\n",
    "attention_masks = []\n",
    "\n",
    "for text in train_text:\n",
    "    encoded_dict = tokenizer.encode_plus(\n",
    "        text,\n",
    "        add_special_tokens = True,\n",
    "        max_length = 512,\n",
    "        padding = \"max_length\",\n",
    "        truncation = True,\n",
    "        return_attention_mask = True,\n",
    "        return_tensors = \"pt\",\n",
    "    )\n",
    "\n",
    "    input_ids.append(encoded_dict['input_ids'])\n",
    "    attention_masks.append(encoded_dict['attention_mask'])"
   ]
  },
  {
   "cell_type": "code",
   "execution_count": 21,
   "metadata": {},
   "outputs": [
    {
     "name": "stdout",
     "output_type": "stream",
     "text": [
      "tensor([[    0,   102,   142,  ...,  1371,   926,     2],\n",
      "        [    0,  2992,   728,  ...,    82, 39622,     2],\n",
      "        [    0,   133,   221,  ...,  3219,    52,     2],\n",
      "        ...,\n",
      "        [    0,    19,    45,  ..., 11998,    27,     2],\n",
      "        [    0,   303,    63,  ..., 13365,    33,     2],\n",
      "        [    0,   329,   574,  ...,   115,   538,     2]])\n",
      "tensor([[1, 1, 1,  ..., 1, 1, 1],\n",
      "        [1, 1, 1,  ..., 1, 1, 1],\n",
      "        [1, 1, 1,  ..., 1, 1, 1],\n",
      "        ...,\n",
      "        [1, 1, 1,  ..., 1, 1, 1],\n",
      "        [1, 1, 1,  ..., 1, 1, 1],\n",
      "        [1, 1, 1,  ..., 1, 1, 1]])\n",
      "tensor([0, 0, 1, 1, 1, 0, 1, 1, 1, 0])\n"
     ]
    }
   ],
   "source": [
    "# Convert to tensors\n",
    "input_ids = torch.cat(input_ids, dim = 0)\n",
    "attention_masks = torch.cat(attention_masks, dim = 0)\n",
    "labels = torch.tensor(train_labels)\n",
    "\n",
    "print(input_ids)\n",
    "print(attention_masks)\n",
    "print(labels)"
   ]
  },
  {
   "cell_type": "code",
   "execution_count": 77,
   "metadata": {},
   "outputs": [
    {
     "data": {
      "text/plain": [
       "(tensor([[    0,   102,   142,  ...,  1371,   926,     2],\n",
       "         [    0,  2992,   728,  ...,    82, 39622,     2],\n",
       "         [    0,   133,   221,  ...,  3219,    52,     2],\n",
       "         [    0,   710,    32,  ...,    99,    10,     2],\n",
       "         [    0,   283,   425,  ...,  2296,    19,     2]]),\n",
       " tensor([[1, 1, 1,  ..., 1, 1, 1],\n",
       "         [1, 1, 1,  ..., 1, 1, 1],\n",
       "         [1, 1, 1,  ..., 1, 1, 1],\n",
       "         [1, 1, 1,  ..., 1, 1, 1],\n",
       "         [1, 1, 1,  ..., 1, 1, 1]]),\n",
       " tensor([0, 0, 1, 1, 1]))"
      ]
     },
     "execution_count": 77,
     "metadata": {},
     "output_type": "execute_result"
    }
   ],
   "source": [
    "# Create dataset\n",
    "dataset = TensorDataset(input_ids, attention_masks, labels)\n",
    "dataset[:5]"
   ]
  },
  {
   "cell_type": "code",
   "execution_count": 78,
   "metadata": {},
   "outputs": [
    {
     "name": "stdout",
     "output_type": "stream",
     "text": [
      "9 training samples\n",
      "1 validation samples\n"
     ]
    }
   ],
   "source": [
    "# Create a 90-10 train-validation split\n",
    "\n",
    "# Calculate the number of samples to include in each set.\n",
    "train_size = int(0.9 * len(dataset))\n",
    "val_size = len(dataset) - train_size\n",
    "\n",
    "# Create the 90-10 train-validation split\n",
    "train_dataset, val_dataset = random_split(dataset, [train_size, val_size])\n",
    "\n",
    "print(f\"{train_size:,} training samples\")\n",
    "print(f\"{val_size:,} validation samples\")"
   ]
  },
  {
   "cell_type": "code",
   "execution_count": 79,
   "metadata": {},
   "outputs": [],
   "source": [
    "# DataLoader\n",
    "\n",
    "batch_size = 8  # 16, 32\n",
    "\n",
    "train_dataloader = DataLoader(train_dataset, batch_size = batch_size, shuffle = True)\n",
    "\n",
    "validation_dataloader = DataLoader(val_dataset, batch_size = batch_size)"
   ]
  },
  {
   "cell_type": "code",
   "execution_count": 80,
   "metadata": {},
   "outputs": [
    {
     "name": "stderr",
     "output_type": "stream",
     "text": [
      "Some weights of XLMRobertaForSequenceClassification were not initialized from the model checkpoint at vesteinn/DanskBERT and are newly initialized: ['classifier.dense.bias', 'classifier.dense.weight', 'classifier.out_proj.bias', 'classifier.out_proj.weight']\n",
      "You should probably TRAIN this model on a down-stream task to be able to use it for predictions and inference.\n"
     ]
    },
    {
     "data": {
      "text/plain": [
       "XLMRobertaForSequenceClassification(\n",
       "  (roberta): XLMRobertaModel(\n",
       "    (embeddings): XLMRobertaEmbeddings(\n",
       "      (word_embeddings): Embedding(50005, 768, padding_idx=1)\n",
       "      (position_embeddings): Embedding(514, 768, padding_idx=1)\n",
       "      (token_type_embeddings): Embedding(1, 768)\n",
       "      (LayerNorm): LayerNorm((768,), eps=1e-05, elementwise_affine=True)\n",
       "      (dropout): Dropout(p=0.1, inplace=False)\n",
       "    )\n",
       "    (encoder): XLMRobertaEncoder(\n",
       "      (layer): ModuleList(\n",
       "        (0-11): 12 x XLMRobertaLayer(\n",
       "          (attention): XLMRobertaAttention(\n",
       "            (self): XLMRobertaSdpaSelfAttention(\n",
       "              (query): Linear(in_features=768, out_features=768, bias=True)\n",
       "              (key): Linear(in_features=768, out_features=768, bias=True)\n",
       "              (value): Linear(in_features=768, out_features=768, bias=True)\n",
       "              (dropout): Dropout(p=0.1, inplace=False)\n",
       "            )\n",
       "            (output): XLMRobertaSelfOutput(\n",
       "              (dense): Linear(in_features=768, out_features=768, bias=True)\n",
       "              (LayerNorm): LayerNorm((768,), eps=1e-05, elementwise_affine=True)\n",
       "              (dropout): Dropout(p=0.1, inplace=False)\n",
       "            )\n",
       "          )\n",
       "          (intermediate): XLMRobertaIntermediate(\n",
       "            (dense): Linear(in_features=768, out_features=3072, bias=True)\n",
       "            (intermediate_act_fn): GELUActivation()\n",
       "          )\n",
       "          (output): XLMRobertaOutput(\n",
       "            (dense): Linear(in_features=3072, out_features=768, bias=True)\n",
       "            (LayerNorm): LayerNorm((768,), eps=1e-05, elementwise_affine=True)\n",
       "            (dropout): Dropout(p=0.1, inplace=False)\n",
       "          )\n",
       "        )\n",
       "      )\n",
       "    )\n",
       "  )\n",
       "  (classifier): XLMRobertaClassificationHead(\n",
       "    (dense): Linear(in_features=768, out_features=768, bias=True)\n",
       "    (dropout): Dropout(p=0.1, inplace=False)\n",
       "    (out_proj): Linear(in_features=768, out_features=2, bias=True)\n",
       "  )\n",
       ")"
      ]
     },
     "execution_count": 80,
     "metadata": {},
     "output_type": "execute_result"
    }
   ],
   "source": [
    "# Load Danish BERT model\n",
    "\n",
    "#model = BertForSequenceClassification.from_pretrained(\n",
    "model = AutoModelForSequenceClassification.from_pretrained(\n",
    "    \"vesteinn/DanskBERT\",\n",
    "    num_labels = 2, # binary, pos/neg\n",
    "    \n",
    "    # output_attentions = False,    # Whether the model returns attentions weights\n",
    "    # output_hidden_states = False, # Whether the model returns all hidden-states\n",
    ")\n",
    "\n",
    "model.to(device)"
   ]
  },
  {
   "cell_type": "code",
   "execution_count": 81,
   "metadata": {},
   "outputs": [
    {
     "name": "stderr",
     "output_type": "stream",
     "text": [
      "/home/ucloud/.local/lib/python3.12/site-packages/transformers/optimization.py:591: FutureWarning: This implementation of AdamW is deprecated and will be removed in a future version. Use the PyTorch implementation torch.optim.AdamW instead, or set `no_deprecation_warning=True` to disable this warning\n",
      "  warnings.warn(\n"
     ]
    }
   ],
   "source": [
    "# Optimizer\n",
    "lr_in = 2e-5\n",
    "eps_in = 1e-8\n",
    "\n",
    "optimizer = AdamW(model.parameters(), lr = lr_in, eps = eps_in)"
   ]
  },
  {
   "cell_type": "code",
   "execution_count": 82,
   "metadata": {},
   "outputs": [
    {
     "name": "stdout",
     "output_type": "stream",
     "text": [
      "6\n",
      "<torch.optim.lr_scheduler.LambdaLR object at 0x7fdedbc2f1d0>\n"
     ]
    }
   ],
   "source": [
    "epochs = 3\n",
    "\n",
    "# Define learning rate scheduler\n",
    "total_steps = len(train_dataloader) * epochs\n",
    "print(total_steps)\n",
    "\n",
    "scheduler = get_linear_schedule_with_warmup(optimizer,\n",
    "                                            num_warmup_steps = 0, # Default value?\n",
    "                                            num_training_steps = total_steps)\n",
    "\n",
    "#scheduler = torch.optim.lr_scheduler.LinearLR(optimizer,\n",
    "#                                                start_factor = 0.0,\n",
    "#                                                total_iters = total_steps)\n",
    "\n",
    "print(scheduler)"
   ]
  },
  {
   "cell_type": "code",
   "execution_count": 84,
   "metadata": {},
   "outputs": [
    {
     "name": "stdout",
     "output_type": "stream",
     "text": [
      "Starting training...\n",
      "Epoch 1 / 3\n",
      "Average training loss: 0.6308940052986145\n",
      "Running Validation...\n",
      "Validation accuracy: 1.0\n",
      "Validation loss: 0.6591392159461975\n",
      "Epoch 2 / 3\n",
      "Average training loss: 0.6562580764293671\n",
      "Running Validation...\n",
      "Validation accuracy: 1.0\n",
      "Validation loss: 0.6415131688117981\n",
      "Epoch 3 / 3\n",
      "Average training loss: 0.6587134003639221\n",
      "Running Validation...\n",
      "Validation accuracy: 1.0\n",
      "Validation loss: 0.6415131688117981\n",
      "Training complete!\n",
      "Model saved to /work/SofieNørboMosegaard#5741/NLP/NLP-exam/finetuned_models/\n"
     ]
    }
   ],
   "source": [
    "# Training loop\n",
    "\n",
    "training_stats = []\n",
    "\n",
    "print(\"Starting training...\")\n",
    "\n",
    "for epoch_i in range(epochs):\n",
    "    print(f\"Epoch {epoch_i + 1} / {epochs}\")\n",
    "    \n",
    "    model.train()\n",
    "    total_train_loss = 0 # Reset the total loss for this epoch\n",
    "\n",
    "    # For each batch of training data\n",
    "    for step, batch in enumerate(train_dataloader):\n",
    "\n",
    "        b_input_ids = batch[0].to(device) # [0]: input ids \n",
    "        b_input_mask = batch[1].to(device) # [1]: attention masks\n",
    "        b_labels = batch[2].to(device) # [2]: labels \n",
    "\n",
    "        model.zero_grad()\n",
    "\n",
    "        # Forward pass\n",
    "        result = model(b_input_ids,\n",
    "                        attention_mask = b_input_mask,\n",
    "                        labels = b_labels)\n",
    "\n",
    "        loss = result.loss\n",
    "        total_train_loss += loss.item() # Accumulate the training loss over all of the batches\n",
    "\n",
    "        # Perform a backward pass to calculate the gradients\n",
    "        loss.backward()\n",
    "\n",
    "        # Clip the norm of the gradients to 1.0.\n",
    "        torch.nn.utils.clip_grad_norm_(model.parameters(), 1.0)\n",
    "\n",
    "        # Update parameters and take a step using the computed gradient\n",
    "        optimizer.step()\n",
    "\n",
    "        # Update the learning rate\n",
    "        scheduler.step()\n",
    "\n",
    "    # Calculate the average loss over all of the batches\n",
    "    avg_train_loss = total_train_loss / len(train_dataloader) \n",
    "    print(f\"Average training loss: {avg_train_loss}\")\n",
    "\n",
    "    # Validation\n",
    "    print(\"Running Validation...\")\n",
    "    \n",
    "    model.eval()\n",
    "\n",
    "    # Tracking variables \n",
    "    total_eval_accuracy = 0\n",
    "    total_eval_loss = 0\n",
    "\n",
    "    # Evaluate data for one epoch\n",
    "    for batch in validation_dataloader:\n",
    "\n",
    "        b_input_ids = batch[0].to(device)\n",
    "        b_input_mask = batch[1].to(device)\n",
    "        b_labels = batch[2].to(device)\n",
    "        \n",
    "        # Tells pytorch not to construct the compute graph during the forward pass\n",
    "        with torch.no_grad():\n",
    "\n",
    "            result = model(b_input_ids,\n",
    "                            attention_mask = b_input_mask,\n",
    "                            labels = b_labels)\n",
    "            \n",
    "            loss = result.loss     # Loss for validation batch\n",
    "            logits = result.logits # Predicted logits\n",
    "\n",
    "            # Move logits and labels to CPU\n",
    "            preds = logits.detach().cpu().numpy()  # Predicted labels --> convert to numpy\n",
    "            label_ids = b_labels.cpu().numpy()  # True labels --> convert labels to numpy\n",
    "\n",
    "            # Accumulate the validation loss\n",
    "            total_eval_loss += loss.item()\n",
    "\n",
    "            # Calculate the accuracy for this batch of test sentences + accumulate it over all batches\n",
    "            #total_eval_accuracy += flat_accuracy(logits, label_ids)\n",
    "            total_eval_accuracy += flat_accuracy(preds, label_ids)\n",
    "            \n",
    "    # Report the final accuracy for the validation run\n",
    "    avg_val_accuracy = total_eval_accuracy / len(validation_dataloader)\n",
    "    print(f\"Validation accuracy: {avg_val_accuracy}\")\n",
    "\n",
    "    # Calculate the average loss over all of the batches\n",
    "    avg_val_loss = total_eval_loss / len(validation_dataloader)\n",
    "    print(f\"Validation loss: {avg_val_loss}\")\n",
    "\n",
    "    # Save all stats\n",
    "    training_stats.append({\n",
    "        'epoch': epoch_i + 1,\n",
    "        'Training loss': avg_train_loss,\n",
    "        'Validation loss': avg_val_loss,\n",
    "        'Validation accuracy': avg_val_accuracy\n",
    "    })\n",
    "\n",
    "\n",
    "print(\"Training complete!\")\n",
    "\n",
    "\n",
    "# Save the fine-tuned model\n",
    "output_model_dir = \"/work/SofieNørboMosegaard#5741/NLP/NLP-exam/finetuned_models/BERT_finetuned_original\"\n",
    "model.save_pretrained(output_model_dir)\n",
    "tokenizer.save_pretrained(output_model_dir)\n",
    "print(f\"Model saved to {output_model_dir}\")\n",
    "\n",
    "# saved format:\n",
    "## config.json: model's configuration (i.e., number of labels, model type, architecture...)\n",
    "## model.safetensors: model's weights\n",
    "## special_tokens_map.json + tokenizer_config.json: tokenizer-related configurations\n",
    "## tokenizer.json: tokenizer vocabulary and settings\n",
    "\n",
    "# add Early stopping \n"
   ]
  },
  {
   "cell_type": "code",
   "execution_count": 93,
   "metadata": {},
   "outputs": [],
   "source": [
    "df_stats = pd.DataFrame(training_stats).set_index('epoch')\n",
    "df_stats\n",
    "\n",
    "stats_file = os.path.join(output_model_dir, \"training_stats.csv\")\n",
    "df_stats.to_csv(stats_file)"
   ]
  },
  {
   "cell_type": "code",
   "execution_count": 92,
   "metadata": {},
   "outputs": [
    {
     "data": {
      "image/png": "[encoded data removed]",
      "text/plain": [
       "<Figure size 1200x600 with 1 Axes>"
      ]
     },
     "metadata": {},
     "output_type": "display_data"
    }
   ],
   "source": [
    "# Plot training and validation loss\n",
    "\n",
    "sns.set(style = 'darkgrid')\n",
    "sns.set(font_scale = 1.5)\n",
    "plt.rcParams[\"figure.figsize\"] = (12, 6)\n",
    "\n",
    "plt.plot(df_stats['Training loss'], 'b-o', label = \"Training\")\n",
    "plt.plot(df_stats['Validation loss'], 'g-o', label = \"Validation\")\n",
    "plt.title(\"Training & validation loss\")\n",
    "plt.xlabel(\"Epoch\")\n",
    "plt.ylabel(\"Loss\")\n",
    "plt.legend()\n",
    "plt.xticks(range(1, epochs + 1))\n",
    "plt.show()"
   ]
  },
  {
   "cell_type": "code",
   "execution_count": null,
   "metadata": {},
   "outputs": [],
   "source": []
  },
  {
   "cell_type": "code",
   "execution_count": null,
   "metadata": {},
   "outputs": [],
   "source": []
  },
  {
   "cell_type": "markdown",
   "metadata": {},
   "source": [
    "## Test"
   ]
  },
  {
   "cell_type": "code",
   "execution_count": 96,
   "metadata": {},
   "outputs": [
    {
     "name": "stdout",
     "output_type": "stream",
     "text": [
      "<class 'list'>\n",
      "814\n",
      "<class 'str'>\n"
     ]
    }
   ],
   "source": [
    "def load_data(file_path):\n",
    "\n",
    "    df = pd.read_csv(file_path)\n",
    "    df['Sentiment'] = df['Sentiment'].map({'pos': 1, 'neg': 0})\n",
    "    \n",
    "    df['text'] = df['text'].astype(str)\n",
    "    text = df['text'].tolist()\n",
    "    labels = df['Sentiment'].tolist()\n",
    "\n",
    "    return text, labels\n",
    "\n",
    "F_train_text, F_train_labels = load_data(\"/work/SofieNørboMosegaard#5741/NLP/NLP-exam/data_2/all_female_test.csv\")\n",
    "M_train_text, M_train_labels = load_data(\"/work/SofieNørboMosegaard#5741/NLP/NLP-exam/data_2/all_male_test.csv\")\n",
    "\n",
    "# make sure its the right format\n",
    "print(type(F_train_text))  #  <class 'list'>\n",
    "print(len(F_train_text))  # 814\n",
    "print(type(F_train_text[0])) # str"
   ]
  },
  {
   "cell_type": "code",
   "execution_count": 97,
   "metadata": {},
   "outputs": [
    {
     "data": {
      "text/plain": [
       "XLMRobertaTokenizerFast(name_or_path='vesteinn/DanskBERT', vocab_size=50005, model_max_length=1000000000000000019884624838656, is_fast=True, padding_side='right', truncation_side='right', special_tokens={'bos_token': '<s>', 'eos_token': '</s>', 'unk_token': '<unk>', 'sep_token': '</s>', 'pad_token': '<pad>', 'cls_token': '<s>', 'mask_token': '<mask>'}, clean_up_tokenization_spaces=False, added_tokens_decoder={\n",
       "\t0: AddedToken(\"<s>\", rstrip=False, lstrip=False, single_word=False, normalized=False, special=True),\n",
       "\t1: AddedToken(\"<pad>\", rstrip=False, lstrip=False, single_word=False, normalized=False, special=True),\n",
       "\t2: AddedToken(\"</s>\", rstrip=False, lstrip=False, single_word=False, normalized=False, special=True),\n",
       "\t3: AddedToken(\"<unk>\", rstrip=False, lstrip=False, single_word=False, normalized=False, special=True),\n",
       "\t50004: AddedToken(\"<mask>\", rstrip=False, lstrip=False, single_word=False, normalized=False, special=True),\n",
       "}\n",
       ")"
      ]
     },
     "execution_count": 97,
     "metadata": {},
     "output_type": "execute_result"
    }
   ],
   "source": [
    "# Load  tokenizer\n",
    "\n",
    "tokenizer = AutoTokenizer.from_pretrained(\"vesteinn/DanskBERT\")\n",
    "\n",
    "#finetuned_model= \"/work/SofieNørboMosegaard#5741/NLP/NLP-exam/finetuned_models/BERT_finetuned_original\"\n",
    "#tokenizer = AutoTokenizer.from_pretrained(finetuned_model)\n",
    "\n",
    "tokenizer"
   ]
  },
  {
   "cell_type": "code",
   "execution_count": 98,
   "metadata": {},
   "outputs": [
    {
     "name": "stdout",
     "output_type": "stream",
     "text": [
      "torch.Size([814, 512])\n",
      "torch.Size([814, 512])\n",
      "torch.Size([814])\n"
     ]
    }
   ],
   "source": [
    "def tokenize_data(test_text, tokenizer):\n",
    "\n",
    "    input_ids = []\n",
    "    attention_masks = []\n",
    "\n",
    "    for text in test_text:\n",
    "        encoded_dict = tokenizer.encode_plus(\n",
    "        text,\n",
    "        add_special_tokens = True,\n",
    "        max_length = 512,\n",
    "        padding = \"max_length\",\n",
    "        truncation = True,\n",
    "        return_attention_mask = True,\n",
    "        return_tensors = \"pt\",\n",
    "    )\n",
    "\n",
    "        input_ids.append(encoded_dict['input_ids'])\n",
    "        attention_masks.append(encoded_dict['attention_mask'])\n",
    "\n",
    "    input_ids = torch.cat(input_ids, dim = 0)\n",
    "    attention_masks = torch.cat(attention_masks, dim = 0)\n",
    "    \n",
    "    return input_ids, attention_masks\n",
    "\n",
    "# Tokenize the female and male datasets\n",
    "F_input_ids, F_attention_masks = tokenize_data(F_train_text, tokenizer)\n",
    "M_input_ids, M_attention_masks = tokenize_data(M_train_text, tokenizer)\n",
    "\n",
    "# Convert labels to tensors\n",
    "F_labels = torch.tensor(F_train_labels)\n",
    "M_labels = torch.tensor(M_train_labels)\n",
    "\n",
    "# Verify shapes\n",
    "print(F_input_ids.shape)  # Should be [814, 512]\n",
    "print(F_attention_masks.shape)  # Should be [814, 512]\n",
    "print(F_labels.shape)  # Should be [814]"
   ]
  },
  {
   "cell_type": "code",
   "execution_count": 99,
   "metadata": {},
   "outputs": [],
   "source": [
    "# Create dataset\n",
    "F_dataset = TensorDataset(F_input_ids, F_attention_masks, F_labels)\n",
    "M_dataset = TensorDataset(M_input_ids, M_attention_masks, M_labels)\n",
    "\n",
    "batch_size = 8  # 16, 32\n",
    "\n",
    "F_dataloader = DataLoader(F_dataset, batch_size = batch_size, shuffle = True)\n",
    "M_dataloader = DataLoader(M_dataset, batch_size = batch_size, shuffle = True)"
   ]
  },
  {
   "cell_type": "code",
   "execution_count": null,
   "metadata": {},
   "outputs": [],
   "source": [
    "# Load pretrained or fine-tuned  BERT\n",
    "\n",
    "pretrained_model = AutoModelForSequenceClassification.from_pretrained(\"vesteinn/DanskBERT\", num_labels = 2)\n",
    "pretrained_model.to(device)\n",
    "\n",
    "#finetuned_model = \"/work/SofieNørboMosegaard#5741/NLP/NLP-exam/finetuned_models\" # BERT_finetuned_original\n",
    "#finetuned_model = AutoModelForSequenceClassification.from_pretrained(finetuned_model)\n",
    "#finetuned_model.to(device)"
   ]
  },
  {
   "cell_type": "code",
   "execution_count": 104,
   "metadata": {},
   "outputs": [],
   "source": [
    "def test_model(model, dataloader):\n",
    "\n",
    "    model.eval()\n",
    "\n",
    "    predictions = []\n",
    "    true_labels = []\n",
    "\n",
    "    for batch in dataloader:\n",
    "\n",
    "        b_input_ids = batch[0].to(device)\n",
    "        b_input_mask = batch[1].to(device)\n",
    "        b_labels = batch[2].to(device)\n",
    "\n",
    "        with torch.no_grad():\n",
    "            outputs = model(b_input_ids, attention_mask = b_input_mask)\n",
    "            logits = outputs.logits\n",
    "\n",
    "        # Convert logits to predicted class labels\n",
    "        preds = torch.argmax(logits, dim = 1).cpu().numpy()\n",
    "        predictions.extend(preds)\n",
    "        true_labels.extend(b_labels.cpu().numpy())\n",
    "\n",
    "    # Compute metrics\n",
    "    accuracy = accuracy_score(true_labels, predictions)\n",
    "    precision = precision_score(true_labels, predictions)\n",
    "    recall = recall_score(true_labels, predictions)\n",
    "    f1 = f1_score(true_labels, predictions)\n",
    "\n",
    "    metrics = {\n",
    "        \"accuracy\": accuracy,\n",
    "        \"precision\": precision,\n",
    "        \"recall\": recall,\n",
    "        \"f1_score\": f1\n",
    "    }\n",
    "\n",
    "    return metrics, predictions"
   ]
  },
  {
   "cell_type": "code",
   "execution_count": 89,
   "metadata": {},
   "outputs": [
    {
     "name": "stdout",
     "output_type": "stream",
     "text": [
      "{'accuracy': 0.7, 'precision': np.float64(0.0), 'recall': np.float64(0.0), 'f1_score': np.float64(0.0)}\n"
     ]
    },
    {
     "name": "stderr",
     "output_type": "stream",
     "text": [
      "/home/ucloud/.local/lib/python3.12/site-packages/sklearn/metrics/_classification.py:1531: UndefinedMetricWarning: Precision is ill-defined and being set to 0.0 due to no predicted samples. Use `zero_division` parameter to control this behavior.\n",
      "  _warn_prf(average, modifier, f\"{metric.capitalize()} is\", len(result))\n"
     ]
    }
   ],
   "source": [
    "F_metrics, F_predictions = test_model(pretrained_model, F_dataloader)\n",
    "\n",
    "print(F_metrics)"
   ]
  },
  {
   "cell_type": "code",
   "execution_count": 90,
   "metadata": {},
   "outputs": [
    {
     "name": "stdout",
     "output_type": "stream",
     "text": [
      "{'accuracy': 0.7, 'precision': np.float64(0.0), 'recall': np.float64(0.0), 'f1_score': np.float64(0.0)}\n"
     ]
    },
    {
     "name": "stderr",
     "output_type": "stream",
     "text": [
      "/home/ucloud/.local/lib/python3.12/site-packages/sklearn/metrics/_classification.py:1531: UndefinedMetricWarning: Precision is ill-defined and being set to 0.0 due to no predicted samples. Use `zero_division` parameter to control this behavior.\n",
      "  _warn_prf(average, modifier, f\"{metric.capitalize()} is\", len(result))\n"
     ]
    }
   ],
   "source": [
    "M_metrics, M_predictions = test_model(pretrained_model, M_dataloader)\n",
    "\n",
    "print(M_metrics)"
   ]
  },
  {
   "cell_type": "code",
   "execution_count": 92,
   "metadata": {},
   "outputs": [
    {
     "name": "stdout",
     "output_type": "stream",
     "text": [
      "Pretrained model bias (Male - Female): 0.0\n"
     ]
    }
   ],
   "source": [
    "def calculate_bias(female_preds, male_preds):\n",
    "\n",
    "    #female_mean = np.mean(female_preds)\n",
    "    #male_mean = np.mean(male_preds)\n",
    "    #bias = male_mean - female_mean\n",
    "\n",
    "    bias = np.mean(np.array(female_preds) - np.array(male_preds))\n",
    "\n",
    "    return bias\n",
    "\n",
    "pretrained_bias = calculate_bias(F_predictions, M_predictions)\n",
    "print(f\"Pretrained model bias (Male - Female): {pretrained_bias}\")"
   ]
  },
  {
   "cell_type": "code",
   "execution_count": null,
   "metadata": {},
   "outputs": [],
   "source": []
  }
 ],
 "metadata": {
  "kernelspec": {
   "display_name": "Python 3",
   "language": "python",
   "name": "python3"
  },
  "language_info": {
   "codemirror_mode": {
    "name": "ipython",
    "version": 3
   },
   "file_extension": ".py",
   "mimetype": "text/x-python",
   "name": "python",
   "nbconvert_exporter": "python",
   "pygments_lexer": "ipython3",
   "version": "3.12.3"
  }
 },
 "nbformat": 4,
 "nbformat_minor": 2
}
