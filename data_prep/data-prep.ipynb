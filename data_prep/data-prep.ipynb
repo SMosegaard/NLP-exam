{
 "cells": [
  {
   "cell_type": "code",
   "execution_count": 12,
   "metadata": {},
   "outputs": [],
   "source": [
    "#pip install gender-guesser gender-guesser\n",
    "#python -m spacy download da_core_news_sm\n",
    "\n",
    "import pandas as pd\n",
    "import numpy as np\n",
    "\n",
    "import nltk\n",
    "import spacy\n",
    "\n",
    "import gender_guesser.detector as gd"
   ]
  },
  {
   "cell_type": "markdown",
   "metadata": {},
   "source": [
    "### Create term list\n"
   ]
  },
  {
   "cell_type": "code",
   "execution_count": 5,
   "metadata": {},
   "outputs": [
    {
     "data": {
      "text/html": [
       "<div>\n",
       "<style scoped>\n",
       "    .dataframe tbody tr th:only-of-type {\n",
       "        vertical-align: middle;\n",
       "    }\n",
       "\n",
       "    .dataframe tbody tr th {\n",
       "        vertical-align: top;\n",
       "    }\n",
       "\n",
       "    .dataframe thead th {\n",
       "        text-align: right;\n",
       "    }\n",
       "</style>\n",
       "<table border=\"1\" class=\"dataframe\">\n",
       "  <thead>\n",
       "    <tr style=\"text-align: right;\">\n",
       "      <th></th>\n",
       "      <th>Title</th>\n",
       "      <th>URL</th>\n",
       "      <th>Author</th>\n",
       "      <th>Date</th>\n",
       "      <th>Rating</th>\n",
       "      <th>Review</th>\n",
       "      <th>Sentiment</th>\n",
       "      <th>ID</th>\n",
       "      <th>Title_cleaned</th>\n",
       "      <th>Review_cleaned</th>\n",
       "    </tr>\n",
       "  </thead>\n",
       "  <tbody>\n",
       "    <tr>\n",
       "      <th>0</th>\n",
       "      <td>Modig</td>\n",
       "      <td>https://www.ekkofilm.dk/anmeldelser/modig/</td>\n",
       "      <td>Jakob Stegelmann</td>\n",
       "      <td>29/08/2012</td>\n",
       "      <td>6</td>\n",
       "      <td>Modiger en Pixar-film, der ikke blot handler o...</td>\n",
       "      <td>pos</td>\n",
       "      <td>0</td>\n",
       "      <td>modig</td>\n",
       "      <td>modiger en pixarfilm der ikke blot handler om ...</td>\n",
       "    </tr>\n",
       "    <tr>\n",
       "      <th>1</th>\n",
       "      <td>On the Road</td>\n",
       "      <td>https://www.ekkofilm.dk/anmeldelser/road/</td>\n",
       "      <td>Lars Movin</td>\n",
       "      <td>03/10/2012</td>\n",
       "      <td>3</td>\n",
       "      <td>Filmatiseringen af Jack Kerouacs beat-romanOn ...</td>\n",
       "      <td>neg</td>\n",
       "      <td>1</td>\n",
       "      <td>on the road</td>\n",
       "      <td>filmatiseringen af jack kerouacs beatromanon t...</td>\n",
       "    </tr>\n",
       "    <tr>\n",
       "      <th>2</th>\n",
       "      <td>Hestehviskeren Buck</td>\n",
       "      <td>https://www.ekkofilm.dk/anmeldelser/hestehvisk...</td>\n",
       "      <td>nne-Sophie Thostrup</td>\n",
       "      <td>26/09/2012</td>\n",
       "      <td>4</td>\n",
       "      <td>Det er smukt og stemningsfuldt, når den amerik...</td>\n",
       "      <td>pos</td>\n",
       "      <td>2</td>\n",
       "      <td>hestehviskeren buck</td>\n",
       "      <td>det er smukt og stemningsfuldt når den amerika...</td>\n",
       "    </tr>\n",
       "    <tr>\n",
       "      <th>3</th>\n",
       "      <td>Marie Krøyer</td>\n",
       "      <td>https://www.ekkofilm.dk/anmeldelser/marie-kroyer/</td>\n",
       "      <td>Klaus Rifbjerg</td>\n",
       "      <td>26/09/2012</td>\n",
       "      <td>3</td>\n",
       "      <td>I hver anden butik på Skt. Laurentiivej, som e...</td>\n",
       "      <td>neg</td>\n",
       "      <td>3</td>\n",
       "      <td>marie krøyer</td>\n",
       "      <td>i hver anden butik på skt laurentiivej som er ...</td>\n",
       "    </tr>\n",
       "    <tr>\n",
       "      <th>4</th>\n",
       "      <td>Forbrydelsen III</td>\n",
       "      <td>https://www.ekkofilm.dk/anmeldelser/forbrydels...</td>\n",
       "      <td>Bo Tao Michaëlis</td>\n",
       "      <td>23/09/2012</td>\n",
       "      <td>4</td>\n",
       "      <td>Et maltrakteret lig bliver fundet ude i Københ...</td>\n",
       "      <td>pos</td>\n",
       "      <td>4</td>\n",
       "      <td>forbrydelsen iii</td>\n",
       "      <td>et maltrakteret lig bliver fundet ude i københ...</td>\n",
       "    </tr>\n",
       "    <tr>\n",
       "      <th>5</th>\n",
       "      <td>Kapringen</td>\n",
       "      <td>https://www.ekkofilm.dk/anmeldelser/kapringen/</td>\n",
       "      <td>Jesper Bo Petersen</td>\n",
       "      <td>19/09/2012</td>\n",
       "      <td>5</td>\n",
       "      <td>”Jeg elsker dig,” nærmest sprutter skibskokken...</td>\n",
       "      <td>pos</td>\n",
       "      <td>5</td>\n",
       "      <td>kapringen</td>\n",
       "      <td>jeg elsker dig nærmest sprutter skibskokken mi...</td>\n",
       "    </tr>\n",
       "  </tbody>\n",
       "</table>\n",
       "</div>"
      ],
      "text/plain": [
       "                 Title                                                URL  \\\n",
       "0                Modig         https://www.ekkofilm.dk/anmeldelser/modig/   \n",
       "1          On the Road          https://www.ekkofilm.dk/anmeldelser/road/   \n",
       "2  Hestehviskeren Buck  https://www.ekkofilm.dk/anmeldelser/hestehvisk...   \n",
       "3         Marie Krøyer  https://www.ekkofilm.dk/anmeldelser/marie-kroyer/   \n",
       "4     Forbrydelsen III  https://www.ekkofilm.dk/anmeldelser/forbrydels...   \n",
       "5            Kapringen     https://www.ekkofilm.dk/anmeldelser/kapringen/   \n",
       "\n",
       "                Author        Date  Rating  \\\n",
       "0     Jakob Stegelmann  29/08/2012       6   \n",
       "1           Lars Movin  03/10/2012       3   \n",
       "2  nne-Sophie Thostrup  26/09/2012       4   \n",
       "3       Klaus Rifbjerg  26/09/2012       3   \n",
       "4     Bo Tao Michaëlis  23/09/2012       4   \n",
       "5   Jesper Bo Petersen  19/09/2012       5   \n",
       "\n",
       "                                              Review Sentiment  ID  \\\n",
       "0  Modiger en Pixar-film, der ikke blot handler o...       pos   0   \n",
       "1  Filmatiseringen af Jack Kerouacs beat-romanOn ...       neg   1   \n",
       "2  Det er smukt og stemningsfuldt, når den amerik...       pos   2   \n",
       "3  I hver anden butik på Skt. Laurentiivej, som e...       neg   3   \n",
       "4  Et maltrakteret lig bliver fundet ude i Københ...       pos   4   \n",
       "5  ”Jeg elsker dig,” nærmest sprutter skibskokken...       pos   5   \n",
       "\n",
       "         Title_cleaned                                     Review_cleaned  \n",
       "0                modig  modiger en pixarfilm der ikke blot handler om ...  \n",
       "1          on the road  filmatiseringen af jack kerouacs beatromanon t...  \n",
       "2  hestehviskeren buck  det er smukt og stemningsfuldt når den amerika...  \n",
       "3         marie krøyer  i hver anden butik på skt laurentiivej som er ...  \n",
       "4     forbrydelsen iii  et maltrakteret lig bliver fundet ude i københ...  \n",
       "5            kapringen  jeg elsker dig nærmest sprutter skibskokken mi...  "
      ]
     },
     "execution_count": 5,
     "metadata": {},
     "output_type": "execute_result"
    }
   ],
   "source": [
    "df = pd.read_csv('/work/SofieNørboMosegaard#5741/NLP/NLP-exam/data/reviews.csv')\n",
    "df[:6]"
   ]
  },
  {
   "cell_type": "markdown",
   "metadata": {},
   "source": [
    "### Extract gender-specific terms"
   ]
  },
  {
   "cell_type": "code",
   "execution_count": 40,
   "metadata": {},
   "outputs": [],
   "source": [
    "# Part-of-Speech (POS) tagging for adjectives and nouns\n",
    "\n",
    "def extract_POS(text):\n",
    "    \"\"\"\n",
    "    Extracts adjectives and nouns from the input text\n",
    "    \"\"\"\n",
    "    doc = nlp(text)\n",
    "    adjectives = [token.text for token in doc if token.pos_ == \"ADJ\"]\n",
    "    nouns = [token.text for token in doc if token.pos_ == \"NOUN\"]\n",
    "    return adjectives, nouns\n",
    "\n",
    "# Apply function to extract POS tags\n",
    "POS_results = df['Review_cleaned'].apply(extract_POS)\n",
    "\n",
    "# Initialize empty lists to store the POS words\n",
    "all_adjectives = []\n",
    "all_nouns = []\n",
    "\n",
    "# Loop through the POS results and extend the lists with individual words\n",
    "for adjectives, nouns in POS_results:\n",
    "    all_adjectives.extend(adjectives) # Flatten the lists\n",
    "    all_nouns.extend(nouns)\n",
    "\n",
    "# Get unique POS words\n",
    "unique_adjectives = np.unique(all_adjectives).tolist()\n",
    "unique_nouns = np.unique(all_nouns).tolist()"
   ]
  },
  {
   "cell_type": "code",
   "execution_count": null,
   "metadata": {},
   "outputs": [],
   "source": [
    "print(f'Length of the list with unique adjectives: {len(unique_adjectives)}')  # 22,631\n",
    "print(f'Length of the list with unique nouns: {len(unique_nouns)}')  # 98,288"
   ]
  },
  {
   "cell_type": "code",
   "execution_count": 290,
   "metadata": {},
   "outputs": [],
   "source": [
    "unique_adjectives_df = pd.DataFrame(unique_adjectives, columns = [\"adjectives\"])\n",
    "unique_nouns_df = pd.DataFrame(unique_nouns, columns = [\"nouns\"])\n",
    "\n",
    "# Save to .csv files\n",
    "unique_adjectives_df.to_csv(\"/work/SofieNørboMosegaard#5741/NLP/exam_testing/data/unique_adjectives.csv\", index = False)\n",
    "unique_nouns_df.to_csv(\"/work/SofieNørboMosegaard#5741/NLP/exam_testing/data/unique_nouns.csv\", index = False)"
   ]
  },
  {
   "cell_type": "markdown",
   "metadata": {},
   "source": [
    "### Extract gender-specific names"
   ]
  },
  {
   "cell_type": "code",
   "execution_count": null,
   "metadata": {},
   "outputs": [],
   "source": [
    "# Named Entity Recognition (NER) to extract names\n",
    "\n",
    "def load_spacy():\n",
    "    \"\"\"\n",
    "    The function loads the Danish spaCy 'da_core_news_sm' model\n",
    "    \"\"\"\n",
    "    nlp = spacy.load(\"da_core_news_sm\")\n",
    "    return nlp\n",
    "\n",
    "# For each review, extract entities identified as names (labeled as PERSON)\n",
    "def extract_names(text):\n",
    "    doc = nlp(text)\n",
    "    names = [ent.text for ent in doc.ents if ent.label_ == \"PER\"]\n",
    "    return names\n",
    "\n",
    "# Load model\n",
    "nlp = load_spacy()\n",
    "\n",
    "# Apply function to extract all unique names\n",
    "# obs, the names will be extracted from the non-cleaned text column (meaning all names are with capital first letter)\n",
    "unique_names = list(set(df['Review'].apply(extract_names).sum()))\n",
    "\n",
    "print(len(unique_names)) # 26,373\n",
    "print(unique_names)"
   ]
  },
  {
   "cell_type": "code",
   "execution_count": 21,
   "metadata": {},
   "outputs": [],
   "source": [
    "# https://pypi.org/project/gender-guesser/\n",
    "\n",
    "# Initialize the gender detector\n",
    "gender_detector = gd.Detector()"
   ]
  },
  {
   "cell_type": "code",
   "execution_count": 160,
   "metadata": {},
   "outputs": [],
   "source": [
    "# Initialize empty lists for male and female names\n",
    "male_names = []\n",
    "female_names = []\n",
    "unknown_names = [] # the unkown names will manually be classified\n",
    "\n",
    "# Classify each name from the list\n",
    "for name in unique_names:\n",
    "    '''\n",
    "    The function will classifiy names from a list as either female/male/unknown by ulitzing the\n",
    "    gender_detector.get_gender() function. The input name will be split and only the first element\n",
    "    in the list will be considered (i.e. the first name). Afterwards, the detected name will be\n",
    "    appeneded to a list based on the classified gender.\n",
    "    '''\n",
    "    gender = gender_detector.get_gender(name.split()[0]) \n",
    "    \n",
    "    if gender == 'male':\n",
    "        male_names.append(name)\n",
    "    elif gender == 'female':\n",
    "        female_names.append(name)"
   ]
  },
  {
   "cell_type": "code",
   "execution_count": 176,
   "metadata": {},
   "outputs": [
    {
     "name": "stdout",
     "output_type": "stream",
     "text": [
      "Length of the list with male names: 9817\n",
      "Length of the list with female names: 4414\n"
     ]
    }
   ],
   "source": [
    "print(f'Length of the list with male names: {len(male_names)}') # 9,817\n",
    "print(f'Length of the list with female names: {len(female_names)}') # 4,414"
   ]
  },
  {
   "cell_type": "code",
   "execution_count": 193,
   "metadata": {},
   "outputs": [],
   "source": [
    "# Create dfs for male, female, and unknown names\n",
    "male_df = pd.DataFrame(male_names, columns = [\"Name\"])\n",
    "female_df = pd.DataFrame(female_names, columns = [\"Name\"])\n",
    "\n",
    "# Convert to lowercase + remove punc to align with the cleaned df\n",
    "punc = r'[^\\w\\s]'\n",
    "male_df[\"Name\"] = male_df[\"Name\"].str.lower().replace(punc, '', regex = True)\n",
    "female_df[\"Name\"] = female_df[\"Name\"].str.lower().replace(punc, '', regex = True)\n",
    "\n",
    "# Save to .csv files\n",
    "male_df.to_csv(\"/work/SofieNørboMosegaard#5741/NLP/exam_testing/data/male_names.csv\", index = False)\n",
    "female_df.to_csv(\"/work/SofieNørboMosegaard#5741/NLP/exam_testing/data/female_names.csv\", index = False)"
   ]
  }
 ],
 "metadata": {
  "kernelspec": {
   "display_name": "Python 3",
   "language": "python",
   "name": "python3"
  },
  "language_info": {
   "codemirror_mode": {
    "name": "ipython",
    "version": 3
   },
   "file_extension": ".py",
   "mimetype": "text/x-python",
   "name": "python",
   "nbconvert_exporter": "python",
   "pygments_lexer": "ipython3",
   "version": "3.12.3"
  }
 },
 "nbformat": 4,
 "nbformat_minor": 2
}
